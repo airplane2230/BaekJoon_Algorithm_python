{
 "cells": [
  {
   "cell_type": "code",
   "execution_count": 34,
   "metadata": {},
   "outputs": [
    {
     "name": "stdout",
     "output_type": "stream",
     "text": [
      "2 2\n",
      "1 1000000\n",
      "499999.5"
     ]
    }
   ],
   "source": [
    "import sys\n",
    "\n",
    "N, K = map(int, input().split())\n",
    "prefered = list(map(int, input().split()))\n",
    "\n",
    "min_std = float('inf')\n",
    "\n",
    "while(K != (N + 1)):\n",
    "    stride = 1\n",
    "    full_range = ((N - K) // stride) + 1\n",
    "    \n",
    "    for i in range(full_range):\n",
    "        do_list = prefered[i:(i + K)]\n",
    "        mean = sum(do_list) / K\n",
    "        var = sum([(x - mean) ** 2 for x in do_list]) / K\n",
    "        std = var ** 0.5\n",
    "        if(min_std >= std):\n",
    "            min_std = std\n",
    "    K += 1\n",
    "sys.stdout.write(str(min_std))"
   ]
  },
  {
   "cell_type": "code",
   "execution_count": null,
   "metadata": {},
   "outputs": [],
   "source": []
  }
 ],
 "metadata": {
  "kernelspec": {
   "display_name": "Python 3",
   "language": "python",
   "name": "python3"
  },
  "language_info": {
   "codemirror_mode": {
    "name": "ipython",
    "version": 3
   },
   "file_extension": ".py",
   "mimetype": "text/x-python",
   "name": "python",
   "nbconvert_exporter": "python",
   "pygments_lexer": "ipython3",
   "version": "3.7.1"
  }
 },
 "nbformat": 4,
 "nbformat_minor": 2
}
