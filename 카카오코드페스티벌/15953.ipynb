{
 "cells": [
  {
   "cell_type": "code",
   "execution_count": 10,
   "metadata": {},
   "outputs": [
    {
     "name": "stdout",
     "output_type": "stream",
     "text": [
      "8 4\n",
      "1780000\n",
      "13 19\n",
      "620000\n",
      "8 10\n",
      "1140000\n",
      "18 18\n",
      "420000\n",
      "8 25\n",
      "820000\n",
      "13 16\n",
      "620000\n"
     ]
    }
   ],
   "source": [
    "Case = int(input())\n",
    "\n",
    "def check_money(code_1, code_2):\n",
    "    if((code_1 > 0) and (code_1 < 101)):\n",
    "        if(code_1 <= 1):\n",
    "            money_1 = 5000000\n",
    "        elif(code_1 <= 3):\n",
    "            money_1 = 3000000\n",
    "        elif(code_1 <= 6):\n",
    "            money_1 = 2000000\n",
    "        elif(code_1 <= 10):\n",
    "            money_1 = 500000\n",
    "        elif(code_1 <= 15):\n",
    "            money_1 = 300000\n",
    "        elif(code_1 <= 21):\n",
    "            money_1 = 100000\n",
    "        else:\n",
    "            money_1 = 0\n",
    "    else:\n",
    "        money_1 = 0\n",
    "        \n",
    "    if((code_2 > 0) and (code_2 < 101)):\n",
    "        if(code_2 <= 1):\n",
    "            money_2 = 5120000\n",
    "        elif(code_2 <= 3):\n",
    "            money_2 = 2560000\n",
    "        elif(code_2 <= 7):\n",
    "            money_2 = 1280000\n",
    "        elif(code_2 <= 15):\n",
    "            money_2 = 640000\n",
    "        elif(code_2 <= 31):\n",
    "            money_2 = 320000\n",
    "        else:\n",
    "            money_2 = 0\n",
    "    else:\n",
    "        money_2 = 0\n",
    "        \n",
    "    return money_1 + money_2\n",
    "\n",
    "for _ in range(Case):\n",
    "    code_1, code_2 = map(int, input().split())\n",
    "    my_money = check_money(code_1, code_2)\n",
    "    print(my_money)"
   ]
  }
 ],
 "metadata": {
  "kernelspec": {
   "display_name": "Python 3",
   "language": "python",
   "name": "python3"
  },
  "language_info": {
   "codemirror_mode": {
    "name": "ipython",
    "version": 3
   },
   "file_extension": ".py",
   "mimetype": "text/x-python",
   "name": "python",
   "nbconvert_exporter": "python",
   "pygments_lexer": "ipython3",
   "version": "3.7.1"
  }
 },
 "nbformat": 4,
 "nbformat_minor": 2
}
