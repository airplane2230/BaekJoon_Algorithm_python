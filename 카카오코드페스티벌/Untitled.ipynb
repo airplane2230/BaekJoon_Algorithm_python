{
 "cells": [
  {
   "cell_type": "code",
   "execution_count": 17,
   "metadata": {},
   "outputs": [
    {
     "name": "stdout",
     "output_type": "stream",
     "text": [
      "festival==kakao&&festival==2018&&haha==123456&&hoho!=123456\n"
     ]
    }
   ],
   "source": [
    "cond = input()"
   ]
  },
  {
   "cell_type": "code",
   "execution_count": 42,
   "metadata": {},
   "outputs": [],
   "source": [
    "# 조건문에 존재하는 연산자를 찾는다.\n",
    "def find_operator(s):\n",
    "    oper_list = []\n",
    "    operators = ['==', '!=', '&&']\n",
    "    \n",
    "    for operator in operators:\n",
    "        if(operator in s):\n",
    "            oper_list.append(operator)\n",
    "            \n",
    "    return oper_list\n",
    "\n",
    "# 단어와 연산자를 갈라놓는다.\n",
    "def div_var_oper(cond):\n",
    "    var_list = []\n",
    "    oper_list = []\n",
    "    var = ''\n",
    "    oper = ''\n",
    "    \n",
    "    for piece in cond:\n",
    "        if(piece not in ['=', '!', '&']):\n",
    "            var += piece\n",
    "        else:\n",
    "            oper += piece\n",
    "            if(len(oper) == 2):\n",
    "                oper_list.append(oper)\n",
    "                var_list.append(var)\n",
    "                oper = ''\n",
    "                var = ''\n",
    "                \n",
    "    var_list.append(var)\n",
    "    return var_list, oper_list"
   ]
  },
  {
   "cell_type": "code",
   "execution_count": 43,
   "metadata": {},
   "outputs": [],
   "source": [
    "a, b = div_var_oper(cond)"
   ]
  }
 ],
 "metadata": {
  "kernelspec": {
   "display_name": "Python 3",
   "language": "python",
   "name": "python3"
  },
  "language_info": {
   "codemirror_mode": {
    "name": "ipython",
    "version": 3
   },
   "file_extension": ".py",
   "mimetype": "text/x-python",
   "name": "python",
   "nbconvert_exporter": "python",
   "pygments_lexer": "ipython3",
   "version": "3.7.1"
  }
 },
 "nbformat": 4,
 "nbformat_minor": 2
}
