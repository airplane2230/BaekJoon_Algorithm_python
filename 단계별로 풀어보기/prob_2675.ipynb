{
 "cells": [
  {
   "cell_type": "code",
   "execution_count": 26,
   "metadata": {},
   "outputs": [
    {
     "name": "stdout",
     "output_type": "stream",
     "text": [
      "2\n",
      "3 ABC\n",
      "AAABBBCCC\n",
      "5 /HTP\n",
      "/////HHHHHTTTTTPPPPP\n"
     ]
    }
   ],
   "source": [
    "T = int(input())\n",
    "\n",
    "S = dict()\n",
    "for _ in range(T):\n",
    "    repeat, words = input().split()\n",
    "    output = ''\n",
    "    for word in words:\n",
    "        output += word * int(repeat)\n",
    "    print(output)"
   ]
  },
  {
   "cell_type": "code",
   "execution_count": null,
   "metadata": {},
   "outputs": [],
   "source": [
    "# 테스트케이스 개수 입력받기\n",
    "cnt = input()\n",
    "\n",
    "# 반복횟수와 문자열을 받는다\n",
    "for _ in range(int(cnt)):\n",
    "    case = input()\n",
    "    case = case.split()\n",
    "    \n",
    "    # 입력받은 문자열의 문자를 입력받은 횟수만큼 반복해서 출력한다\n",
    "    text = ''\n",
    "    for c in case[1]:\n",
    "        text += c*int(case[0])\n",
    "    print(text)"
   ]
  }
 ],
 "metadata": {
  "kernelspec": {
   "display_name": "tensorflow",
   "language": "python",
   "name": "tensorflow"
  },
  "language_info": {
   "codemirror_mode": {
    "name": "ipython",
    "version": 3
   },
   "file_extension": ".py",
   "mimetype": "text/x-python",
   "name": "python",
   "nbconvert_exporter": "python",
   "pygments_lexer": "ipython3",
   "version": "3.6.3"
  }
 },
 "nbformat": 4,
 "nbformat_minor": 2
}
