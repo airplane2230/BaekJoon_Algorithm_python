{
 "cells": [
  {
   "cell_type": "code",
   "execution_count": 291,
   "metadata": {},
   "outputs": [
    {
     "name": "stdout",
     "output_type": "stream",
     "text": [
      "33 60\n",
      "33\n",
      "127 60\n",
      "-1\n",
      "83 143\n",
      "83\n"
     ]
    }
   ],
   "source": [
    "Case = input()\n",
    "\n",
    "clist = [list(map(int, input().split(' '))) for _ in range(int(Case))]\n",
    "\n",
    "def gcmf(a, b):\n",
    "    mod = a % b\n",
    "    while(mod > 0):\n",
    "        a = b\n",
    "        b = mod\n",
    "        mod = a % b\n",
    "    return b\n",
    "\n",
    "for M, N, x, y in clist:\n",
    "    maxv = max(M, N)\n",
    "    minv = min(M, N)\n",
    "    gcm = gcmf(maxv, minv)\n",
    "    lcm = M * N // gcm\n",
    "    \n",
    "    cnt = x % (M + 1)\n",
    "    tempY = x\n",
    "    \n",
    "    for _ in range(N):\n",
    "        ty = N if tempY % N == 0 else tempY % N\n",
    "        if(ty == y):\n",
    "            break\n",
    "            \n",
    "        tempY = ty + M\n",
    "        cnt += M\n",
    "        \n",
    "    print(-1 if (cnt > lcm) else cnt)"
   ]
  },
  {
   "cell_type": "code",
   "execution_count": null,
   "metadata": {},
   "outputs": [],
   "source": []
  }
 ],
 "metadata": {
  "kernelspec": {
   "display_name": "Python 3",
   "language": "python",
   "name": "python3"
  },
  "language_info": {
   "codemirror_mode": {
    "name": "ipython",
    "version": 3
   },
   "file_extension": ".py",
   "mimetype": "text/x-python",
   "name": "python",
   "nbconvert_exporter": "python",
   "pygments_lexer": "ipython3",
   "version": "3.7.1"
  }
 },
 "nbformat": 4,
 "nbformat_minor": 2
}
