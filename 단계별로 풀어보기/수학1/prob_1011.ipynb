{
 "cells": [
  {
   "cell_type": "code",
   "execution_count": 85,
   "metadata": {},
   "outputs": [
    {
     "name": "stdout",
     "output_type": "stream",
     "text": [
      "3\n",
      "3\n",
      "4\n"
     ]
    }
   ],
   "source": [
    "Case = input()\n",
    "\n",
    "x_to_y = [list(map(int, input().split(' '))) for _ in range(int(Case))]\n",
    "\n",
    "def work(sp, ep):\n",
    "    dist = ep - sp\n",
    "    \n",
    "    if(dist == 1):\n",
    "        return 1\n",
    "    elif(dist == 2):\n",
    "        return 2\n",
    "    \n",
    "    n = 1\n",
    "    \n",
    "    while(True):\n",
    "        if((dist >= (n ** 2 - n + 1)) & (dist <= n ** 2)):\n",
    "            return n * 2 - 1\n",
    "        elif((dist > n**2) & (dist <= (n ** 2 + n))):\n",
    "            return n * 2\n",
    "        \n",
    "        n += 1\n",
    "        \n",
    "for a, b in x_to_y:\n",
    "    print(work(a, b))"
   ]
  }
 ],
 "metadata": {
  "kernelspec": {
   "display_name": "Python 3",
   "language": "python",
   "name": "python3"
  },
  "language_info": {
   "codemirror_mode": {
    "name": "ipython",
    "version": 3
   },
   "file_extension": ".py",
   "mimetype": "text/x-python",
   "name": "python",
   "nbconvert_exporter": "python",
   "pygments_lexer": "ipython3",
   "version": "3.7.1"
  }
 },
 "nbformat": 4,
 "nbformat_minor": 2
}
