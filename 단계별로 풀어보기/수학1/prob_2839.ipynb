{
 "cells": [
  {
   "cell_type": "code",
   "execution_count": 39,
   "metadata": {},
   "outputs": [
    {
     "name": "stdout",
     "output_type": "stream",
     "text": [
      "4\n",
      "-1\n"
     ]
    }
   ],
   "source": [
    "kg = int(input())\n",
    "\n",
    "count = kg // 5\n",
    "kg = kg % 5\n",
    "\n",
    "while True:\n",
    "    if(kg % 3 == 0):\n",
    "        count += kg // 3\n",
    "        break\n",
    "    \n",
    "    count -= 1\n",
    "    if(count < 0):\n",
    "        count = -1\n",
    "        break\n",
    "        \n",
    "    kg += 5\n",
    "    \n",
    "print(count)"
   ]
  }
 ],
 "metadata": {
  "kernelspec": {
   "display_name": "tensorflow",
   "language": "python",
   "name": "tensorflow"
  },
  "language_info": {
   "codemirror_mode": {
    "name": "ipython",
    "version": 3
   },
   "file_extension": ".py",
   "mimetype": "text/x-python",
   "name": "python",
   "nbconvert_exporter": "python",
   "pygments_lexer": "ipython3",
   "version": "3.6.3"
  }
 },
 "nbformat": 4,
 "nbformat_minor": 2
}
