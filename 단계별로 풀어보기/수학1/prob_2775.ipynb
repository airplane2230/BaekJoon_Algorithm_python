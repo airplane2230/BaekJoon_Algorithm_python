{
 "cells": [
  {
   "cell_type": "code",
   "execution_count": 184,
   "metadata": {},
   "outputs": [
    {
     "name": "stdout",
     "output_type": "stream",
     "text": [
      "1\n",
      "3\n",
      "3\n",
      "15\n"
     ]
    }
   ],
   "source": [
    "Case = input()\n",
    "for _ in range(int(Case)):\n",
    "    k = int(input())\n",
    "    n = int(input())\n",
    "    num = [i for i in range(1, n + 1)]\n",
    "    for _ in range(k):\n",
    "        for j in range(1, n):\n",
    "            num[j] += num[j-1]\n",
    "    print(num[-1])"
   ]
  }
 ],
 "metadata": {
  "kernelspec": {
   "display_name": "Python 3",
   "language": "python",
   "name": "python3"
  },
  "language_info": {
   "codemirror_mode": {
    "name": "ipython",
    "version": 3
   },
   "file_extension": ".py",
   "mimetype": "text/x-python",
   "name": "python",
   "nbconvert_exporter": "python",
   "pygments_lexer": "ipython3",
   "version": "3.7.1"
  }
 },
 "nbformat": 4,
 "nbformat_minor": 2
}
