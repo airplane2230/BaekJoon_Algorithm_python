{
 "cells": [
  {
   "cell_type": "code",
   "execution_count": 26,
   "metadata": {},
   "outputs": [
    {
     "name": "stdout",
     "output_type": "stream",
     "text": [
      "19\n",
      "3\n"
     ]
    }
   ],
   "source": [
    "N = int(input())\n",
    "room = 1\n",
    "rule = 1\n",
    "num = 1\n",
    "if(N == 1):\n",
    "    print(1)\n",
    "else:\n",
    "    while True:\n",
    "        num += 6 * rule\n",
    "        room += 1\n",
    "        if(N <= num):\n",
    "            break\n",
    "        rule += 1\n",
    "    print(room)"
   ]
  }
 ],
 "metadata": {
  "kernelspec": {
   "display_name": "tensorflow",
   "language": "python",
   "name": "tensorflow"
  },
  "language_info": {
   "codemirror_mode": {
    "name": "ipython",
    "version": 3
   },
   "file_extension": ".py",
   "mimetype": "text/x-python",
   "name": "python",
   "nbconvert_exporter": "python",
   "pygments_lexer": "ipython3",
   "version": "3.6.3"
  }
 },
 "nbformat": 4,
 "nbformat_minor": 2
}
