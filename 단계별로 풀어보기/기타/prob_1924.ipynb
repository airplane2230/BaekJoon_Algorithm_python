{
 "cells": [
  {
   "cell_type": "code",
   "execution_count": 7,
   "metadata": {},
   "outputs": [
    {
     "name": "stdout",
     "output_type": "stream",
     "text": [
      "3 14\n",
      "WED\n"
     ]
    }
   ],
   "source": [
    "month_and_day = input().split(' ')\n",
    "month = int(month_and_day[0])\n",
    "day = int(month_and_day[1])\n",
    "\n",
    "day_of_month = {'1':31, '2':28, '3':31, '4':30, '5':31, '6':30, '7':31, '8':31, '9':30, '10':31, '11':30, '12':31}\n",
    "day_of_the_week = {'0':'SUN', '1':'MON', '2':'TUE', '3':'WED', '4':'THU','5':'FRI','6':'SAT'}\n",
    "\n",
    "total = 0\n",
    "for i in range(1, month):\n",
    "    total += day_of_month[str(i)]\n",
    "total += day\n",
    "print(day_of_the_week[str(total % 7)])"
   ]
  }
 ],
 "metadata": {
  "kernelspec": {
   "display_name": "tensorflow",
   "language": "python",
   "name": "tensorflow"
  },
  "language_info": {
   "codemirror_mode": {
    "name": "ipython",
    "version": 3
   },
   "file_extension": ".py",
   "mimetype": "text/x-python",
   "name": "python",
   "nbconvert_exporter": "python",
   "pygments_lexer": "ipython3",
   "version": "3.6.3"
  }
 },
 "nbformat": 4,
 "nbformat_minor": 2
}
