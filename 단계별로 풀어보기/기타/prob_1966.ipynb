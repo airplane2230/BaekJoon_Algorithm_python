{
 "cells": [
  {
   "cell_type": "code",
   "execution_count": 123,
   "metadata": {},
   "outputs": [
    {
     "name": "stdout",
     "output_type": "stream",
     "text": [
      "1 0\n",
      "5\n",
      "1\n",
      "4 2\n",
      "1 2 3 4\n",
      "2\n",
      "6 0\n",
      "1 1 9 1 1 1\n",
      "5\n"
     ]
    }
   ],
   "source": [
    "Case = int(input())\n",
    "\n",
    "def priority_print(queue, M, print_count):\n",
    "    priority = max(queue.values())\n",
    "    \n",
    "    for key, item in queue.items():\n",
    "        if(priority == item):\n",
    "            if(M == key):\n",
    "                return print_count\n",
    "            else:\n",
    "                queue.pop(key)\n",
    "                return priority_print(queue, M, print_count + 1)\n",
    "        else:\n",
    "            cur_key = key\n",
    "            cur_item = item\n",
    "            queue.pop(cur_key)\n",
    "            queue.update({cur_key: cur_item})\n",
    "            return priority_print(queue, M, print_count)\n",
    "\n",
    "for _ in range(Case):\n",
    "    # N : 문서의 수 \n",
    "    # M : 몇번째로 인쇄될지 궁금한 문서의 위치\n",
    "    N, M = map(int, input().split())\n",
    "    \n",
    "    if(N == 1):\n",
    "        dummy = input()\n",
    "        print(1)\n",
    "        continue\n",
    "    \n",
    "    num_list = map(int, input().split())\n",
    "    \n",
    "    queue = dict()\n",
    "    for i, num in enumerate(num_list):\n",
    "        queue[i] = num\n",
    "        \n",
    "    print(priority_print(queue, M, 1))"
   ]
  }
 ],
 "metadata": {
  "kernelspec": {
   "display_name": "Python 3",
   "language": "python",
   "name": "python3"
  },
  "language_info": {
   "codemirror_mode": {
    "name": "ipython",
    "version": 3
   },
   "file_extension": ".py",
   "mimetype": "text/x-python",
   "name": "python",
   "nbconvert_exporter": "python",
   "pygments_lexer": "ipython3",
   "version": "3.7.1"
  }
 },
 "nbformat": 4,
 "nbformat_minor": 2
}
