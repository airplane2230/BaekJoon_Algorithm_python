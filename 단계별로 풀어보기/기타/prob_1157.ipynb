{
 "cells": [
  {
   "cell_type": "code",
   "execution_count": 72,
   "metadata": {},
   "outputs": [
    {
     "name": "stdout",
     "output_type": "stream",
     "text": [
      "zZa\n",
      "Z\n"
     ]
    }
   ],
   "source": [
    "words = input().lower()\n",
    "words_list = list(set(words))\n",
    "word_count = list()\n",
    "\n",
    "for i in words_list:\n",
    "    count = words.count(i)\n",
    "    word_count.append(count)\n",
    "\n",
    "if(word_count.count(max(word_count)) >= 2):\n",
    "    print('?')\n",
    "else:\n",
    "    print(words_list[(word_count.index(max(word_count)))].upper())"
   ]
  }
 ],
 "metadata": {
  "kernelspec": {
   "display_name": "Python 3",
   "language": "python",
   "name": "python3"
  },
  "language_info": {
   "codemirror_mode": {
    "name": "ipython",
    "version": 3
   },
   "file_extension": ".py",
   "mimetype": "text/x-python",
   "name": "python",
   "nbconvert_exporter": "python",
   "pygments_lexer": "ipython3",
   "version": "3.7.3"
  }
 },
 "nbformat": 4,
 "nbformat_minor": 2
}
