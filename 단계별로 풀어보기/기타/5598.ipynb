{
 "cells": [
  {
   "cell_type": "code",
   "execution_count": 37,
   "metadata": {},
   "outputs": [
    {
     "name": "stdout",
     "output_type": "stream",
     "text": [
      "JOI\n"
     ]
    }
   ],
   "source": [
    "# A: 65\n",
    "# Z: 90\n",
    "transformed = input()\n",
    "result = ''\n",
    "\n",
    "# number % 26 을 수행하면 0 ~ 25 사이의 숫자를 얻을 수 있습니다.\n",
    "for cha in transformed:\n",
    "    # 먼저 0 ~ 25 범위로 변경하기 위해 65를 빼주고,\n",
    "    cha = ord(cha) - 65\n",
    "    # 3번 옮겼으니 변환전으로 돌리기 위해 3을 빼주고,\n",
    "    # A, B 같은 경우 음수가 생길 수 있으니, 다시 값의 범위 26을 더해줍니다.\n",
    "    cha = cha - 3 + 26\n",
    "    # % 26을 수행하면 음수였던 수는 X, Y, Z가 존재하는 뒤로 돌아가게 될 겁니다.\n",
    "    cha = cha % 26\n",
    "    # 본모습으로 돌아가기 위해 65를 더해줍니다.\n",
    "    cha = cha + 65\n",
    "    \n",
    "    result += chr(cha)\n",
    "    \n",
    "print(result)"
   ]
  }
 ],
 "metadata": {
  "kernelspec": {
   "display_name": "Python 3",
   "language": "python",
   "name": "python3"
  },
  "language_info": {
   "codemirror_mode": {
    "name": "ipython",
    "version": 3
   },
   "file_extension": ".py",
   "mimetype": "text/x-python",
   "name": "python",
   "nbconvert_exporter": "python",
   "pygments_lexer": "ipython3",
   "version": "3.7.3"
  }
 },
 "nbformat": 4,
 "nbformat_minor": 2
}
