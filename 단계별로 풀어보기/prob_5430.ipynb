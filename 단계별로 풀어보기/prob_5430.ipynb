{
 "cells": [
  {
   "cell_type": "code",
   "execution_count": 176,
   "metadata": {},
   "outputs": [
    {
     "name": "stdout",
     "output_type": "stream",
     "text": [
      "1\n",
      "RRRRRRR\n",
      "0\n",
      "[]\n",
      "[]\n"
     ]
    }
   ],
   "source": [
    "for i in range(int(input())):\n",
    "    q = input()\n",
    "    arr_len = int(input())\n",
    "    if(arr_len == 0):\n",
    "        input_arr = input()\n",
    "        input_arr = []\n",
    "    else:\n",
    "        input_arr = list(map(int, input()[1:-1].split(',')))\n",
    "    is_reverse = False\n",
    "    is_ok = True\n",
    "    front = 0\n",
    "    rear = 0\n",
    "    \n",
    "    for act in q:\n",
    "        try:\n",
    "            if(act == 'R'):\n",
    "                is_reverse = not is_reverse\n",
    "            elif(act == 'D' and not is_reverse):\n",
    "                front += 1\n",
    "            elif(act == 'D' and is_reverse):\n",
    "                rear += 1\n",
    "        except:\n",
    "            is_ok = False\n",
    "            print('error')\n",
    "            break\n",
    "\n",
    "    if(is_ok):\n",
    "        if(front + rear <= arr_len):\n",
    "            if(not is_reverse):\n",
    "                input_arr = input_arr[front:arr_len - rear]\n",
    "                print(str(input_arr).replace(' ', ''))\n",
    "            else:\n",
    "                input_arr = input_arr[::-1][rear:arr_len - front]\n",
    "                print(str(input_arr).replace(' ', ''))\n",
    "        else:\n",
    "            print('error')"
   ]
  },
  {
   "cell_type": "code",
   "execution_count": null,
   "metadata": {},
   "outputs": [],
   "source": []
  }
 ],
 "metadata": {
  "kernelspec": {
   "display_name": "Python 3",
   "language": "python",
   "name": "python3"
  },
  "language_info": {
   "codemirror_mode": {
    "name": "ipython",
    "version": 3
   },
   "file_extension": ".py",
   "mimetype": "text/x-python",
   "name": "python",
   "nbconvert_exporter": "python",
   "pygments_lexer": "ipython3",
   "version": "3.7.1"
  }
 },
 "nbformat": 4,
 "nbformat_minor": 2
}
