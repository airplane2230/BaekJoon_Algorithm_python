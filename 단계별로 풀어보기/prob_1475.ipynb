{
 "cells": [
  {
   "cell_type": "code",
   "execution_count": 246,
   "metadata": {},
   "outputs": [
    {
     "name": "stdout",
     "output_type": "stream",
     "text": [
      "999\n",
      "2\n"
     ]
    }
   ],
   "source": [
    "room_number = input()\n",
    "\n",
    "room_check = {'0': 0, '1':0, '2':0, '3':0, '4':0,\n",
    "             '5':0, '6':0, '7':0, '8':0}\n",
    "\n",
    "for i in range(len(room_number)):\n",
    "    if(room_number[i] in ['6', '9']):\n",
    "        room_check['6'] += 1\n",
    "    else:\n",
    "        room_check[room_number[i]] += 1\n",
    "        \n",
    "room_check['6'] = (room_check['6'] // 2) + (room_check['6'] % 2)\n",
    "print(max(room_check.values()))"
   ]
  }
 ],
 "metadata": {
  "kernelspec": {
   "display_name": "Python 3",
   "language": "python",
   "name": "python3"
  },
  "language_info": {
   "codemirror_mode": {
    "name": "ipython",
    "version": 3
   },
   "file_extension": ".py",
   "mimetype": "text/x-python",
   "name": "python",
   "nbconvert_exporter": "python",
   "pygments_lexer": "ipython3",
   "version": "3.7.1"
  }
 },
 "nbformat": 4,
 "nbformat_minor": 2
}
