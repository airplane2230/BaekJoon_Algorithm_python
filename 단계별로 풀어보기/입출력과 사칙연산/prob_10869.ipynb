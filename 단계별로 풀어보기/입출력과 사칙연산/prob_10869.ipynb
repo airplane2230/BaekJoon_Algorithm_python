{
 "cells": [
  {
   "cell_type": "code",
   "execution_count": 5,
   "metadata": {},
   "outputs": [
    {
     "name": "stdout",
     "output_type": "stream",
     "text": [
      "7 3\n",
      "10\n",
      "4\n",
      "21\n",
      "2\n",
      "1\n"
     ]
    }
   ],
   "source": [
    "data = input().split(' ')\n",
    "a = int(data[0])\n",
    "b = int(data[1])\n",
    "\n",
    "if(a < 1 or b> 10000):\n",
    "    raise ValueError('Error')\n",
    "\n",
    "def combine(a, b):\n",
    "    print(a + b) \n",
    "    print(a - b)\n",
    "    print(a * b)\n",
    "    print(int(a / b))\n",
    "    print(a % b)\n",
    "\n",
    "combine(a, b)"
   ]
  }
 ],
 "metadata": {
  "kernelspec": {
   "display_name": "tensorflow",
   "language": "python",
   "name": "tensorflow"
  },
  "language_info": {
   "codemirror_mode": {
    "name": "ipython",
    "version": 3
   },
   "file_extension": ".py",
   "mimetype": "text/x-python",
   "name": "python",
   "nbconvert_exporter": "python",
   "pygments_lexer": "ipython3",
   "version": "3.6.3"
  }
 },
 "nbformat": 4,
 "nbformat_minor": 2
}
