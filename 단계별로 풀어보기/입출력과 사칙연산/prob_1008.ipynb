{
 "cells": [
  {
   "cell_type": "code",
   "execution_count": 2,
   "metadata": {},
   "outputs": [
    {
     "name": "stdout",
     "output_type": "stream",
     "text": [
      "1 3\n",
      "0.3333333333333333\n"
     ]
    }
   ],
   "source": [
    "data = input().split(' ')\n",
    "\n",
    "a = int(data[0])\n",
    "b = int(data[1])\n",
    "\n",
    "if(a <1 or b > 9):\n",
    "    raise ValueError('error!')\n",
    "\n",
    "def divd(a, b):\n",
    "    return a / b\n",
    "\n",
    "print(divd(a, b))"
   ]
  },
  {
   "cell_type": "code",
   "execution_count": null,
   "metadata": {},
   "outputs": [],
   "source": []
  }
 ],
 "metadata": {
  "kernelspec": {
   "display_name": "tensorflow",
   "language": "python",
   "name": "tensorflow"
  },
  "language_info": {
   "codemirror_mode": {
    "name": "ipython",
    "version": 3
   },
   "file_extension": ".py",
   "mimetype": "text/x-python",
   "name": "python",
   "nbconvert_exporter": "python",
   "pygments_lexer": "ipython3",
   "version": "3.6.3"
  }
 },
 "nbformat": 4,
 "nbformat_minor": 2
}
