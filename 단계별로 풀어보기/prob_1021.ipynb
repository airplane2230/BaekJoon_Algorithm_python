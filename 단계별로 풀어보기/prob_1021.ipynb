{
 "cells": [
  {
   "cell_type": "code",
   "execution_count": 30,
   "metadata": {},
   "outputs": [
    {
     "name": "stdout",
     "output_type": "stream",
     "text": [
      "10 3\n",
      "1 2 3\n",
      "0"
     ]
    }
   ],
   "source": [
    "import sys\n",
    "\n",
    "# N, M = map(int, sys.stdin.readline().split())\n",
    "N, M = map(int, input().split())\n",
    "elements = [x for x in range(1, N + 1)]\n",
    "# position = list(map(int, sys.stdin.readline().split()))\n",
    "position = list(map(int, input().split()))\n",
    "count = 0\n",
    "\n",
    "for i in range(len(position)):\n",
    "    left = 0\n",
    "    right = 0\n",
    "    memory = [0] * len(elements)\n",
    "    \n",
    "    if(elements[0] == position[i]):\n",
    "        del elements[0]\n",
    "    else:\n",
    "        for j in range(len(elements)):\n",
    "            memory[j] = elements[j]\n",
    "        \n",
    "        # 오른쪽으로 옮기는 경우\n",
    "        while memory[0] != position[i]:\n",
    "            memory.insert(0, memory[-1])\n",
    "            del memory[-1]\n",
    "            right += 1\n",
    "            \n",
    "        # 왼쪽으로 옮기는 경우\n",
    "        while elements[0] != position[i]:\n",
    "            elements.append(elements[0])\n",
    "            del elements[0]\n",
    "            left += 1\n",
    "            \n",
    "        if(right >= left):\n",
    "            count = count + left\n",
    "        else:\n",
    "            count = count + right\n",
    "            elements = memory\n",
    "            \n",
    "        del elements[0]\n",
    "sys.stdout.write(str(count))"
   ]
  }
 ],
 "metadata": {
  "kernelspec": {
   "display_name": "Python 3",
   "language": "python",
   "name": "python3"
  },
  "language_info": {
   "codemirror_mode": {
    "name": "ipython",
    "version": 3
   },
   "file_extension": ".py",
   "mimetype": "text/x-python",
   "name": "python",
   "nbconvert_exporter": "python",
   "pygments_lexer": "ipython3",
   "version": "3.7.1"
  }
 },
 "nbformat": 4,
 "nbformat_minor": 2
}
