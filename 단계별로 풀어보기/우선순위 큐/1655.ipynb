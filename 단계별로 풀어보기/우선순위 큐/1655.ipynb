{
 "cells": [
  {
   "cell_type": "code",
   "execution_count": 6,
   "metadata": {},
   "outputs": [
    {
     "name": "stdout",
     "output_type": "stream",
     "text": [
      "7\n"
     ]
    }
   ],
   "source": [
    "import sys\n",
    "import heapq\n",
    "\n",
    "input = sys.stdin.readline\n",
    "\n",
    "N = int(input())\n",
    "left, right = [], []\n",
    "\n",
    "for _ in range(N):\n",
    "    x = int(input())\n",
    "    \n",
    "    if(len(left) == len(right)):\n",
    "        heapq.heappush(left, (-x, x))\n",
    "    else:\n",
    "        heapq.heappush(right, (x, x))\n",
    "        \n",
    "    if right and left[0][1] > right[0][1]:\n",
    "        left_value = heapq.heappop(left)[1]\n",
    "        right_value = heapq.heappop(right)[1]\n",
    "        \n",
    "        heapq.heappush(left, (-right_value, right_value))\n",
    "        heapq.heappush(right, (left_value, left_value))\n",
    "        \n",
    "    print(left[0][1])"
   ]
  }
 ],
 "metadata": {
  "kernelspec": {
   "display_name": "Python 3",
   "language": "python",
   "name": "python3"
  }
 },
 "nbformat": 4,
 "nbformat_minor": 2
}
