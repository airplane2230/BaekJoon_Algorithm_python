{
 "cells": [
  {
   "cell_type": "markdown",
   "metadata": {},
   "source": [
    "## heapq 사용"
   ]
  },
  {
   "cell_type": "code",
   "execution_count": null,
   "metadata": {},
   "outputs": [],
   "source": [
    "import heapq\n",
    "import sys\n",
    "\n",
    "input = sys.stdin.readline\n",
    "\n",
    "N = int(input())\n",
    "arr = []\n",
    "\n",
    "for _ in range(N):\n",
    "    x = int(input())\n",
    "    \n",
    "    # pop\n",
    "    if(x == 0):\n",
    "        if not arr:\n",
    "            print(0)\n",
    "        else:\n",
    "            # heapq는 음수만 지원하기 떄문에\n",
    "            # 문제에 알맞게 최댓값을 출력하기 위해서는 -1을 곱해준다\n",
    "            print(-1 * heapq.heappop(arr))\n",
    "            \n",
    "    # push\n",
    "    else:\n",
    "        heapq.heappush(arr, (-x))"
   ]
  }
 ],
 "metadata": {
  "kernelspec": {
   "display_name": "Python 3",
   "language": "python",
   "name": "python3"
  },
  "language_info": {
   "codemirror_mode": {
    "name": "ipython",
    "version": 3
   },
   "file_extension": ".py",
   "mimetype": "text/x-python",
   "name": "python",
   "nbconvert_exporter": "python",
   "pygments_lexer": "ipython3",
   "version": "3.7.3"
  }
 },
 "nbformat": 4,
 "nbformat_minor": 2
}
