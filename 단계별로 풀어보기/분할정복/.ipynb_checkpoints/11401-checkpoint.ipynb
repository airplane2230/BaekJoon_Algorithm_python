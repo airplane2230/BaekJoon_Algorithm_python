{
 "cells": [
  {
   "cell_type": "code",
   "execution_count": 11,
   "metadata": {},
   "outputs": [
    {
     "name": "stdout",
     "output_type": "stream",
     "text": [
      "10\n"
     ]
    }
   ],
   "source": [
    "# 거듭제곱을 빠르게 구하는 방법은 \n",
    "# 백준 1629번을 참고하세요.\n",
    "def solve(A, B):\n",
    "    if(B % 2 > 0):\n",
    "        return solve(A, B - 1) * A\n",
    "    elif(B == 0):\n",
    "        return 1\n",
    "    elif(B == 1):\n",
    "        return A\n",
    "    else:\n",
    "        result = solve(A, B//2)\n",
    "        return result ** 2 % p\n",
    "\n",
    "N, K = map(int, input().split())    \n",
    "\n",
    "n_part = 1\n",
    "nk_part = 1\n",
    "\n",
    "p =  1000000007\n",
    "\n",
    "# N! 부분\n",
    "for num in range(1, N+1):\n",
    "    n_part *= num; n_part %= p\n",
    "\n",
    "# K! 부분\n",
    "for num in range(1, K+1):\n",
    "    nk_part *= num; nk_part %= p\n",
    "\n",
    "# (N-K)! 부분\n",
    "for num in range(1, N-K+1):\n",
    "    nk_part *= num; nk_part %= p\n",
    "    \n",
    "# (p-2) 제곱 부분은 거듭제곱을 빠르게 구하는 방법을\n",
    "# 그대로 가져와서 사용합니다.\n",
    "nk_part = solve(nk_part, p-2) % p\n",
    "\n",
    "result = (n_part * nk_part) % p\n",
    "print(result)"
   ]
  }
 ],
 "metadata": {
  "kernelspec": {
   "display_name": "Python 3",
   "language": "python",
   "name": "python3"
  },
  "language_info": {
   "codemirror_mode": {
    "name": "ipython",
    "version": 3
   },
   "file_extension": ".py",
   "mimetype": "text/x-python",
   "name": "python",
   "nbconvert_exporter": "python",
   "pygments_lexer": "ipython3",
   "version": "3.7.1"
  }
 },
 "nbformat": 4,
 "nbformat_minor": 2
}
