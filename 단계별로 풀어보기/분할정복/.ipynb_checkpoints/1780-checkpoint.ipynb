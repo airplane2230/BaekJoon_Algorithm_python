{
 "cells": [
  {
   "cell_type": "code",
   "execution_count": 2,
   "metadata": {},
   "outputs": [
    {
     "name": "stdout",
     "output_type": "stream",
     "text": [
      "9\n",
      "0 0 0 1 1 1 -1 -1 -1\n",
      "0 0 0 1 1 1 -1 -1 -1\n",
      "0 0 0 1 1 1 -1 -1 -1\n",
      "1 1 1 0 0 0 0 0 0\n",
      "1 1 1 0 0 0 0 0 0\n",
      "1 1 1 0 0 0 0 0 0\n",
      "0 1 -1 0 1 -1 0 1 -1\n",
      "0 -1 1 0 1 -1 0 1 -1\n",
      "0 1 -1 1 0 -1 0 1 -1\n"
     ]
    }
   ],
   "source": [
    "N = int(input())\n",
    "\n",
    "paper = [list(map(int, input().split())) for _ in range(N)]\n",
    "\n",
    "neg = 0\n",
    "neut = 0\n",
    "pos = 0\n",
    "\n",
    "def clip_paper(x, y, n):\n",
    "    global neg, neut, pos\n",
    "    \n",
    "    num_check = paper[x][y]\n",
    "    for i in range(x, x + n):\n",
    "        for j in range(y, y + n):\n",
    "            if(paper[i][j] != num_check):\n",
    "                for k in range(3):\n",
    "                    for l in range(3):\n",
    "                        clip_paper(x + k * n//3, y + l * n//3, n//3)\n",
    "                return\n",
    "            \n",
    "    if(num_check == -1):\n",
    "        neg += 1\n",
    "    elif(num_check == 0):\n",
    "        neut += 1\n",
    "    else:\n",
    "        pos += 1\n",
    "        \n",
    "clip_paper(0, 0, N)\n",
    "print(f'{neg}\\n{neut}\\n{pos}')"
   ]
  }
 ],
 "metadata": {
  "kernelspec": {
   "display_name": "Python 3",
   "language": "python",
   "name": "python3"
  },
  "language_info": {
   "codemirror_mode": {
    "name": "ipython",
    "version": 3
   },
   "file_extension": ".py",
   "mimetype": "text/x-python",
   "name": "python",
   "nbconvert_exporter": "python",
   "pygments_lexer": "ipython3",
   "version": "3.7.1"
  }
 },
 "nbformat": 4,
 "nbformat_minor": 2
}
