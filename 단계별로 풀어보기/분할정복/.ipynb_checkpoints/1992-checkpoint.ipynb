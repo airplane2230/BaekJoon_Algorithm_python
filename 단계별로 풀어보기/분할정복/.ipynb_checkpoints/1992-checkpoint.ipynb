{
 "cells": [
  {
   "cell_type": "code",
   "execution_count": 31,
   "metadata": {},
   "outputs": [
    {
     "name": "stdout",
     "output_type": "stream",
     "text": [
      "8\n",
      "11110000\n",
      "11110000\n",
      "00011100\n",
      "00011100\n",
      "11110000\n",
      "11110000\n",
      "11110011\n",
      "11110011\n"
     ]
    }
   ],
   "source": [
    "N = int(input())\n",
    "\n",
    "image = [list(map(int, input())) for _ in range(N)]\n",
    "\n",
    "def quadtree(x, y, n):\n",
    "    # n = 1, 하나의 픽셀만 볼 경우,\n",
    "    if(n == 1):\n",
    "        return str(image[x][y])\n",
    "    \n",
    "    result = []\n",
    "    for i in range(x, x + n):\n",
    "        for j in range(y, y + n):\n",
    "            # 색이 다르면, 다시 분할하자.\n",
    "            if(image[i][j] != image[x][y]):\n",
    "                # append와 extend의 차이는\n",
    "                # extend는 list, tuple, dict 등의 iterable object를\n",
    "                # python list의 끝에 append 해주는 것.\n",
    "                result.append('(')\n",
    "                result.extend(quadtree(x, y, n//2))\n",
    "                result.extend(quadtree(x, y + n//2, n//2))\n",
    "                result.extend(quadtree(x + n//2, y, n//2))\n",
    "                result.extend(quadtree(x + n//2, y + n//2, n//2))\n",
    "                result.append(')')\n",
    "                \n",
    "                return result\n",
    "            \n",
    "    return str(image[x][y])\n",
    "    \n",
    "print(''.join(quadtree(0, 0, N)))"
   ]
  },
  {
   "cell_type": "code",
   "execution_count": 41,
   "metadata": {},
   "outputs": [
    {
     "name": "stdout",
     "output_type": "stream",
     "text": [
      "((110(0101))(0010)1(0001))\n"
     ]
    }
   ],
   "source": []
  },
  {
   "cell_type": "code",
   "execution_count": null,
   "metadata": {},
   "outputs": [],
   "source": []
  }
 ],
 "metadata": {
  "kernelspec": {
   "display_name": "Python 3",
   "language": "python",
   "name": "python3"
  },
  "language_info": {
   "codemirror_mode": {
    "name": "ipython",
    "version": 3
   },
   "file_extension": ".py",
   "mimetype": "text/x-python",
   "name": "python",
   "nbconvert_exporter": "python",
   "pygments_lexer": "ipython3",
   "version": "3.7.1"
  }
 },
 "nbformat": 4,
 "nbformat_minor": 2
}
