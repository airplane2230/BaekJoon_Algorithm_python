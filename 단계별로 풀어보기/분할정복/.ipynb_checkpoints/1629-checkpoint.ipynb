{
 "cells": [
  {
   "cell_type": "code",
   "execution_count": 17,
   "metadata": {},
   "outputs": [
    {
     "name": "stdout",
     "output_type": "stream",
     "text": [
      "10 11 12\n",
      "40\n"
     ]
    }
   ],
   "source": [
    "A, B, C = map(int, input().split())\n",
    "\n",
    "def solve(A, B):\n",
    "    if(B % 2 > 0):\n",
    "        return solve(A, B - 1) * A\n",
    "    elif(B == 0):\n",
    "        return 1\n",
    "    elif(B == 1):\n",
    "        return A\n",
    "    else:\n",
    "        # 10^11에서 11을 %2 해줄때의 경우는 홀수와 짝수로 나뉘게 된다.\n",
    "        # 첫 시작부터 % 12를 붙이고 끝까지 계산을 해보면,\n",
    "        # 왜 result ** 2 % C가 필요한지 알 수 있다.\n",
    "        result = solve(A, B//2)\n",
    "        return result ** 2 % C\n",
    "\n",
    "# 식을 보는 도중, 여기서 왜 또 %C를 해주는지 헷갈릴 수 있는데,\n",
    "# solve(A, B)는 (10, 11)의 결괏값이고,\n",
    "# (10, 11) % C는 문제가 원하는 정답이다.\n",
    "print(solve(A, B) % C)"
   ]
  }
 ],
 "metadata": {
  "kernelspec": {
   "display_name": "Python 3",
   "language": "python",
   "name": "python3"
  },
  "language_info": {
   "codemirror_mode": {
    "name": "ipython",
    "version": 3
   },
   "file_extension": ".py",
   "mimetype": "text/x-python",
   "name": "python",
   "nbconvert_exporter": "python",
   "pygments_lexer": "ipython3",
   "version": "3.7.1"
  }
 },
 "nbformat": 4,
 "nbformat_minor": 2
}
