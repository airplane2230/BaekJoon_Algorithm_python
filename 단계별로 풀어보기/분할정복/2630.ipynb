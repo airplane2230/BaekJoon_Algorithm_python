{
 "cells": [
  {
   "cell_type": "code",
   "execution_count": null,
   "metadata": {},
   "outputs": [],
   "source": [
    "N = int(input())\n",
    "square = [[0] * 8] * N\n",
    "\n",
    "for i in range(N):\n",
    "    row = list(map(int, input().split()))\n",
    "    square[i] = row\n",
    "\n",
    "blue = 0\n",
    "white = 0\n",
    "\n",
    "# 세로 방향 x, 가로 방향 y\n",
    "# 사분면\n",
    "def split(x, y, n):\n",
    "    # 전역 변수\n",
    "    global blue, white\n",
    "    paper_check = square[x][y]\n",
    "    \n",
    "    for i in range(x, x + n):\n",
    "        for j in range(y, y + n):\n",
    "            # paper_check과 같은 숫자가 아니면, 같은 색이 아니므로\n",
    "            # 분리해서 다시 판단하도록 해줍니다.\n",
    "            if(paper_check != square[i][j]):\n",
    "                split(x, y, n//2) # 왼쪽 위\n",
    "                split(x + n//2, y, n//2), # 오른쪽 위\n",
    "                split(x, y + n//2, n//2) # 왼쪽 아래\n",
    "                split(x + n//2, y + n//2, n//2) # 오른쪽 아래\n",
    "                return\n",
    "    \n",
    "    if paper_check:\n",
    "        blue += 1\n",
    "    else:\n",
    "        white += 1\n",
    "\n",
    "split(0, 0, N)\n",
    "print(f'{white}\\n{blue}')"
   ]
  }
 ],
 "metadata": {
  "kernelspec": {
   "display_name": "Python 3",
   "language": "python",
   "name": "python3"
  },
  "language_info": {
   "codemirror_mode": {
    "name": "ipython",
    "version": 3
   },
   "file_extension": ".py",
   "mimetype": "text/x-python",
   "name": "python",
   "nbconvert_exporter": "python",
   "pygments_lexer": "ipython3",
   "version": "3.7.1"
  }
 },
 "nbformat": 4,
 "nbformat_minor": 2
}
