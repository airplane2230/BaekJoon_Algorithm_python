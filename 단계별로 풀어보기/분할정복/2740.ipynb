{
 "cells": [
  {
   "cell_type": "code",
   "execution_count": 19,
   "metadata": {},
   "outputs": [
    {
     "name": "stdout",
     "output_type": "stream",
     "text": [
      "3 2\n",
      "1 2\n",
      "3 4\n",
      "5 6\n"
     ]
    }
   ],
   "source": [
    "# A 행렬을 선언합니다.\n",
    "N, A_M = map(int, input().split())\n",
    "A = []\n",
    "for _ in range(N):\n",
    "    A.append(list(map(int, input().split())))\n",
    "    \n",
    "# B 행렬을 선언합니다.\n",
    "B_M, K = map(int, input().split())\n",
    "B = []\n",
    "for _ in range(B_M):\n",
    "    B.append(list(map(int, input().split())))\n",
    "    \n",
    "result = []\n",
    "\n",
    "# A에서 각 row에 해당하는 list를 가져옵니다.\n",
    "for A_subset in A:\n",
    "    # A_subset row의 n 번째 원소는 B의 n 번째 col과 곱해집니다.\n",
    "    # 곱한 후, 더해주면 결과 행렬의 n 번째 row가 만들어집니다.\n",
    "    # 이를 위해 열 갯수만큼의 B_subset을 만듭니다.\n",
    "    B_subset = [0] * K\n",
    "    # A_subset의 col 갯수만큼 for-loop가 반복됩니다.\n",
    "    for i, ele in enumerate(A_subset):\n",
    "        # A_subset row의 i 번째 숫자와 B의 i 번째 행에 해당하는 수를 곱합니다.\n",
    "        # 숫자와 행을 바로 곱하는 작업은 선형 조합(맞나?)를 생각해보면 쉽습니다.\n",
    "        target_subset = [ele * num for num in B[i]]\n",
    "        # B_subset에 전부 더해주면 끝\n",
    "        B_subset = [sum(x) for x in zip(B_subset, target_subset)]\n",
    "    result.append(B_subset)\n",
    "    \n",
    "for row in result:\n",
    "    print(*row)"
   ]
  }
 ],
 "metadata": {
  "kernelspec": {
   "display_name": "Python 3",
   "language": "python",
   "name": "python3"
  },
  "language_info": {
   "codemirror_mode": {
    "name": "ipython",
    "version": 3
   },
   "file_extension": ".py",
   "mimetype": "text/x-python",
   "name": "python",
   "nbconvert_exporter": "python",
   "pygments_lexer": "ipython3",
   "version": "3.7.3"
  }
 },
 "nbformat": 4,
 "nbformat_minor": 2
}
