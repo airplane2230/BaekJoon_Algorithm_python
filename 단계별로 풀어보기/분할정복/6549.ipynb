{
 "cells": [
  {
   "cell_type": "markdown",
   "metadata": {},
   "source": [
    "## TimeOut"
   ]
  },
  {
   "cell_type": "code",
   "execution_count": null,
   "metadata": {},
   "outputs": [],
   "source": [
    "def solve(index, heights):\n",
    "    cur_height = heights[index]\n",
    "    \n",
    "    left_cand = 0\n",
    "    right_cand = 0\n",
    "    \n",
    "    # 왼쪽 높이부터 계산\n",
    "    if(index > 0):\n",
    "        for li in range(index - 1, -1, -1):\n",
    "            if(cur_height <= heights[li]):\n",
    "                left_cand += 1\n",
    "            else:\n",
    "                break\n",
    "                \n",
    "    for ri in range(index + 1, n, 1):\n",
    "        if(cur_height <= heights[ri]):\n",
    "            right_cand += 1\n",
    "        else:\n",
    "            break\n",
    "                \n",
    "    left_area = cur_height * left_cand\n",
    "    right_area = cur_height * right_cand\n",
    "    total_area = cur_height + left_area + right_area\n",
    "    \n",
    "    return total_area\n",
    "\n",
    "while True:\n",
    "    n, *heights = list(map(int, input().split()))\n",
    "    if(n == 0):\n",
    "        break\n",
    "    result = []\n",
    "    \n",
    "    for i in range(n):\n",
    "        result.append(solve(i, heights))\n",
    "    \n",
    "    print(max(result))"
   ]
  },
  {
   "cell_type": "code",
   "execution_count": null,
   "metadata": {
    "scrolled": true
   },
   "outputs": [],
   "source": [
    "while True:\n",
    "    n, *heights = list(map(int, input().split()))\n",
    "    if(n == 0):\n",
    "        break\n",
    "    \n",
    "    # 첫 시점의 계산을 위해 0을 맨 앞에 추가하고,\n",
    "    heights.insert(0, 0)\n",
    "    # 마지막 사각형 계산을 위해 0을 끝에 추가합니다.\n",
    "    heights += [0]\n",
    "    checked = [0]\n",
    "    area = 0\n",
    "    \n",
    "    # 현재 높이보다 이전 높이가 높으면, while에 진입합니다.\n",
    "    # 현재 높이가 더 낮은 경우, 넓이를 이어서 계산할 수 없으므로\n",
    "    # 이전 시점까지 저장됬던 사각형의 높이를 계산합니다.\n",
    "    # 끝 사각형도 고려해야 하므로, n+1까지 반복합니다.\n",
    "    for i in range(1, n + 2):\n",
    "        # heights[checked[-1]]은 이전 시점의 사각형 높이\n",
    "        # heights[i]는 현재 시점의 사각형 높이\n",
    "        # heights[checked[-1]] > heights[i]는 현재 높이보다 이전 높이가 높은지 확인\n",
    "        while(checked and (heights[checked[-1]] > heights[i])):\n",
    "            # 비교할 사각형 index\n",
    "            cur_height = checked.pop()\n",
    "            # (i - 1 - checked[-1])은 cur_height와 현재 시점 사이에 몇 개의 사각형이 존재하는지를 판단\n",
    "            area = max(area, (i - 1 - checked[-1]) * heights[cur_height])\n",
    "        checked.append(i)\n",
    "    print(area)"
   ]
  }
 ],
 "metadata": {
  "kernelspec": {
   "display_name": "Python 3",
   "language": "python",
   "name": "python3"
  },
  "language_info": {
   "codemirror_mode": {
    "name": "ipython",
    "version": 3
   },
   "file_extension": ".py",
   "mimetype": "text/x-python",
   "name": "python",
   "nbconvert_exporter": "python",
   "pygments_lexer": "ipython3",
   "version": "3.7.3"
  }
 },
 "nbformat": 4,
 "nbformat_minor": 2
}
