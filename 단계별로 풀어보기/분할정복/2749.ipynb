{
 "cells": [
  {
   "cell_type": "code",
   "execution_count": 17,
   "metadata": {},
   "outputs": [
    {
     "name": "stdout",
     "output_type": "stream",
     "text": [
      "1000\n",
      "228875\n"
     ]
    }
   ],
   "source": [
    "def make_matrix(A, matrix):\n",
    "    dummy_matrix = [[0 for _ in range(2)] for _ in range(2)]\n",
    "    \n",
    "    for i in range(2):\n",
    "        for j in range(2):\n",
    "            for k in range(2):\n",
    "                dummy_matrix[i][j] += (matrix[i][k] * A[k][j])\n",
    "            dummy_matrix[i][j] %= 1000000\n",
    "\n",
    "    return dummy_matrix\n",
    "\n",
    "def matmul(A, B):\n",
    "    if(B == 1):\n",
    "        for i in range(2):\n",
    "            for j in range(2):\n",
    "                A[i][j] %= 1000000\n",
    "       \n",
    "        return A\n",
    "    \n",
    "    elif((B%2) == 1):\n",
    "        matrix = matmul(A, B-1)\n",
    "        new_matrix = make_matrix(A, matrix)\n",
    "    \n",
    "        return new_matrix\n",
    "    \n",
    "    else:\n",
    "        matrix = matmul(A, B//2)\n",
    "        new_matrix = make_matrix(matrix, matrix)\n",
    "    \n",
    "        return new_matrix\n",
    "\n",
    "N = int(input())\n",
    "\n",
    "A = [[1, 1], [1, 0]]\n",
    "result = matmul(A, N)\n",
    "\n",
    "print(result[0][1] % 1000000)"
   ]
  }
 ],
 "metadata": {
  "kernelspec": {
   "display_name": "Python 3",
   "language": "python",
   "name": "python3"
  },
  "language_info": {
   "codemirror_mode": {
    "name": "ipython",
    "version": 3
   },
   "file_extension": ".py",
   "mimetype": "text/x-python",
   "name": "python",
   "nbconvert_exporter": "python",
   "pygments_lexer": "ipython3",
   "version": "3.7.3"
  }
 },
 "nbformat": 4,
 "nbformat_minor": 2
}
