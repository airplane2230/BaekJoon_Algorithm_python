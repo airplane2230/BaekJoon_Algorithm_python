{
 "cells": [
  {
   "cell_type": "code",
   "execution_count": 144,
   "metadata": {},
   "outputs": [
    {
     "name": "stdout",
     "output_type": "stream",
     "text": [
      "2 5\n",
      "1 2\n",
      "3 4\n",
      "69 558\n",
      "337 406\n"
     ]
    }
   ],
   "source": [
    "def make_matrix(A, matrix):\n",
    "    # [[0]*2]*2 로 하면 리스트가 공유되서 다른 결과가 나옴\n",
    "    dummy_matrix = [[0 for _ in range(N)] for _ in range(N)]\n",
    "    \n",
    "    # 행렬곱에서 사용한 방법은 시간 초과\n",
    "    for i in range(N):\n",
    "        for j in range(N):\n",
    "            for k in range(N):\n",
    "                dummy_matrix[i][j] += (matrix[i][k] * A[k][j])\n",
    "            dummy_matrix[i][j] %= 1000\n",
    "\n",
    "    return dummy_matrix\n",
    "\n",
    "def matmul(A, B):\n",
    "    if(B == 1):\n",
    "        for i in range(N):\n",
    "            for j in range(N):\n",
    "                A[i][j] %= 1000\n",
    "       \n",
    "        return A\n",
    "    \n",
    "    # 홀수인 경우엔, A를 마지막에 곱해주어야 합니다.\n",
    "    # ex) AAAAA -> (A^2)^2 * A\n",
    "    elif((B%2) == 1):\n",
    "        matrix = matmul(A, B-1)\n",
    "        new_matrix = make_matrix(A, matrix)\n",
    "    \n",
    "        return new_matrix\n",
    "    \n",
    "    # 짝수인 경우엔, 제곱수로 계속해서 곱해집니다.\n",
    "    # ex) AAAA -> (A^2) = AA -> (A^2)^2 = AAAA\n",
    "    else:\n",
    "        matrix = matmul(A, B//2)\n",
    "        new_matrix = make_matrix(matrix, matrix)\n",
    "    \n",
    "        return new_matrix\n",
    "\n",
    "import sys\n",
    "\n",
    "N, B = map(int, input().split())\n",
    "\n",
    "A = []\n",
    "for _ in range(N):\n",
    "    A.append(list(map(int, input().split())))\n",
    "\n",
    "result = matmul(A, B)\n",
    "\n",
    "for row in result:\n",
    "    print(*row)"
   ]
  }
 ],
 "metadata": {
  "kernelspec": {
   "display_name": "Python 3",
   "language": "python",
   "name": "python3"
  },
  "language_info": {
   "codemirror_mode": {
    "name": "ipython",
    "version": 3
   },
   "file_extension": ".py",
   "mimetype": "text/x-python",
   "name": "python",
   "nbconvert_exporter": "python",
   "pygments_lexer": "ipython3",
   "version": "3.7.3"
  }
 },
 "nbformat": 4,
 "nbformat_minor": 2
}
