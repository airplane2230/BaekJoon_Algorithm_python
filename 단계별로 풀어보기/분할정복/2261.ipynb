{
 "cells": [
  {
   "cell_type": "code",
   "execution_count": 46,
   "metadata": {},
   "outputs": [
    {
     "name": "stdout",
     "output_type": "stream",
     "text": [
      "4\n",
      "0 0\n",
      "10 10\n",
      "10 0\n",
      "0 10\n",
      "100\n"
     ]
    }
   ],
   "source": [
    "def dist(x1, x2):\n",
    "    return (x1[0] - x2[0])**2 + (x1[1] - x2[1])**2\n",
    "\n",
    "# 이론 블로그 참고\n",
    "def solve(coords, N):\n",
    "    # 점이 두 개일때는 두점 거리만 구하면 됩니다.\n",
    "    if(N == 2):\n",
    "        return dist(coords[0], coords[1])\n",
    "    # 점이 세 개일때는 각 두점 사이의 거리를 구해서 최솟값을 구하면 됩니다.\n",
    "    elif(N == 3):\n",
    "        return min(dist(coords[0], coords[1]), dist(coords[1], coords[2]), dist(coords[0], coords[2]))\n",
    "    \n",
    "    mid = (coords[N//2][0] + coords[N//2-1][0]) // 2\n",
    "    # x축을 기준으로 짧은 거리 d를 구합니다.\n",
    "    d = min(solve(coords[:N//2], N//2), solve(coords[N//2:], N//2))\n",
    "    \n",
    "    # x 축 기준을 잊지 말것\n",
    "    # 유효 거리 d보다 짧거나 같은 것을 제외하고 나머지는 제외시킵니다.\n",
    "    # 즉, 두점 거리가 d보다 먼 경우는 제외합니다.\n",
    "    short_check = []\n",
    "    for subset in coords:\n",
    "        if((mid - subset[0])**2 <= d):\n",
    "            short_check.append(subset)\n",
    "    short_check.sort(key = lambda x:x[1])\n",
    "    \n",
    "    if(len(short_check) == 1):\n",
    "        return d\n",
    "    else:\n",
    "        y_check = d\n",
    "        \n",
    "        # x축만 고려하면 아직 고려해야할 점의 개수가 많이 남아있어 시간초과가 뜨게 됩니다.\n",
    "        # 따라서 y축을 고려해주어 y축 기준의 d보다 긴 경우는 전부 제외시켜 주어야 합니다.\n",
    "        # 세 가지 경우는 필수로 제외합니다.\n",
    "        for i in range(len(short_check) - 1):\n",
    "            for j in range(i+1, len(short_check)):\\\n",
    "                # y축 기준, 기본적으로 최소 길이 d보다 사이 거리가 긴 경우 제외\n",
    "                if(short_check[i][1] - short_check[j][1]) ** 2 > d:\n",
    "                    break\n",
    "                # 두 점 모두 왼쪽에 있는 경우\n",
    "                elif(short_check[i][0] < mid and short_check[j][0] < mid):\n",
    "                    continue\n",
    "                # 두 점 모두 오른쪽에 있는 경우\n",
    "                # 두 점이 mid를 지나는 점과 비교해보세요\n",
    "                elif(short_check[i][0] > mid and short_check[j][0] > mid):\n",
    "                    continue\n",
    "                y_check = min(y_check, dist(short_check[i], short_check[j]))\n",
    "                \n",
    "    return y_check\n",
    "\n",
    "import sys\n",
    "\n",
    "# input = sys.stdin.readline\n",
    "N = int(input())\n",
    "coords = [list(map(int, input().split())) for _ in range(N)]\n",
    "\n",
    "# 중복되는 점은 제거\n",
    "# 블로그 참고\n",
    "coords_set = list(set(map(tuple,coords)))\n",
    "if len(coords_set) != len(coords):\n",
    "    print(\"0\")\n",
    "else:\n",
    "    coords_set.sort() # sorted(coords, key=lambda x:-x[0])\n",
    "    print(solve(coords_set, N))"
   ]
  }
 ],
 "metadata": {
  "kernelspec": {
   "display_name": "Python 3",
   "language": "python",
   "name": "python3"
  },
  "language_info": {
   "codemirror_mode": {
    "name": "ipython",
    "version": 3
   },
   "file_extension": ".py",
   "mimetype": "text/x-python",
   "name": "python",
   "nbconvert_exporter": "python",
   "pygments_lexer": "ipython3",
   "version": "3.7.3"
  }
 },
 "nbformat": 4,
 "nbformat_minor": 2
}
