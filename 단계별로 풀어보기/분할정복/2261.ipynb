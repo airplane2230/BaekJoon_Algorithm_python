{
 "cells": [
  {
   "cell_type": "code",
   "execution_count": 46,
   "metadata": {},
   "outputs": [
    {
     "name": "stdout",
     "output_type": "stream",
     "text": [
      "4\n",
      "0 0\n",
      "10 10\n",
      "10 0\n",
      "0 10\n",
      "100\n"
     ]
    }
   ],
   "source": [
    "def dist(x1, x2):\n",
    "    return (x1[0] - x2[0])**2 + (x1[1] - x2[1])**2\n",
    "\n",
    "def solve(coords, N):\n",
    "    if(N == 2):\n",
    "        return dist(coords[0], coords[1])\n",
    "    elif(N == 3):\n",
    "        return min(dist(coords[0], coords[1]), dist(coords[1], coords[2]), dist(coords[0], coords[2]))\n",
    "    \n",
    "    mid = (coords[N//2][0] + coords[N//2-1][0]) // 2\n",
    "    d = min(solve(coords[:N//2], N//2), solve(coords[N//2:], N//2))\n",
    "    \n",
    "    short_check = []\n",
    "    for subset in coords:\n",
    "        if((mid - subset[0])**2 <= d):\n",
    "            short_check.append(subset)\n",
    "    short_check.sort(key = lambda x:x[1])\n",
    "    \n",
    "    if(len(short_check) == 1):\n",
    "        return d\n",
    "    else:\n",
    "        y_check = d\n",
    "        \n",
    "        for i in range(len(short_check) - 1):\n",
    "            for j in range(i+1, len(short_check)):\n",
    "                if(short_check[i][1] - short_check[j][1]) ** 2 > d:\n",
    "                    break\n",
    "                elif(short_check[i][0] < mid and short_check[j][0] < mid):\n",
    "                    continue\n",
    "                elif(short_check[i][0] > mid and short_check[j][0] > mid):\n",
    "                    continue\n",
    "                y_check = min(y_check, dist(short_check[i], short_check[j]))\n",
    "                \n",
    "    return y_check\n",
    "\n",
    "import sys\n",
    "\n",
    "# input = sys.stdin.readline\n",
    "N = int(input())\n",
    "coords = [list(map(int, input().split())) for _ in range(N)]\n",
    "\n",
    "coords_set = list(set(map(tuple,coords)))\n",
    "if len(coords_set) != len(coords):\n",
    "    print(\"0\")\n",
    "else:\n",
    "    coords_set.sort() # sorted(coords, key=lambda x:-x[0])\n",
    "    print(solve(coords_set, N))"
   ]
  },
  {
   "cell_type": "code",
   "execution_count": 41,
   "metadata": {},
   "outputs": [],
   "source": []
  },
  {
   "cell_type": "code",
   "execution_count": 31,
   "metadata": {},
   "outputs": [],
   "source": [
    "coords.sort()"
   ]
  },
  {
   "cell_type": "code",
   "execution_count": 42,
   "metadata": {},
   "outputs": [
    {
     "data": {
      "text/plain": [
       "[[0, 0], [0, 10], [10, 0], [10, 10]]"
      ]
     },
     "execution_count": 42,
     "metadata": {},
     "output_type": "execute_result"
    }
   ],
   "source": [
    "coords"
   ]
  },
  {
   "cell_type": "code",
   "execution_count": 43,
   "metadata": {},
   "outputs": [
    {
     "data": {
      "text/plain": [
       "100"
      ]
     },
     "execution_count": 43,
     "metadata": {},
     "output_type": "execute_result"
    }
   ],
   "source": []
  },
  {
   "cell_type": "code",
   "execution_count": 40,
   "metadata": {},
   "outputs": [
    {
     "ename": "TypeError",
     "evalue": "'int' object is not iterable",
     "output_type": "error",
     "traceback": [
      "\u001b[0;31m---------------------------------------------------------------------------\u001b[0m",
      "\u001b[0;31mTypeError\u001b[0m                                 Traceback (most recent call last)",
      "\u001b[0;32m<ipython-input-40-5dc9e4f4b0ff>\u001b[0m in \u001b[0;36m<module>\u001b[0;34m\u001b[0m\n\u001b[0;32m----> 1\u001b[0;31m \u001b[0mmin\u001b[0m\u001b[0;34m(\u001b[0m\u001b[0mdist\u001b[0m\u001b[0;34m(\u001b[0m\u001b[0mcoords\u001b[0m\u001b[0;34m[\u001b[0m\u001b[0;36m0\u001b[0m\u001b[0;34m]\u001b[0m\u001b[0;34m,\u001b[0m \u001b[0mcoords\u001b[0m\u001b[0;34m[\u001b[0m\u001b[0;36m1\u001b[0m\u001b[0;34m]\u001b[0m\u001b[0;34m)\u001b[0m\u001b[0;34m)\u001b[0m\u001b[0;34m\u001b[0m\u001b[0;34m\u001b[0m\u001b[0m\n\u001b[0m",
      "\u001b[0;31mTypeError\u001b[0m: 'int' object is not iterable"
     ]
    }
   ],
   "source": [
    "min(dist(coords[0], coords[1]))"
   ]
  },
  {
   "cell_type": "code",
   "execution_count": null,
   "metadata": {},
   "outputs": [],
   "source": []
  }
 ],
 "metadata": {
  "kernelspec": {
   "display_name": "Python 3",
   "language": "python",
   "name": "python3"
  },
  "language_info": {
   "codemirror_mode": {
    "name": "ipython",
    "version": 3
   },
   "file_extension": ".py",
   "mimetype": "text/x-python",
   "name": "python",
   "nbconvert_exporter": "python",
   "pygments_lexer": "ipython3",
   "version": "3.7.1"
  }
 },
 "nbformat": 4,
 "nbformat_minor": 2
}
