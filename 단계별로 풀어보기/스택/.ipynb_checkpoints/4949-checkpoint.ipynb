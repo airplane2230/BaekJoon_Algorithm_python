{
 "cells": [
  {
   "cell_type": "code",
   "execution_count": 9,
   "metadata": {},
   "outputs": [
    {
     "name": "stdout",
     "output_type": "stream",
     "text": [
      "((((\n",
      "no\n",
      ".\n"
     ]
    }
   ],
   "source": [
    "def push(stack, x):\n",
    "    stack.append(x)\n",
    "    \n",
    "def pop(stack):\n",
    "    return stack.pop()\n",
    "\n",
    "def top(stack):\n",
    "    return stack[-1] if stack else -1\n",
    "\n",
    "while(True):\n",
    "    sentence = input()\n",
    "    \n",
    "    if(sentence == \".\"):\n",
    "        break\n",
    "    else:\n",
    "        opend_stack = []\n",
    "        sentence_check = True\n",
    "        \n",
    "        for i in sentence:\n",
    "            if(i == \"(\" or i == \"[\"):\n",
    "                push(opend_stack, i)\n",
    "            elif i == \")\":\n",
    "                if(top(opend_stack) == \"(\"):\n",
    "                    pop(opend_stack)\n",
    "                else:\n",
    "                    if(not opend_stack or top(opend_stack) == \"[\"):\n",
    "                        sentence_check = False\n",
    "                        break\n",
    "            elif i == \"]\":\n",
    "                if(top(opend_stack) == \"[\"):\n",
    "                    pop(opend_stack)\n",
    "                else:\n",
    "                    if(not opend_stack or top(opend_stack) == \"(\"):\n",
    "                        sentence_check = False\n",
    "                        break\n",
    "\n",
    "        if(sentence_check and not opend_stack):\n",
    "            print(\"yes\")\n",
    "        else:\n",
    "            print(\"no\")"
   ]
  }
 ],
 "metadata": {
  "kernelspec": {
   "display_name": "Python 3",
   "language": "python",
   "name": "python3"
  },
  "language_info": {
   "codemirror_mode": {
    "name": "ipython",
    "version": 3
   },
   "file_extension": ".py",
   "mimetype": "text/x-python",
   "name": "python",
   "nbconvert_exporter": "python",
   "pygments_lexer": "ipython3",
   "version": "3.7.1"
  }
 },
 "nbformat": 4,
 "nbformat_minor": 2
}
