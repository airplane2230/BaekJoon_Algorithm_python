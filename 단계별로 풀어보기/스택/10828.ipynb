{
 "cells": [
  {
   "cell_type": "code",
   "execution_count": null,
   "metadata": {},
   "outputs": [],
   "source": [
    "import sys\n",
    "\n",
    "# 정수 X를 스택에 넣는 연산이다.\n",
    "def push(x):\n",
    "    stack.append(x)\n",
    "\n",
    "# 스택에서 가장 위에 있는 정수를 빼고, 그 수를 출력한다. \n",
    "# 만약 스택에 들어있는 정수가 없는 경우에는 -1을 출력한다.\n",
    "def pop():\n",
    "    if(not stack):\n",
    "        return -1\n",
    "    else:\n",
    "        return stack.pop()\n",
    "\n",
    "# 스택에 들어있는 정수의 개수를 출력한다.\n",
    "def size():\n",
    "    return len(stack)\n",
    "\n",
    "# 스택이 비어있으면 1, 아니면 0을 출력한다.\n",
    "def empty():\n",
    "    return 0 if stack else 1\n",
    "\n",
    "# 스택의 가장 위에 있는 정수를 출력한다. \n",
    "# 만약 스택에 들어있는 정수가 없는 경우에는 -1을 출력한다.\n",
    "def top():\n",
    "    return stack[-1] if stack else -1\n",
    "\n",
    "N = int(sys.stdin.readline().rstrip())\n",
    "stack = []\n",
    "\n",
    "for _ in range(N):\n",
    "    input_split = sys.stdin.readline().rstrip().split()\n",
    "\n",
    "    order = input_split[0]\n",
    "\n",
    "    if order == \"push\":\n",
    "        push(input_split[1])\n",
    "    elif order == \"pop\":\n",
    "        print(pop())\n",
    "    elif order == \"size\":\n",
    "        print(size())\n",
    "    elif order == \"empty\":\n",
    "        print(empty())\n",
    "    elif order == \"top\":\n",
    "        print(top())"
   ]
  }
 ],
 "metadata": {
  "kernelspec": {
   "display_name": "Python 3",
   "language": "python",
   "name": "python3"
  },
  "language_info": {
   "codemirror_mode": {
    "name": "ipython",
    "version": 3
   },
   "file_extension": ".py",
   "mimetype": "text/x-python",
   "name": "python",
   "nbconvert_exporter": "python",
   "pygments_lexer": "ipython3",
   "version": "3.7.1"
  }
 },
 "nbformat": 4,
 "nbformat_minor": 2
}
