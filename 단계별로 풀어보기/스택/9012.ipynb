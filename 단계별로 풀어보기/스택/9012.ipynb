{
 "cells": [
  {
   "cell_type": "code",
   "execution_count": 238,
   "metadata": {},
   "outputs": [
    {
     "name": "stdout",
     "output_type": "stream",
     "text": [
      "1\n",
      "(())())\n",
      "No\n"
     ]
    }
   ],
   "source": [
    "Case = int(input())\n",
    "for _ in range(Case):\n",
    "    string = list(input())\n",
    "    close_cnt = 0\n",
    "        \n",
    "    while(len(string) != 0):\n",
    "        if(close_cnt < 0):\n",
    "            break\n",
    "        res = string.pop()\n",
    "\n",
    "        if(res == '('):\n",
    "            close_cnt -= 1\n",
    "        elif(res == ')'):\n",
    "            close_cnt += 1\n",
    "            \n",
    "    if(close_cnt == 0):\n",
    "        print('YES')\n",
    "    else:\n",
    "        print('NO')"
   ]
  }
 ],
 "metadata": {
  "kernelspec": {
   "display_name": "Python 3",
   "language": "python",
   "name": "python3"
  },
  "language_info": {
   "codemirror_mode": {
    "name": "ipython",
    "version": 3
   },
   "file_extension": ".py",
   "mimetype": "text/x-python",
   "name": "python",
   "nbconvert_exporter": "python",
   "pygments_lexer": "ipython3",
   "version": "3.7.1"
  }
 },
 "nbformat": 4,
 "nbformat_minor": 2
}
