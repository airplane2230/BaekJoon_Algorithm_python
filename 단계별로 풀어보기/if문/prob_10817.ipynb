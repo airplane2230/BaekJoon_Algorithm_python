{
 "cells": [
  {
   "cell_type": "code",
   "execution_count": 18,
   "metadata": {},
   "outputs": [
    {
     "name": "stdout",
     "output_type": "stream",
     "text": [
      "10 20 30\n",
      "20\n"
     ]
    }
   ],
   "source": [
    "a, b, c = map(int, input().split(' '))\n",
    "\n",
    "if(a >= b):\n",
    "    if(a >= c):\n",
    "        if(b >= c):\n",
    "            print(b)\n",
    "        else:\n",
    "            print(c)\n",
    "    else:\n",
    "        print(a)\n",
    "else:\n",
    "    if(b >= c):\n",
    "        if(a >= c):\n",
    "            print(a)\n",
    "        else:\n",
    "            print(c)\n",
    "    else:\n",
    "        print(b)"
   ]
  },
  {
   "cell_type": "code",
   "execution_count": 20,
   "metadata": {},
   "outputs": [
    {
     "name": "stdout",
     "output_type": "stream",
     "text": [
      "20 10 10\n",
      "10\n"
     ]
    }
   ],
   "source": [
    "data = list(input().split(' '))\n",
    "\n",
    "for i in range(len(data)):\n",
    "    data[i] = int(data[i])\n",
    "\n",
    "sorted_list = sorted(data, reverse = True)\n",
    "print(sorted_list[1])"
   ]
  },
  {
   "cell_type": "code",
   "execution_count": null,
   "metadata": {},
   "outputs": [],
   "source": []
  }
 ],
 "metadata": {
  "kernelspec": {
   "display_name": "tensorflow",
   "language": "python",
   "name": "tensorflow"
  },
  "language_info": {
   "codemirror_mode": {
    "name": "ipython",
    "version": 3
   },
   "file_extension": ".py",
   "mimetype": "text/x-python",
   "name": "python",
   "nbconvert_exporter": "python",
   "pygments_lexer": "ipython3",
   "version": "3.6.3"
  }
 },
 "nbformat": 4,
 "nbformat_minor": 2
}
