{
 "cells": [
  {
   "cell_type": "code",
   "execution_count": 26,
   "metadata": {},
   "outputs": [
    {
     "name": "stdout",
     "output_type": "stream",
     "text": [
      "0 44\n",
      "23 59\n"
     ]
    }
   ],
   "source": [
    "H, M = list(map(int, input().split()))\n",
    "\n",
    "alarm = H * 60 + M - 45\n",
    "\n",
    "if(alarm < 0):\n",
    "        alarm = 23 * 60 + 60 + alarm\n",
    "\n",
    "alarm_H = alarm // 60\n",
    "alarm_M = alarm % 60\n",
    "\n",
    "print('%d %d' % (alarm_H, alarm_M))"
   ]
  },
  {
   "cell_type": "code",
   "execution_count": null,
   "metadata": {},
   "outputs": [],
   "source": []
  }
 ],
 "metadata": {
  "kernelspec": {
   "display_name": "Python 3",
   "language": "python",
   "name": "python3"
  },
  "language_info": {
   "codemirror_mode": {
    "name": "ipython",
    "version": 3
   },
   "file_extension": ".py",
   "mimetype": "text/x-python",
   "name": "python",
   "nbconvert_exporter": "python",
   "pygments_lexer": "ipython3",
   "version": "3.7.1"
  }
 },
 "nbformat": 4,
 "nbformat_minor": 2
}
