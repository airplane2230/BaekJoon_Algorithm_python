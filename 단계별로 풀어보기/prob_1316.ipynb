{
 "cells": [
  {
   "cell_type": "code",
   "execution_count": null,
   "metadata": {},
   "outputs": [],
   "source": [
    "T = int(input())\n",
    "\n",
    "words = [input() for _ in range(T)]\n",
    "\n",
    "def check_continuous(v):\n",
    "    for i in range(len(v)):\n",
    "        a = ['F', 'F']\n",
    "        for j in range(i+1, len(v)):\n",
    "            if(v[i] == v[j] and a[0] == 'T'):\n",
    "                a[1] = 'T'\n",
    "            if(v[i] != v[j]):\n",
    "                a[0] = 'T'\n",
    "            if(a[0] == 'T' and a[1] == 'T'):\n",
    "                return 0\n",
    "    return 1\n",
    "\n",
    "count = 0\n",
    "for word in words:\n",
    "    count += check_continuous(word)\n",
    "print(count)"
   ]
  }
 ],
 "metadata": {
  "kernelspec": {
   "display_name": "tensorflow",
   "language": "python",
   "name": "tensorflow"
  },
  "language_info": {
   "codemirror_mode": {
    "name": "ipython",
    "version": 3
   },
   "file_extension": ".py",
   "mimetype": "text/x-python",
   "name": "python",
   "nbconvert_exporter": "python",
   "pygments_lexer": "ipython3",
   "version": "3.6.3"
  }
 },
 "nbformat": 4,
 "nbformat_minor": 2
}
