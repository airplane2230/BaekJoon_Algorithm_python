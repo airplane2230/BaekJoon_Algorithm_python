{
 "cells": [
  {
   "cell_type": "code",
   "execution_count": 151,
   "metadata": {},
   "outputs": [
    {
     "name": "stdout",
     "output_type": "stream",
     "text": [
      "10\n",
      "1 6\n",
      "2 8\n",
      "3 2\n",
      "4 9\n",
      "5 5\n",
      "6 10\n",
      "7 4\n",
      "8 1\n",
      "9 7\n",
      "10 3\n"
     ]
    }
   ],
   "source": [
    "N = int(input())\n",
    "line = [list(map(int, input().split())) for _ in range(N)]\n",
    "line = sorted(line, key = lambda x : x[0])\n",
    "\n",
    "dp = [0] * N\n",
    "dp[0] = 1\n",
    "\n",
    "for i in range(1, N):\n",
    "    min_value = 0\n",
    "    for j in range(i):\n",
    "        if(line[i][1] > line[j][1]):\n",
    "#             if(dp[j] >= dp[i]):\n",
    "#                 dp[i] = dp[j] + 1\n",
    "            min_value = max(dp[j], min_value)\n",
    "    dp[i] = min_value + 1\n",
    "print(N - max(dp))"
   ]
  }
 ],
 "metadata": {
  "kernelspec": {
   "display_name": "Python 3",
   "language": "python",
   "name": "python3"
  },
  "language_info": {
   "codemirror_mode": {
    "name": "ipython",
    "version": 3
   },
   "file_extension": ".py",
   "mimetype": "text/x-python",
   "name": "python",
   "nbconvert_exporter": "python",
   "pygments_lexer": "ipython3",
   "version": "3.7.1"
  }
 },
 "nbformat": 4,
 "nbformat_minor": 2
}
