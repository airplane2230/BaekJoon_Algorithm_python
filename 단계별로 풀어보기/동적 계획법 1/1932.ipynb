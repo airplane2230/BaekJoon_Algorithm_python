{
 "cells": [
  {
   "cell_type": "code",
   "execution_count": 92,
   "metadata": {},
   "outputs": [
    {
     "name": "stdout",
     "output_type": "stream",
     "text": [
      "5\n",
      "7\n",
      "3 8\n",
      "8 1 0\n",
      "2 7 4 4\n",
      "4 5 2 6 5\n"
     ]
    }
   ],
   "source": [
    "N = int(input())\n",
    "triangle = [list(map(int, input().split())) for _ in range(N)]\n",
    "\n",
    "# 총 N - 1번의 계산이 이루어진다.\n",
    "for i in range(N - 1):\n",
    "    for j in range(len(triangle[i + 1])):\n",
    "        # 첫번쨰와 끝부분 같은 경우는 그냥 더해주면 된다.\n",
    "        if(j == 0):\n",
    "            triangle[i + 1][j] = triangle[i][j] + triangle[i + 1][j]\n",
    "        elif(j == len(triangle[i + 1]) - 1):\n",
    "            triangle[i + 1][-1] = triangle[i][-1] + triangle[i + 1][-1]\n",
    "        # 그렇지 않고 중간에 있는 숫자들(예를 들어 1 3 1 의 3같은 경우)은 바로 위 그룹의 \n",
    "        # 자기 자신의 인덱스 - 1 과 자기 자신의 인덱스와의 합이 총 2개가 나오는데\n",
    "        # 2개 중 max를 고려하여 교체해야한다.\n",
    "        else:\n",
    "            triangle[i + 1][j] = max(triangle[i][j - 1] + triangle[i + 1][j], triangle[i][j] + triangle[i + 1][j])\n",
    "print(max(triangle[-1]))"
   ]
  }
 ],
 "metadata": {
  "kernelspec": {
   "display_name": "Python 3",
   "language": "python",
   "name": "python3"
  },
  "language_info": {
   "codemirror_mode": {
    "name": "ipython",
    "version": 3
   },
   "file_extension": ".py",
   "mimetype": "text/x-python",
   "name": "python",
   "nbconvert_exporter": "python",
   "pygments_lexer": "ipython3",
   "version": "3.7.1"
  }
 },
 "nbformat": 4,
 "nbformat_minor": 2
}
