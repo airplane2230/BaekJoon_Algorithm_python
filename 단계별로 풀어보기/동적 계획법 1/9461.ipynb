{
 "cells": [
  {
   "cell_type": "code",
   "execution_count": 76,
   "metadata": {},
   "outputs": [
    {
     "name": "stdout",
     "output_type": "stream",
     "text": [
      "2\n",
      "6\n",
      "3\n",
      "12\n",
      "16\n"
     ]
    }
   ],
   "source": [
    "T = int(input())\n",
    "\n",
    "p_list = [0] * 101\n",
    "p_list[0] = 1; p_list[1] = 1; p_list[2] = 1\n",
    "p_list[3] = 2; p_list[4] = 2\n",
    "\n",
    "for _ in range(T):\n",
    "    N = int(input())\n",
    "\n",
    "    pos = 0\n",
    "    for i in range(5, N):\n",
    "        p_list[i] = p_list[pos] + p_list[i - 1]\n",
    "        pos += 1\n",
    "    print(p_list[N - 1])"
   ]
  }
 ],
 "metadata": {
  "kernelspec": {
   "display_name": "Python 3",
   "language": "python",
   "name": "python3"
  },
  "language_info": {
   "codemirror_mode": {
    "name": "ipython",
    "version": 3
   },
   "file_extension": ".py",
   "mimetype": "text/x-python",
   "name": "python",
   "nbconvert_exporter": "python",
   "pygments_lexer": "ipython3",
   "version": "3.7.1"
  }
 },
 "nbformat": 4,
 "nbformat_minor": 2
}
