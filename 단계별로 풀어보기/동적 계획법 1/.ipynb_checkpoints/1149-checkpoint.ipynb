{
 "cells": [
  {
   "cell_type": "code",
   "execution_count": 16,
   "metadata": {},
   "outputs": [
    {
     "name": "stdout",
     "output_type": "stream",
     "text": [
      "3\n",
      "26 40 83\n",
      "49 60 57\n",
      "13 89 99\n",
      "96\n"
     ]
    }
   ],
   "source": [
    "N = int(input())\n",
    "cost_per_home = []\n",
    "\n",
    "# 각 집마다 색깔 별 가격을 저장한다. \n",
    "for _ in range(N):\n",
    "    cost_per_home.append(list(map(int, input().split())))\n",
    "    \n",
    "    dp = [cost_per_home[0]]\n",
    "\n",
    "for i in range(1, N):\n",
    "    cost_per_color = []\n",
    "    \n",
    "    # 맨 처음에 min값을 선택한다고 최종 값이 min이 되는 것이 아니기 때문에,\n",
    "    # 각 경우의 수를 고려하여 저장해야한다.\n",
    "    # 빨강색을 선택한다면 이전 값은 다른 색이 되어야 한다.\n",
    "    # 26 + 57 + 13 이 가능한 것으로 보아, 이웃이 전부 색이 같지 않아야 된다는 뜻은\n",
    "    # 빨초빨 이 경우는 가능하나 빨빨초 이런 경우만 안된다는 경우로 생각,,\n",
    "    # 전자의 경우이므로 다음 집을 칠할떄, 내가 칠할 색만 제외하고 다른 경우만 고려해주면 됨.\n",
    "    temp_red = min(dp[i - 1][1], dp[i - 1][2])\n",
    "    cost_per_color.append(temp_red + cost_per_home[i][0])\n",
    "\n",
    "    temp_green = min(dp[i - 1][0], dp[i - 1][2])\n",
    "    cost_per_color.append(temp_green + cost_per_home[i][1])\n",
    "\n",
    "    temp_blue = min(dp[i - 1][0], dp[i - 1][1])\n",
    "    cost_per_color.append(temp_blue + cost_per_home[i][2])\n",
    "    \n",
    "    dp.append(cost_per_color)\n",
    "    \n",
    "print(min(dp[N - 1]))"
   ]
  },
  {
   "cell_type": "code",
   "execution_count": null,
   "metadata": {},
   "outputs": [],
   "source": []
  }
 ],
 "metadata": {
  "kernelspec": {
   "display_name": "Python 3",
   "language": "python",
   "name": "python3"
  },
  "language_info": {
   "codemirror_mode": {
    "name": "ipython",
    "version": 3
   },
   "file_extension": ".py",
   "mimetype": "text/x-python",
   "name": "python",
   "nbconvert_exporter": "python",
   "pygments_lexer": "ipython3",
   "version": "3.7.1"
  }
 },
 "nbformat": 4,
 "nbformat_minor": 2
}
