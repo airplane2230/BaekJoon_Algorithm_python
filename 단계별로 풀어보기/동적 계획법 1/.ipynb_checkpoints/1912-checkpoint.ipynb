{
 "cells": [
  {
   "cell_type": "code",
   "execution_count": 77,
   "metadata": {},
   "outputs": [
    {
     "name": "stdout",
     "output_type": "stream",
     "text": [
      "10\n",
      "10 -4 3 1 5 6 -35 12 21 -1\n"
     ]
    }
   ],
   "source": [
    "N = int(input())\n",
    "num_list = list(map(int, input().split()))\n",
    "\n",
    "dp = [0 for _ in range(N)]\n",
    "dp[0] = num_list[0]\n",
    "for i in range(1, N):\n",
    "    # 위 코드는 첫 번째 경우는 논리에 맞지 않음.\n",
    "    # case_1 : 현재 인덱스의 수 -> 반례 2, (-2, -1)\n",
    "    # case_2 : 이전까지의 연속합과 현재 값을 더한 것\n",
    "    dp[i] = max(num_list[i], dp[i - 1] + num_list[i])\n",
    "        \n",
    "print(max(dp))"
   ]
  }
 ],
 "metadata": {
  "kernelspec": {
   "display_name": "Python 3",
   "language": "python",
   "name": "python3"
  },
  "language_info": {
   "codemirror_mode": {
    "name": "ipython",
    "version": 3
   },
   "file_extension": ".py",
   "mimetype": "text/x-python",
   "name": "python",
   "nbconvert_exporter": "python",
   "pygments_lexer": "ipython3",
   "version": "3.7.1"
  }
 },
 "nbformat": 4,
 "nbformat_minor": 2
}
