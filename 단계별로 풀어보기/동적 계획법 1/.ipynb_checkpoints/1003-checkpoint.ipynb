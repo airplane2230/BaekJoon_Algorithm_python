{
 "cells": [
  {
   "cell_type": "code",
   "execution_count": 25,
   "metadata": {},
   "outputs": [
    {
     "name": "stdout",
     "output_type": "stream",
     "text": [
      "3\n",
      "0\n",
      "1 0\n",
      "1\n",
      "0 1\n",
      "3\n",
      "1 2\n"
     ]
    }
   ],
   "source": [
    "C = int(input())\n",
    "zero = [1, 0, 1]\n",
    "one = [0, 1, 1]\n",
    "\n",
    "def one_two_count(n):\n",
    "    init_len = len(zero)\n",
    "    if(init_len <= n):\n",
    "        for i in range(init_len, n + 1):\n",
    "            add_0 = zero[i - 2] + zero[i - 1]\n",
    "            add_1 = one[i - 2] + one[i - 1]\n",
    "            zero.append(add_0);one.append(add_1)\n",
    "    print('{} {}'.format(zero[n], one[n]))\n",
    "    \n",
    "for _ in range(C):\n",
    "    one_two_count(int(input()))"
   ]
  }
 ],
 "metadata": {
  "kernelspec": {
   "display_name": "Python 3",
   "language": "python",
   "name": "python3"
  },
  "language_info": {
   "codemirror_mode": {
    "name": "ipython",
    "version": 3
   },
   "file_extension": ".py",
   "mimetype": "text/x-python",
   "name": "python",
   "nbconvert_exporter": "python",
   "pygments_lexer": "ipython3",
   "version": "3.7.1"
  }
 },
 "nbformat": 4,
 "nbformat_minor": 2
}
