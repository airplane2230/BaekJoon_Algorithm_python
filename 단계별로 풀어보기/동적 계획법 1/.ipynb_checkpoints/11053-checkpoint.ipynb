{
 "cells": [
  {
   "cell_type": "code",
   "execution_count": null,
   "metadata": {},
   "outputs": [],
   "source": [
    "N = int(input())\n",
    "sequence = list(map(int, input().split()))\n",
    "\n",
    "dp = [0] * N\n",
    "\n",
    "# 모든 수를 따짐\n",
    "for i in range(0, N):\n",
    "    min_value = 0\n",
    "    for j in range(i):\n",
    "        # 현재 수가 더 큰 경우는 작은 수의 경우의 수에다가 + 1을 해준다.\n",
    "        if(sequence[i] > sequence[j]):\n",
    "            min_value = max(min_value, dp[j])\n",
    "    dp[i] = min_value + 1\n",
    "print(max(dp))"
   ]
  }
 ],
 "metadata": {
  "kernelspec": {
   "display_name": "Python 3",
   "language": "python",
   "name": "python3"
  },
  "language_info": {
   "codemirror_mode": {
    "name": "ipython",
    "version": 3
   },
   "file_extension": ".py",
   "mimetype": "text/x-python",
   "name": "python",
   "nbconvert_exporter": "python",
   "pygments_lexer": "ipython3",
   "version": "3.7.1"
  }
 },
 "nbformat": 4,
 "nbformat_minor": 2
}
