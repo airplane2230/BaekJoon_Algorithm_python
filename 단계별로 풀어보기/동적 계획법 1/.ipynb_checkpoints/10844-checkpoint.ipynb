{
 "cells": [
  {
   "cell_type": "code",
   "execution_count": 6,
   "metadata": {},
   "outputs": [
    {
     "name": "stdout",
     "output_type": "stream",
     "text": [
      "17\n"
     ]
    }
   ],
   "source": [
    "N = int(input())\n",
    "\n",
    "num_list = [1] * 10 # 0 ~ 9\n",
    "num_list[0] = 0 # 0은 숫자가 아니므로\n",
    "\n",
    "for i in range(1, N):\n",
    "        temp = [0] * 10\n",
    "        for j in range(10):\n",
    "            if(j == 0): # 10, 101 과 같은 경우\n",
    "                temp[1] += num_list[j] # 1이 나올 횟수\n",
    "            elif(j == 9):\n",
    "                temp[8] += num_list[j] # 8이 나올 횟수\n",
    "            else:\n",
    "                temp[j - 1] += num_list[j] # N이 2인 경우에, 첫자리가 1일 떄 0, 2 ; 2일 때 1, 3 이런 경우\n",
    "                temp[j + 1] += num_list[j]\n",
    "\n",
    "        num_list = temp\n",
    "print(sum(num_list) % 1000000000)"
   ]
  },
  {
   "cell_type": "code",
   "execution_count": null,
   "metadata": {},
   "outputs": [],
   "source": []
  }
 ],
 "metadata": {
  "kernelspec": {
   "display_name": "Python 3",
   "language": "python",
   "name": "python3"
  },
  "language_info": {
   "codemirror_mode": {
    "name": "ipython",
    "version": 3
   },
   "file_extension": ".py",
   "mimetype": "text/x-python",
   "name": "python",
   "nbconvert_exporter": "python",
   "pygments_lexer": "ipython3",
   "version": "3.7.1"
  }
 },
 "nbformat": 4,
 "nbformat_minor": 2
}
