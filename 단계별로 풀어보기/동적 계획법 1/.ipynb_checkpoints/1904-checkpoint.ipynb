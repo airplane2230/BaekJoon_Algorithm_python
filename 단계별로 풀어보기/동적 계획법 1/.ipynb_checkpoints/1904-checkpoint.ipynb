{
 "cells": [
  {
   "cell_type": "code",
   "execution_count": 57,
   "metadata": {},
   "outputs": [
    {
     "name": "stdout",
     "output_type": "stream",
     "text": [
      "1000000\n",
      "7871\n"
     ]
    }
   ],
   "source": [
    "N = int(input())\n",
    "\n",
    "dp = [0] * 1000001\n",
    "dp[1] = 1\n",
    "dp[2] = 2\n",
    "\n",
    "for i in range(3, N + 1):\n",
    "    # int의 범위를 벗어나기 때문에 마지막에도 % 15746을 해줘야함\n",
    "    # (x % mod + y % mod) % mod는\n",
    "    # (x + y) % mod 와 다르다.\n",
    "    dp[i] =  ((dp[i - 2] % 15746) + (dp[i - 1] % 15746)) % 15746\n",
    "\n",
    "print(dp[N])"
   ]
  }
 ],
 "metadata": {
  "kernelspec": {
   "display_name": "Python 3",
   "language": "python",
   "name": "python3"
  },
  "language_info": {
   "codemirror_mode": {
    "name": "ipython",
    "version": 3
   },
   "file_extension": ".py",
   "mimetype": "text/x-python",
   "name": "python",
   "nbconvert_exporter": "python",
   "pygments_lexer": "ipython3",
   "version": "3.7.1"
  }
 },
 "nbformat": 4,
 "nbformat_minor": 2
}
