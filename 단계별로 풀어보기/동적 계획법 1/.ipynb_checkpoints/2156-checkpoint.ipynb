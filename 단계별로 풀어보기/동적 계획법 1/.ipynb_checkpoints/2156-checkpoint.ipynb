{
 "cells": [
  {
   "cell_type": "code",
   "execution_count": 53,
   "metadata": {},
   "outputs": [
    {
     "name": "stdout",
     "output_type": "stream",
     "text": [
      "1\n",
      "5\n",
      "5\n"
     ]
    }
   ],
   "source": [
    "n = int(input())\n",
    "wine_list = [int(input()) for x in range(n)]\n",
    "\n",
    "dp = [0]\n",
    "dp.append(wine_list[0])\n",
    "if(n > 1):\n",
    "    dp.append(wine_list[0] + wine_list[1])\n",
    "\n",
    "# 연속 3잔을 마시지 않아야 하므로\n",
    "# 1 : 이번 포도주를 먹고 이전 포도주를 먹지 않은 경우\n",
    "# 2 : 이번 포도주를 먹고 이전 포도주도 먹은 경우\n",
    "# 3 : 이번 포도주를 먹지 않아야 하는 경우\n",
    "# 위 세가지 경우를 고려하여 max\n",
    "\n",
    "for i in range(3, n + 1):\n",
    "    # wine_list는 0부터 시작하므로 i - 1로 해준다.\n",
    "    case_1 = wine_list[i - 1] + dp[i - 2]\n",
    "    case_2 = wine_list[i - 1] + wine_list[i - 2] + dp[i - 3]\n",
    "    case_3 = dp[i - 1]\n",
    "    max_value = max(case_1, case_2, case_3)\n",
    "    \n",
    "    dp.append(max_value)\n",
    "    \n",
    "print(dp[n])"
   ]
  },
  {
   "cell_type": "code",
   "execution_count": null,
   "metadata": {},
   "outputs": [],
   "source": []
  }
 ],
 "metadata": {
  "kernelspec": {
   "display_name": "Python 3",
   "language": "python",
   "name": "python3"
  },
  "language_info": {
   "codemirror_mode": {
    "name": "ipython",
    "version": 3
   },
   "file_extension": ".py",
   "mimetype": "text/x-python",
   "name": "python",
   "nbconvert_exporter": "python",
   "pygments_lexer": "ipython3",
   "version": "3.7.1"
  }
 },
 "nbformat": 4,
 "nbformat_minor": 2
}
