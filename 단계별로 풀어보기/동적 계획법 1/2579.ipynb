{
 "cells": [
  {
   "cell_type": "code",
   "execution_count": 19,
   "metadata": {},
   "outputs": [
    {
     "name": "stdout",
     "output_type": "stream",
     "text": [
      "[10, 30, 35]\n",
      "3 aa\n",
      "4 aa\n",
      "5 aa\n",
      "75\n"
     ]
    }
   ],
   "source": [
    "N = int(input())\n",
    "stair_score = [int(input()) for _ in range(N)]\n",
    "dp = []\n",
    "\n",
    "# init : for-loop에서 전칸 + 전전칸(i-3)의 경우를 생각하게 되므로\n",
    "# 총 3개의 init값을 저장해 두어야 한다. \n",
    "# 1 : 첫 칸\n",
    "# 2 : 첫 칸 + 다음 칸\n",
    "# 3 : max(시작 위치 + 1칸 + 2칸의 경우, 2칸 + 한칸의 경우)\n",
    "dp.append(stair_score[0])\n",
    "dp.append(dp[0] + stair_score[1])\n",
    "dp.append(max(dp[0] + stair_score[2], stair_score[1] + stair_score[2]))\n",
    "\n",
    "for i in range(3, N):\n",
    "    # 1 : 현재 위치에서 전칸을 밟아 올라온 경우 + 전전칸을 밟은 경우의 최댓값\n",
    "    # 2 : 현재 위치 + 전전칸에서 올라온 경우\n",
    "\n",
    "    dp.append(max(stair_score[i] + stair_score[i - 1] + dp[i - 3], stair_score[i] + dp[i - 2]))\n",
    "print(dp[-1])"
   ]
  }
 ],
 "metadata": {
  "kernelspec": {
   "display_name": "Python 3",
   "language": "python",
   "name": "python3"
  },
  "language_info": {
   "codemirror_mode": {
    "name": "ipython",
    "version": 3
   },
   "file_extension": ".py",
   "mimetype": "text/x-python",
   "name": "python",
   "nbconvert_exporter": "python",
   "pygments_lexer": "ipython3",
   "version": "3.7.1"
  }
 },
 "nbformat": 4,
 "nbformat_minor": 2
}
