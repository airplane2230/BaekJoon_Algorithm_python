{
 "cells": [
  {
   "cell_type": "code",
   "execution_count": 57,
   "metadata": {},
   "outputs": [
    {
     "name": "stdout",
     "output_type": "stream",
     "text": [
      "100000\n",
      "18\n"
     ]
    }
   ],
   "source": [
    "X = int(input())\n",
    "\n",
    "dp = [X]\n",
    "cnt = 0\n",
    "\n",
    "while(True):\n",
    "    if(1 in dp):\n",
    "        print(cnt)\n",
    "        break\n",
    "    calc = []\n",
    "    for i in dp:\n",
    "        if(i % 2 == 0):\n",
    "            calc.append(i / 2)\n",
    "        if(i % 3 == 0):\n",
    "            calc.append(i / 3)\n",
    "        calc.append(i - 1)\n",
    "    dp = calc\n",
    "\n",
    "    cnt += 1"
   ]
  },
  {
   "cell_type": "code",
   "execution_count": 60,
   "metadata": {},
   "outputs": [
    {
     "name": "stdout",
     "output_type": "stream",
     "text": [
      "10\n",
      "11\n",
      "11\n",
      "11\n",
      "0\n",
      "11\n",
      "11\n",
      "11\n",
      "11\n",
      "11\n",
      "1\n",
      "11\n",
      "11\n",
      "11\n",
      "11\n",
      "11\n",
      "1\n",
      "11\n",
      "11\n",
      "3\n"
     ]
    }
   ],
   "source": [
    "# 내가 푼건 dp방법이 아닌 것 같아 아래 코드를 붙임\n",
    "# https://chunghyup.tistory.com/49 참고함\n",
    "def min(x, y):\n",
    "    return x if x <= y else y\n",
    " \n",
    "x = int(input())\n",
    " \n",
    "minimum_count = [0 for _ in range(x+1)]\n",
    " \n",
    "index = 0\n",
    "while(True):\n",
    "    if index > x:\n",
    "        break\n",
    " \n",
    "    if index <= 1:\n",
    "        minimum_count[index] = 0\n",
    "    else:\n",
    "        temp_min = x + 1\n",
    "        if index % 3 == 0:\n",
    "            temp_index = int(index/3)\n",
    "            temp_min = min(temp_min, minimum_count[temp_index])\n",
    "        if index % 2 == 0:\n",
    "            temp_index = int(index/2)\n",
    "            temp_min = min(temp_min, minimum_count[temp_index])\n",
    " \n",
    "        temp_min = min(temp_min, minimum_count[index-1])\n",
    "        minimum_count[index] = int(temp_min + 1)\n",
    "    index = index + 1\n",
    "    \n",
    "print(minimum_count[x])"
   ]
  },
  {
   "cell_type": "code",
   "execution_count": null,
   "metadata": {},
   "outputs": [],
   "source": []
  }
 ],
 "metadata": {
  "kernelspec": {
   "display_name": "Python 3",
   "language": "python",
   "name": "python3"
  },
  "language_info": {
   "codemirror_mode": {
    "name": "ipython",
    "version": 3
   },
   "file_extension": ".py",
   "mimetype": "text/x-python",
   "name": "python",
   "nbconvert_exporter": "python",
   "pygments_lexer": "ipython3",
   "version": "3.7.1"
  }
 },
 "nbformat": 4,
 "nbformat_minor": 2
}
