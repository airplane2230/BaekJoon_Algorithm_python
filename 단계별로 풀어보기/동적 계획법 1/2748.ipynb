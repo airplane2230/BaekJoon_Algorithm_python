{
 "cells": [
  {
   "cell_type": "code",
   "execution_count": 20,
   "metadata": {},
   "outputs": [
    {
     "name": "stdout",
     "output_type": "stream",
     "text": [
      "2\n",
      "1\n"
     ]
    }
   ],
   "source": [
    "N = int(input())\n",
    "\n",
    "def fibonach(f_1, f_2, cnt):\n",
    "    f_n = f_1 + f_2\n",
    "\n",
    "    if(cnt == 0):\n",
    "        return f_n\n",
    "    else:\n",
    "        return fibonach(f_2, f_n, cnt - 1)\n",
    "    \n",
    "if(N == 0):\n",
    "    print(0)\n",
    "elif(N == 1):\n",
    "    print(1)\n",
    "else:\n",
    "    print(fibonach(0, 1, N - 2))"
   ]
  },
  {
   "cell_type": "code",
   "execution_count": null,
   "metadata": {},
   "outputs": [],
   "source": []
  }
 ],
 "metadata": {
  "kernelspec": {
   "display_name": "Python 3",
   "language": "python",
   "name": "python3"
  },
  "language_info": {
   "codemirror_mode": {
    "name": "ipython",
    "version": 3
   },
   "file_extension": ".py",
   "mimetype": "text/x-python",
   "name": "python",
   "nbconvert_exporter": "python",
   "pygments_lexer": "ipython3",
   "version": "3.7.1"
  }
 },
 "nbformat": 4,
 "nbformat_minor": 2
}
