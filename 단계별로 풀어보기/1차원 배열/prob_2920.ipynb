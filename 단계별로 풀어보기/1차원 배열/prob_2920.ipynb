{
 "cells": [
  {
   "cell_type": "code",
   "execution_count": 14,
   "metadata": {},
   "outputs": [
    {
     "name": "stdout",
     "output_type": "stream",
     "text": [
      "1 2 3 4 5 6 7 8\n",
      "ascending\n"
     ]
    }
   ],
   "source": [
    "da = list(map(int, input().split()))\n",
    "\n",
    "is_mixed = False\n",
    "for i in range(len(da) - 1):\n",
    "    if(abs((da[i] - da[i + 1])) != 1):\n",
    "        is_mixed = True\n",
    "\n",
    "if(not is_mixed):\n",
    "    if(da[0] == 8):\n",
    "        print('descending')\n",
    "    else:\n",
    "        print('ascending')\n",
    "else:\n",
    "    print('mixed')"
   ]
  }
 ],
 "metadata": {
  "kernelspec": {
   "display_name": "tensorflow",
   "language": "python",
   "name": "tensorflow"
  },
  "language_info": {
   "codemirror_mode": {
    "name": "ipython",
    "version": 3
   },
   "file_extension": ".py",
   "mimetype": "text/x-python",
   "name": "python",
   "nbconvert_exporter": "python",
   "pygments_lexer": "ipython3",
   "version": "3.6.3"
  }
 },
 "nbformat": 4,
 "nbformat_minor": 2
}
