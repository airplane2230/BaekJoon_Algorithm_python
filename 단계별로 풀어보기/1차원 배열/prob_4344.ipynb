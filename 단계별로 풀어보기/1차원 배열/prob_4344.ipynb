{
 "cells": [
  {
   "cell_type": "code",
   "execution_count": 75,
   "metadata": {},
   "outputs": [
    {
     "name": "stdout",
     "output_type": "stream",
     "text": [
      "5\n",
      "5 50 50 70 80 100\n",
      "7 100 95 90 80 70 60 50\n",
      "3 70 90 80\n",
      "3 70 90 81\n",
      "9 100 99 98 97 96 95 94 93 91\n",
      "40.000%\n",
      "57.143%\n",
      "33.333%\n",
      "66.667%\n",
      "55.556%\n"
     ]
    }
   ],
   "source": [
    "C = int(input())\n",
    "\n",
    "student_lists = list()\n",
    "for _i in range(C):\n",
    "    student_lists.append(list(map(int, input().split(' '))))\n",
    "\n",
    "for student_list in student_lists:\n",
    "    num_of_student = student_list[0]\n",
    "    mean = sum(student_list[1:]) / num_of_student\n",
    "    count = 0\n",
    "    for score in student_list[1:]:\n",
    "        if(mean < score):\n",
    "            count += 1\n",
    "    print('%.3f' % ((count / num_of_student) * 100) + '%')"
   ]
  }
 ],
 "metadata": {
  "kernelspec": {
   "display_name": "tensorflow",
   "language": "python",
   "name": "tensorflow"
  },
  "language_info": {
   "codemirror_mode": {
    "name": "ipython",
    "version": 3
   },
   "file_extension": ".py",
   "mimetype": "text/x-python",
   "name": "python",
   "nbconvert_exporter": "python",
   "pygments_lexer": "ipython3",
   "version": "3.6.3"
  }
 },
 "nbformat": 4,
 "nbformat_minor": 2
}
