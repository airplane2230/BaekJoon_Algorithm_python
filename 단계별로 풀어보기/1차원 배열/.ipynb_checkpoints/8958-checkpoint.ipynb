{
 "cells": [
  {
   "cell_type": "code",
   "execution_count": 1,
   "metadata": {},
   "outputs": [
    {
     "name": "stdout",
     "output_type": "stream",
     "text": [
      "1\n",
      "2\n"
     ]
    }
   ],
   "source": [
    "T = int(input())\n",
    "\n",
    "listed_OX =[input() for _ in range(T)]\n",
    "\n",
    "for OX in listed_OX:\n",
    "    total_sum = 0\n",
    "    X_split = OX.split('X')\n",
    "    for correct in X_split:\n",
    "        n = len(correct)\n",
    "        \n",
    "        if(n > 0):\n",
    "            total_sum += (n * (n+1)) // 2\n",
    "            \n",
    "    print(total_sum)"
   ]
  },
  {
   "cell_type": "code",
   "execution_count": null,
   "metadata": {},
   "outputs": [],
   "source": [
    "import re\n",
    "\n",
    "T = int(input())\n",
    "\n",
    "listed_OX = [input() for _ in range(T)]\n",
    "p = re.compile('O+')\n",
    "\n",
    "for OX in listed_OX:\n",
    "    total_sum = 0\n",
    "    X_split = p.findall(OX)\n",
    "    \n",
    "    for ele in X_split:\n",
    "        n = len(ele)\n",
    "        \n",
    "        total_sum += (n * (n+1)) // 2\n",
    "        \n",
    "    print(total_sum)"
   ]
  }
 ],
 "metadata": {
  "kernelspec": {
   "display_name": "tensorflow",
   "language": "python",
   "name": "tensorflow"
  },
  "language_info": {
   "codemirror_mode": {
    "name": "ipython",
    "version": 3
   },
   "file_extension": ".py",
   "mimetype": "text/x-python",
   "name": "python",
   "nbconvert_exporter": "python",
   "pygments_lexer": "ipython3",
   "version": "3.6.3"
  }
 },
 "nbformat": 4,
 "nbformat_minor": 2
}
