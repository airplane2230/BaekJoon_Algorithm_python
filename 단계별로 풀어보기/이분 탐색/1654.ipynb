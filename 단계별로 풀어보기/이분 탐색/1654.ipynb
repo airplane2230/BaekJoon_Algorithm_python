{
 "cells": [
  {
   "cell_type": "code",
   "execution_count": null,
   "metadata": {},
   "outputs": [],
   "source": [
    "K, N = map(int, input().split())\n",
    "lengths = [int(input()) for _ in range(K)]\n",
    "\n",
    "# 랜선의 최솟값은 1, 최댓값은 주어진 랜선 길이의 max 값\n",
    "min_length = 1; max_length = max(lengths)\n",
    "result = 0\n",
    "\n",
    "while(min_length <= max_length):\n",
    "    mean_length = (min_length + max_length) // 2\n",
    "    \n",
    "    cut_num = 0\n",
    "    for length in lengths:\n",
    "        cut_num += length // mean_length\n",
    "    \n",
    "    # 잘라진 랜선 개수가 N보다 많으면,\n",
    "    # mean_length 밑에 존재하는 길이는 볼 필요가 없음.\n",
    "    if(cut_num >= N):\n",
    "        result = mean_length\n",
    "        min_length = mean_length + 1\n",
    "\n",
    "    # 잘라진 랜선 개수가 부족하다면,\n",
    "    # mean_length 위에 존재하는 길이로는 조건을 만족할 수 없음.\n",
    "    elif(cut_num < N):\n",
    "        max_length = mean_length - 1\n",
    "    \n",
    "print(result)"
   ]
  }
 ],
 "metadata": {
  "kernelspec": {
   "display_name": "Python 3",
   "language": "python",
   "name": "python3"
  },
  "language_info": {
   "codemirror_mode": {
    "name": "ipython",
    "version": 3
   },
   "file_extension": ".py",
   "mimetype": "text/x-python",
   "name": "python",
   "nbconvert_exporter": "python",
   "pygments_lexer": "ipython3",
   "version": "3.7.3"
  }
 },
 "nbformat": 4,
 "nbformat_minor": 2
}
