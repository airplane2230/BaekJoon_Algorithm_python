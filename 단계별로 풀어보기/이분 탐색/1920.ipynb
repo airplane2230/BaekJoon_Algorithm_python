{
 "cells": [
  {
   "cell_type": "code",
   "execution_count": null,
   "metadata": {},
   "outputs": [],
   "source": [
    "def half_check(check_num, check_list):\n",
    "    list_len = len(check_list)\n",
    "    \n",
    "    if(list_len == 0):\n",
    "        return print('0')\n",
    "    \n",
    "    index = list_len // 2\n",
    "    \n",
    "    if(check_list[index] == check_num):\n",
    "        return print('1')\n",
    "    elif(check_list[index] > check_num):\n",
    "        return half_check(check_num, check_list[:index])\n",
    "    else:\n",
    "        return half_check(check_num, check_list[index + 1:])\n",
    "\n",
    "import sys\n",
    "input = sys.stdin.readline    \n",
    "\n",
    "N = int(input())\n",
    "A = list(map(int, input().split()))\n",
    "sorted_A = sorted(A)\n",
    "\n",
    "M = int(input())\n",
    "M_list = list(map(int, input().split()))\n",
    "\n",
    "for check_num in M_list:\n",
    "    half_check(check_num, sorted_A)"
   ]
  }
 ],
 "metadata": {
  "kernelspec": {
   "display_name": "Python 3",
   "language": "python",
   "name": "python3"
  },
  "language_info": {
   "codemirror_mode": {
    "name": "ipython",
    "version": 3
   },
   "file_extension": ".py",
   "mimetype": "text/x-python",
   "name": "python",
   "nbconvert_exporter": "python",
   "pygments_lexer": "ipython3",
   "version": "3.7.3"
  }
 },
 "nbformat": 4,
 "nbformat_minor": 2
}
