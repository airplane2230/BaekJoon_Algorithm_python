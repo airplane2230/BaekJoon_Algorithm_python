{
 "cells": [
  {
   "cell_type": "code",
   "execution_count": 42,
   "metadata": {},
   "outputs": [
    {
     "name": "stdout",
     "output_type": "stream",
     "text": [
      "3\n",
      "3\n",
      "2\n"
     ]
    }
   ],
   "source": [
    "N = int(input())\n",
    "k = int(input())\n",
    "\n",
    "start, end = 1, k\n",
    "\n",
    "while start <= end:\n",
    "    mid = (start + end) // 2\n",
    "    \n",
    "    cnt = 0\n",
    "    # 행렬 i 번째에서\n",
    "    # mid보다 작은 수의 개수는 min(mid // i, N)이다. \n",
    "    # 따라서, k 번째 숫자를 구하는 방법은\n",
    "    # 각 행에서 해당 숫자보다 작은 수//i 값을 전부 더해준다.\n",
    "    for i in range(1, N + 1):\n",
    "        cnt += min(N, mid // i)\n",
    "    \n",
    "    if cnt < k:\n",
    "        start = mid + 1\n",
    "    elif cnt >= k:\n",
    "        end = mid - 1\n",
    "\n",
    "print(start)"
   ]
  }
 ],
 "metadata": {
  "kernelspec": {
   "display_name": "Python 3",
   "language": "python",
   "name": "python3"
  },
  "language_info": {
   "codemirror_mode": {
    "name": "ipython",
    "version": 3
   },
   "file_extension": ".py",
   "mimetype": "text/x-python",
   "name": "python",
   "nbconvert_exporter": "python",
   "pygments_lexer": "ipython3",
   "version": "3.7.3"
  }
 },
 "nbformat": 4,
 "nbformat_minor": 2
}
