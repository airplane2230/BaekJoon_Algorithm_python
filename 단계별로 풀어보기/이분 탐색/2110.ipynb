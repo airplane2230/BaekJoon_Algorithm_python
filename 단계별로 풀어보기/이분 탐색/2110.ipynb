{
 "cells": [
  {
   "cell_type": "code",
   "execution_count": null,
   "metadata": {},
   "outputs": [],
   "source": [
    "N, C = map(int, input().split())\n",
    "\n",
    "x_list = [int(input()) for _ in range(N)]\n",
    "sorted_x_list = sorted(x_list)\n",
    "\n",
    "start, end = sorted_x_list[0], sorted_x_list[-1] - sorted_x_list[0]\n",
    "\n",
    "while start <= end:\n",
    "    mean = (start + end) // 2\n",
    "    \n",
    "    current = sorted_x_list[0]\n",
    "    cnt = 1\n",
    "    # 가능한 집 전부를 탐색\n",
    "    for x in sorted_x_list[1:]:\n",
    "        # 현재 집에서 평균 거리보다 크거나 같으면 공유기를 설치\n",
    "        # 현재 집을 해당 집으로 변경\n",
    "        if current + mean <= x:\n",
    "            cnt += 1\n",
    "            current = x\n",
    "    \n",
    "    # 결과가 설치된 공유기 수보다 작으면,\n",
    "    # 최대거리가 너무 크므로 줄여줌\n",
    "    if cnt < C:\n",
    "        end = mean - 1\n",
    "        \n",
    "    # 결과가 설치된 공유기 수보다 많으면,\n",
    "    # 거리를 늘려주고 공유기 수를 줄여줌\n",
    "    elif cnt >= C:\n",
    "        result = mean\n",
    "        start = mean + 1\n",
    "        \n",
    "print(result)"
   ]
  },
  {
   "cell_type": "code",
   "execution_count": 24,
   "metadata": {},
   "outputs": [
    {
     "name": "stdout",
     "output_type": "stream",
     "text": [
      "3\n"
     ]
    }
   ],
   "source": []
  }
 ],
 "metadata": {
  "kernelspec": {
   "display_name": "Python 3",
   "language": "python",
   "name": "python3"
  },
  "language_info": {
   "codemirror_mode": {
    "name": "ipython",
    "version": 3
   },
   "file_extension": ".py",
   "mimetype": "text/x-python",
   "name": "python",
   "nbconvert_exporter": "python",
   "pygments_lexer": "ipython3",
   "version": "3.7.3"
  }
 },
 "nbformat": 4,
 "nbformat_minor": 2
}
