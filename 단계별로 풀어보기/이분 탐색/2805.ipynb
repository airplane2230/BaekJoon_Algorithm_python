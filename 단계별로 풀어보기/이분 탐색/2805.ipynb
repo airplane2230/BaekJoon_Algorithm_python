{
 "cells": [
  {
   "cell_type": "code",
   "execution_count": null,
   "metadata": {},
   "outputs": [],
   "source": [
    "M, M = map(int, input().split())\n",
    "heights = list(map(int, input().split()))\n",
    "\n",
    "min_height, max_height = 1, max(heights)\n",
    "H = 0\n",
    "\n",
    "while(min_height <= max_height):\n",
    "    mean_height = (min_height + max_height) // 2\n",
    "    \n",
    "    cut_num = 0\n",
    "    for height in heights:\n",
    "        if(height > mean_height):\n",
    "            cut_num += (height - mean_height)\n",
    "            \n",
    "    # 가져가려고 하느 나무의 길이를 충족했다면,\n",
    "    # 나무를 아끼기 위해 한번 더 조사한다.\n",
    "    if(cut_num >= M):\n",
    "        H = mean_height\n",
    "        min_height = mean_height + 1\n",
    "        \n",
    "    # 가져가려고 하는 나무의 길이를 충족하지 못한다면,\n",
    "    # 최대 길이를 낮춘다.\n",
    "    elif(cut_num < M):\n",
    "        max_height = mean_height - 1\n",
    "        \n",
    "print(H)"
   ]
  }
 ],
 "metadata": {
  "kernelspec": {
   "display_name": "Python 3",
   "language": "python",
   "name": "python3"
  },
  "language_info": {
   "codemirror_mode": {
    "name": "ipython",
    "version": 3
   },
   "file_extension": ".py",
   "mimetype": "text/x-python",
   "name": "python",
   "nbconvert_exporter": "python",
   "pygments_lexer": "ipython3",
   "version": "3.7.3"
  }
 },
 "nbformat": 4,
 "nbformat_minor": 2
}
