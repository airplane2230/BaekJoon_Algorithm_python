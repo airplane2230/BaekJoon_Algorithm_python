{
 "cells": [
  {
   "cell_type": "code",
   "execution_count": null,
   "metadata": {},
   "outputs": [],
   "source": [
    "N = int(input())\n",
    "A = list(map(int, input().split()))\n",
    "\n",
    "dp = [0]\n",
    "\n",
    "for i in range(N):\n",
    "    start = 0\n",
    "    end = len(dp) - 1\n",
    "    \n",
    "    while start <= end:\n",
    "        mid = (start + end) // 2\n",
    "        if dp[mid] < A[i]:\n",
    "            start = mid + 1\n",
    "        elif dp[mid] >= A[i]:\n",
    "            end = mid - 1\n",
    "    \n",
    "    if start >= len(dp):\n",
    "        dp.append(A[i])\n",
    "    else:\n",
    "        dp[start] = A[i]\n",
    "\n",
    "print(len(dp) - 1)"
   ]
  }
 ],
 "metadata": {
  "kernelspec": {
   "display_name": "Python 3",
   "language": "python",
   "name": "python3"
  },
  "language_info": {
   "codemirror_mode": {
    "name": "ipython",
    "version": 3
   },
   "file_extension": ".py",
   "mimetype": "text/x-python",
   "name": "python",
   "nbconvert_exporter": "python",
   "pygments_lexer": "ipython3",
   "version": "3.7.3"
  }
 },
 "nbformat": 4,
 "nbformat_minor": 2
}
