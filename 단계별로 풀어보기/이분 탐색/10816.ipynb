{
 "cells": [
  {
   "cell_type": "markdown",
   "metadata": {},
   "source": [
    "## 시간초과"
   ]
  },
  {
   "cell_type": "code",
   "execution_count": null,
   "metadata": {},
   "outputs": [],
   "source": [
    "def iter_check(check_num, index, start, end):\n",
    "    left_cnt = 0; right_cnt = 0\n",
    "    left_index = 1; right_index = 1\n",
    "\n",
    "    # 왼쪽에 숫자가 몇개 있는지\n",
    "    while(start <= index - left_index):\n",
    "        if(sorted_card_nums[index - left_index] == check_num):\n",
    "            left_cnt += 1; left_index += 1\n",
    "        else:\n",
    "            break\n",
    "            \n",
    "    # 오른쪽에 숫자가 몇개 있는지    \n",
    "    while(index + right_index <= end):\n",
    "        if(sorted_card_nums[index + right_index] == check_num):\n",
    "            right_cnt += 1; right_index += 1\n",
    "        else:\n",
    "            break\n",
    "        \n",
    "    # +1은 자기 자신을 의미함\n",
    "    return left_cnt + right_cnt + 1\n",
    "\n",
    "def solve(check_num, start, end):\n",
    "    if(start > end):\n",
    "        return 0\n",
    "    \n",
    "    index = (start + end) // 2\n",
    "    \n",
    "    # 이분 탐색\n",
    "    if(sorted_card_nums[index] == check_num):\n",
    "        return iter_check(check_num, index, start, end)\n",
    "    elif(sorted_card_nums[index] > check_num):\n",
    "        return solve(check_num, start, index - 1)\n",
    "    else:\n",
    "        return solve(check_num, index + 1, end)\n",
    "\n",
    "import sys\n",
    "input = sys.stdin.readline\n",
    "    \n",
    "N = int(input())\n",
    "card_nums = list(map(int, input().split()))\n",
    "sorted_card_nums = sorted(card_nums)\n",
    "\n",
    "M = int(input())\n",
    "target_list = list(map(int, input().split()))\n",
    "\n",
    "results = []\n",
    "start = 0\n",
    "end = len(sorted_card_nums) - 1\n",
    "    \n",
    "for target in target_list:\n",
    "    results.append(solve(target, start, end))\n",
    "    \n",
    "print(*results)"
   ]
  },
  {
   "cell_type": "markdown",
   "metadata": {},
   "source": [
    "## 딕셔너리 방법"
   ]
  },
  {
   "cell_type": "code",
   "execution_count": null,
   "metadata": {},
   "outputs": [],
   "source": [
    "import sys\n",
    "input = sys.stdin.readline\n",
    "    \n",
    "N = int(input())\n",
    "card_nums = list(map(int, input().split()))\n",
    "\n",
    "M = int(input())\n",
    "target_list = list(map(int, input().split()))\n",
    "\n",
    "dicts = {}\n",
    "\n",
    "for check_num in card_nums:\n",
    "    if(check_num in dicts):\n",
    "        dicts[check_num] += 1\n",
    "    else:\n",
    "        dicts[check_num] = 1\n",
    "        \n",
    "# ' '을 사이에 두고 반복하는 문자를 붙임\n",
    "print(' '.join(str(dicts[target]) if target in dicts else '0' for target in target_list))\n",
    "\n",
    "# ---------------------------------------\n",
    "# result = ''\n",
    "\n",
    "# for target in target_list:\n",
    "#     if(target in dicts):\n",
    "#         result += str(dicts[target])\n",
    "#         result += ' '\n",
    "#     else:\n",
    "#         result += '0 '\n",
    "\n",
    "# print(result[:-1])"
   ]
  }
 ],
 "metadata": {
  "kernelspec": {
   "display_name": "Python 3",
   "language": "python",
   "name": "python3"
  },
  "language_info": {
   "codemirror_mode": {
    "name": "ipython",
    "version": 3
   },
   "file_extension": ".py",
   "mimetype": "text/x-python",
   "name": "python",
   "nbconvert_exporter": "python",
   "pygments_lexer": "ipython3",
   "version": "3.7.3"
  }
 },
 "nbformat": 4,
 "nbformat_minor": 2
}
