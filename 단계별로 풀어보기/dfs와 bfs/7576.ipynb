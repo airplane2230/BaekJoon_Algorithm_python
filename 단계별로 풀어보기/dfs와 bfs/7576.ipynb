{
 "cells": [
  {
   "cell_type": "code",
   "execution_count": null,
   "metadata": {},
   "outputs": [],
   "source": [
    "from collections import deque\n",
    "\n",
    "M, N = map(int, input().split())\n",
    "tots = [list(map(int, input().split())) for _ in range(N)]\n",
    "queue = deque()\n",
    "\n",
    "for i in range(N):\n",
    "    for j in range(M):\n",
    "        if tots[i][j] == 1:\n",
    "            queue.append([i, j])\n",
    "            \n",
    "dx = [1, -1, 0, 0]\n",
    "dy = [0, 0, 1, -1]\n",
    "\n",
    "# 여기부터 bfs\n",
    "while queue:\n",
    "    row, col = queue.popleft()\n",
    "    \n",
    "    for k in range(4):\n",
    "        _row = row + dy[k]\n",
    "        _col = col + dx[k]\n",
    "        \n",
    "        # 안익은게 있다면, 익은 것으로 바꿔준다.\n",
    "        if 0 <= _row < N and 0 <= _col < M and tots[_row][_col] == 0:\n",
    "            tots[_row][_col] = tots[row][col] + 1\n",
    "            queue.append([_row, _col])\n",
    "# bfs 끝------\n",
    "\n",
    "# -1이 존재해서 -2 값으로 비교\n",
    "result = -2\n",
    "# 안익은게 있는지 체크\n",
    "check_tot = False\n",
    "\n",
    "for i in tots:\n",
    "    for j in i:\n",
    "        if(j == 0):\n",
    "            check_tot = True\n",
    "        result = max(result, j)\n",
    "        \n",
    "if check_tot:\n",
    "    print(-1)\n",
    "elif result == -1:\n",
    "    print(0)\n",
    "else:\n",
    "    print(result - 1)"
   ]
  }
 ],
 "metadata": {
  "kernelspec": {
   "display_name": "Python 3",
   "language": "python",
   "name": "python3"
  },
  "language_info": {
   "codemirror_mode": {
    "name": "ipython",
    "version": 3
   },
   "file_extension": ".py",
   "mimetype": "text/x-python",
   "name": "python",
   "nbconvert_exporter": "python",
   "pygments_lexer": "ipython3",
   "version": "3.7.3"
  }
 },
 "nbformat": 4,
 "nbformat_minor": 2
}
