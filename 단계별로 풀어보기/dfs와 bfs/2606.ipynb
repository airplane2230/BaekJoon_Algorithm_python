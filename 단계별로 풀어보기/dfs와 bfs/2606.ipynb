{
 "cells": [
  {
   "cell_type": "code",
   "execution_count": null,
   "metadata": {},
   "outputs": [],
   "source": [
    "import sys\n",
    "\n",
    "input = sys.stdin.readline\n",
    "\n",
    "N = int(input())\n",
    "conn_num = int(input())\n",
    "\n",
    "networks = [[0] * (N + 1) for _ in range(N+1)]\n",
    "\n",
    "for _ in range(conn_num):\n",
    "    a, b = map(int, input().split())\n",
    "    networks[a][b] = 1; networks[b][a] = 1\n",
    "    \n",
    "def dfs(current_node, networks, foot_print):\n",
    "    foot_print += [current_node]\n",
    "    \n",
    "    for search_node in range(len(networks[current_node])):\n",
    "        if networks[current_node][search_node] and search_node not in foot_print:\n",
    "            foot_print = dfs(search_node, networks, foot_print)\n",
    "            \n",
    "    return foot_print\n",
    "\n",
    "result = dfs(1, networks, [])\n",
    "\n",
    "print(len(result) - 1)"
   ]
  }
 ],
 "metadata": {
  "kernelspec": {
   "display_name": "Python 3",
   "language": "python",
   "name": "python3"
  },
  "language_info": {
   "codemirror_mode": {
    "name": "ipython",
    "version": 3
   },
   "file_extension": ".py",
   "mimetype": "text/x-python",
   "name": "python",
   "nbconvert_exporter": "python",
   "pygments_lexer": "ipython3",
   "version": "3.7.3"
  }
 },
 "nbformat": 4,
 "nbformat_minor": 2
}
