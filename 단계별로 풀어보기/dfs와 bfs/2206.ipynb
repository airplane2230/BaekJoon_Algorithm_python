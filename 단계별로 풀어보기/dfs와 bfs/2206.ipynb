{
 "cells": [
  {
   "cell_type": "code",
   "execution_count": null,
   "metadata": {},
   "outputs": [],
   "source": [
    "from collections import deque\n",
    "\n",
    "N, M = map(int, input().split())\n",
    "\n",
    "board = []\n",
    "for _ in range(N):\n",
    "    board.append(list(map(int, list(input()))))\n",
    "    \n",
    "visited = [[[0] * 2 for i in range(M)] for i in range(N)]\n",
    "visited[0][0][0] = 1\n",
    "\n",
    "dx = [1, -1, 0, 0]\n",
    "dy = [0, 0, -1, 1]\n",
    "\n",
    "queue = deque()\n",
    "queue.append([0, 0, 0])\n",
    "\n",
    "result = -1\n",
    "\n",
    "while queue:\n",
    "    row, col, w = queue.popleft()\n",
    "    \n",
    "    if row == N - 1 and col == M - 1:\n",
    "        result = visited[row][col][w]\n",
    "        break\n",
    "    \n",
    "    for k in range(4):\n",
    "        _row = row + dx[k]\n",
    "        _col = col + dy[k]\n",
    "        \n",
    "        if 0 <= _row < N and 0 <= _col < M:\n",
    "            if board[_row][_col] == 0 and visited[_row][_col][w] == 0:\n",
    "                visited[_row][_col][w] = visited[row][col][w] + 1\n",
    "                queue.append([_row, _col, w])\n",
    "            elif w == 0 and board[_row][_col] == 1 and visited[_row][_col][w + 1] == 0:\n",
    "                visited[_row][_col][w + 1] = visited[row][col][w] + 1\n",
    "                queue.append([_row, _col, w + 1])\n",
    "    \n",
    "print(result if result == -1 else result)"
   ]
  }
 ],
 "metadata": {
  "kernelspec": {
   "display_name": "Python 3",
   "language": "python",
   "name": "python3"
  },
  "language_info": {
   "codemirror_mode": {
    "name": "ipython",
    "version": 3
   },
   "file_extension": ".py",
   "mimetype": "text/x-python",
   "name": "python",
   "nbconvert_exporter": "python",
   "pygments_lexer": "ipython3",
   "version": "3.7.3"
  }
 },
 "nbformat": 4,
 "nbformat_minor": 2
}
