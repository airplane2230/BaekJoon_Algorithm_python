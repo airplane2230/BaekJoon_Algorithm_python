{
 "cells": [
  {
   "cell_type": "code",
   "execution_count": null,
   "metadata": {},
   "outputs": [],
   "source": [
    "from collections import deque\n",
    "\n",
    "N, K = map(int, input().split())\n",
    "\n",
    "case = [-1, 1, 2]\n",
    "cnt = 0\n",
    "visited = [False] * 100001\n",
    "\n",
    "queue = deque([[N, cnt]])\n",
    "\n",
    "while queue:\n",
    "    current = queue.popleft()\n",
    "    current_value = current[0]\n",
    "    cnt = current[1]\n",
    "         \n",
    "    if not visited[current_value]:\n",
    "        if current_value == K:\n",
    "            break\n",
    "        visited[current_value] = True\n",
    "    \n",
    "        for i in case:\n",
    "            if(i == 2):\n",
    "                value = current_value * 2\n",
    "            else:\n",
    "                value = current_value + i\n",
    "\n",
    "            if 0 <= value and value <= 100000:\n",
    "                queue.append([value, cnt + 1])\n",
    "                \n",
    "print(cnt)"
   ]
  }
 ],
 "metadata": {
  "kernelspec": {
   "display_name": "Python 3",
   "language": "python",
   "name": "python3"
  },
  "language_info": {
   "codemirror_mode": {
    "name": "ipython",
    "version": 3
   },
   "file_extension": ".py",
   "mimetype": "text/x-python",
   "name": "python",
   "nbconvert_exporter": "python",
   "pygments_lexer": "ipython3",
   "version": "3.7.3"
  }
 },
 "nbformat": 4,
 "nbformat_minor": 2
}
