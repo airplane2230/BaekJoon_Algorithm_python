{
 "cells": [
  {
   "cell_type": "code",
   "execution_count": null,
   "metadata": {},
   "outputs": [],
   "source": [
    "def dfs(row, col):\n",
    "    if visited[row][col] == 0 and field[row][col] == 1:\n",
    "        visited[row][col] = 1\n",
    "\n",
    "        for k in range(4):\n",
    "            _row = row + dy[k]\n",
    "            _col = col + dx[k]\n",
    "\n",
    "            if(0 <= _row < N and 0 <= _col < M):\n",
    "                if(visited[_row][_col] == 0 and field[_row][_col] == 1):\n",
    "                    dfs(_row, _col)\n",
    "\n",
    "T = int(input())\n",
    "\n",
    "for _ in range(T):\n",
    "    M, N, K = map(int, list(input().split()))\n",
    "    field = [[0] * (M + 1) for _ in range(N)]\n",
    "    \n",
    "    for _ in range(K):\n",
    "        a, b = map(int, input().split())\n",
    "        field[b][a] = 1\n",
    "\n",
    "    visited = [[0] * (M + 1) for _ in range(N)]\n",
    "    counter = 0\n",
    "    result = []\n",
    "\n",
    "    dx = [-1, 1, 0, 0]\n",
    "    dy = [0, 0, 1, -1]\n",
    "\n",
    "    for row in range(N):\n",
    "        for col in range(M):\n",
    "            if visited[row][col] == 0 and field[row][col] == 1:\n",
    "                dfs(row, col)\n",
    "                counter += 1\n",
    "                \n",
    "    print(counter)"
   ]
  }
 ],
 "metadata": {
  "kernelspec": {
   "display_name": "Python 3",
   "language": "python",
   "name": "python3"
  },
  "language_info": {
   "codemirror_mode": {
    "name": "ipython",
    "version": 3
   },
   "file_extension": ".py",
   "mimetype": "text/x-python",
   "name": "python",
   "nbconvert_exporter": "python",
   "pygments_lexer": "ipython3",
   "version": "3.7.3"
  }
 },
 "nbformat": 4,
 "nbformat_minor": 2
}
