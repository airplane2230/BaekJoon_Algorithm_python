{
 "cells": [
  {
   "cell_type": "code",
   "execution_count": null,
   "metadata": {},
   "outputs": [],
   "source": [
    "import sys\n",
    "\n",
    "# input = sys.stdin.readline\n",
    "\n",
    "N = int(input())\n",
    "visited = [[0] * N for _ in range(N)]\n",
    "board = []\n",
    "\n",
    "for _ in range(N):\n",
    "    board.append(list(map(int, list(input()))))\n",
    "\n",
    "result = [] \n",
    "counter = 0\n",
    "dx = [-1, 1, 0, 0]\n",
    "dy = [0, 0, 1, -1]\n",
    "\n",
    "def dfs(i, j):\n",
    "    global counter \n",
    "    \n",
    "    # 방문된 적이 없다면 방문 표시\n",
    "    if visited[i][j] == 0 and board[i][j] == 1:\n",
    "        visited[i][j] = 1\n",
    "        counter += 1\n",
    "\n",
    "        for k in range(4):\n",
    "            _i = i + dx[k]\n",
    "            _j = j + dy[k]\n",
    "            \n",
    "            if(0 <= _i < N and 0 <= _j < N):\n",
    "                if(visited[_i][_j] == 0 and board[_i][_j] == 1):\n",
    "                    dfs(_i, _j)\n",
    "\n",
    "for i in range(N):\n",
    "    for j in range(N):\n",
    "        if(visited[i][j] == 0 and board[i][j] == 1):\n",
    "            dfs(i, j)\n",
    "            result.append(counter)\n",
    "            counter = 0\n",
    "        \n",
    "print(len(result))\n",
    "for num in sorted(result):\n",
    "    print(num)"
   ]
  }
 ],
 "metadata": {
  "kernelspec": {
   "display_name": "Python 3",
   "language": "python",
   "name": "python3"
  },
  "language_info": {
   "codemirror_mode": {
    "name": "ipython",
    "version": 3
   },
   "file_extension": ".py",
   "mimetype": "text/x-python",
   "name": "python",
   "nbconvert_exporter": "python",
   "pygments_lexer": "ipython3",
   "version": "3.7.3"
  }
 },
 "nbformat": 4,
 "nbformat_minor": 2
}
