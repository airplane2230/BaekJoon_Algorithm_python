{
 "cells": [
  {
   "cell_type": "code",
   "execution_count": null,
   "metadata": {},
   "outputs": [],
   "source": [
    "N, M = map(int, input().split())\n",
    "\n",
    "maze = []\n",
    "for _ in range(N):\n",
    "    maze.append(list(map(int, list(input()))))\n",
    "\n",
    "dx = [1, -1, 0, 0]\n",
    "dy = [0, 0, 1, -1]\n",
    "queue = [[0, 0]]\n",
    "maze[0][0] = 1\n",
    "\n",
    "while queue:\n",
    "    row, col = queue.pop(0)\n",
    "        \n",
    "    for k in range(4):\n",
    "        _row = row + dy[k]\n",
    "        _col = col + dx[k]\n",
    "        \n",
    "        if 0 <= _col < M and 0 <= _row < N and maze[_row][_col] == 1:\n",
    "            queue.append([_row, _col])\n",
    "            maze[_row][_col] = maze[row][col] + 1\n",
    "            \n",
    "print(maze[N - 1][M - 1])"
   ]
  }
 ],
 "metadata": {
  "kernelspec": {
   "display_name": "Python 3",
   "language": "python",
   "name": "python3"
  },
  "language_info": {
   "codemirror_mode": {
    "name": "ipython",
    "version": 3
   },
   "file_extension": ".py",
   "mimetype": "text/x-python",
   "name": "python",
   "nbconvert_exporter": "python",
   "pygments_lexer": "ipython3",
   "version": "3.7.3"
  }
 },
 "nbformat": 4,
 "nbformat_minor": 2
}
