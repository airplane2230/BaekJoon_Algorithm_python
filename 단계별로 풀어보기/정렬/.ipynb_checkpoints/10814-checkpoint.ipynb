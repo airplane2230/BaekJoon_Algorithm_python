{
 "cells": [
  {
   "cell_type": "code",
   "execution_count": 14,
   "metadata": {},
   "outputs": [
    {
     "name": "stdout",
     "output_type": "stream",
     "text": [
      "3\n",
      "21 Junkyu\n",
      "21 Dohyun\n",
      "20 So\n"
     ]
    }
   ],
   "source": [
    "Case = int(input())\n",
    "\n",
    "customer_list = []\n",
    "for i in range(Case):\n",
    "    age, name = input().split()\n",
    "    age = int(age)\n",
    "    customer_list.append([age, name, i])\n",
    "customer_list = sorted(customer_list, key = lambda x : (x[0], x[2]))\n",
    "sorted_customer_list = list(map(lambda x : x[:-1], customer_list))\n",
    "for customer in sorted_customer_list:\n",
    "    print(*customer)"
   ]
  },
  {
   "cell_type": "code",
   "execution_count": null,
   "metadata": {},
   "outputs": [],
   "source": []
  }
 ],
 "metadata": {
  "kernelspec": {
   "display_name": "Python 3",
   "language": "python",
   "name": "python3"
  },
  "language_info": {
   "codemirror_mode": {
    "name": "ipython",
    "version": 3
   },
   "file_extension": ".py",
   "mimetype": "text/x-python",
   "name": "python",
   "nbconvert_exporter": "python",
   "pygments_lexer": "ipython3",
   "version": "3.7.1"
  }
 },
 "nbformat": 4,
 "nbformat_minor": 2
}
