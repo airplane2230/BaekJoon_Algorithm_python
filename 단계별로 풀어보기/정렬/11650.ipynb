{
 "cells": [
  {
   "cell_type": "code",
   "execution_count": null,
   "metadata": {},
   "outputs": [],
   "source": [
    "Case = int(input())\n",
    "\n",
    "coord_list = []\n",
    "for _ in range(Case):\n",
    "    coord_list.append(list(map(int, input().split())))\n",
    "coord_list = sorted(coord_list, key = lambda x : (x[0], x[1]))\n",
    "\n",
    "for coord in coord_list:\n",
    "    print(*coord)"
   ]
  }
 ],
 "metadata": {
  "kernelspec": {
   "display_name": "Python 3",
   "language": "python",
   "name": "python3"
  },
  "language_info": {
   "codemirror_mode": {
    "name": "ipython",
    "version": 3
   },
   "file_extension": ".py",
   "mimetype": "text/x-python",
   "name": "python",
   "nbconvert_exporter": "python",
   "pygments_lexer": "ipython3",
   "version": "3.7.1"
  }
 },
 "nbformat": 4,
 "nbformat_minor": 2
}
