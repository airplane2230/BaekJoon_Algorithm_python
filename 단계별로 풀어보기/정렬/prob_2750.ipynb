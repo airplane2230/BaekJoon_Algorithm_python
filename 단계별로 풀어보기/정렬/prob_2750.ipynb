{
 "cells": [
  {
   "cell_type": "code",
   "execution_count": 71,
   "metadata": {},
   "outputs": [
    {
     "name": "stdout",
     "output_type": "stream",
     "text": [
      "5\n",
      "80\n",
      "90\n",
      "20\n",
      "36\n",
      "72\n"
     ]
    }
   ],
   "source": [
    "test = [int(input()) for _ in range(int(input()))]\n",
    "for i in range(len(test)):\n",
    "    for j in range(len(test) - i - 1):\n",
    "        if(test[j + 1] < test[j]):\n",
    "            temp = test[j + 1]\n",
    "            test[j + 1] = test[j]\n",
    "            test[j] = temp\n",
    "for i in test:\n",
    "    print(i)"
   ]
  },
  {
   "cell_type": "code",
   "execution_count": 78,
   "metadata": {},
   "outputs": [
    {
     "name": "stdout",
     "output_type": "stream",
     "text": [
      "5\n",
      "5\n",
      "4\n",
      "3\n",
      "2\n",
      "1\n",
      "[1, 2, 3, 4, 5]\n"
     ]
    }
   ],
   "source": [
    "test = [int(input()) for _ in range(int(input()))]\n",
    "test = sorted(test)\n",
    "for i in test:\n",
    "    print(i)"
   ]
  }
 ],
 "metadata": {
  "kernelspec": {
   "display_name": "tensorflow",
   "language": "python",
   "name": "tensorflow"
  },
  "language_info": {
   "codemirror_mode": {
    "name": "ipython",
    "version": 3
   },
   "file_extension": ".py",
   "mimetype": "text/x-python",
   "name": "python",
   "nbconvert_exporter": "python",
   "pygments_lexer": "ipython3",
   "version": "3.6.3"
  }
 },
 "nbformat": 4,
 "nbformat_minor": 2
}
