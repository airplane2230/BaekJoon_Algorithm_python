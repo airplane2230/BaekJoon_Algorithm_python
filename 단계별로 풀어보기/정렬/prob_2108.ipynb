{
 "cells": [
  {
   "cell_type": "code",
   "execution_count": 412,
   "metadata": {},
   "outputs": [
    {
     "name": "stdout",
     "output_type": "stream",
     "text": [
      "5\n",
      "2\n",
      "2\n",
      "8\n",
      "8\n",
      "8\n",
      "6\n",
      "8\n",
      "8\n",
      "6\n"
     ]
    }
   ],
   "source": [
    "import sys\n",
    "from collections import Counter\n",
    "  \n",
    "#main\n",
    "t = int(sys.stdin.readline())\n",
    "num_list = []\n",
    "for _ in range(t):\n",
    "    num_list.append(int(sys.stdin.readline())) \n",
    "\n",
    "def mode(x):\n",
    "    mode_dict = Counter(x)\n",
    "    modes = mode_dict.most_common()\n",
    "    if len(x) > 1 : \n",
    "        if modes[0][1] == modes[1][1]:\n",
    "            mod = modes[1][0]\n",
    "        else : \n",
    "            mod = modes[0][0]\n",
    "    else : \n",
    "        mod = modes[0][0]\n",
    "    \n",
    "    return mod\n",
    "\n",
    "print(round(sum(num_list) / len(num_list)))\n",
    "num_list.sort()\n",
    "print(num_list[len(num_list) // 2])\n",
    "print(mode(num_list))\n",
    "print(num_list[-1] - num_list[0])"
   ]
  }
 ],
 "metadata": {
  "kernelspec": {
   "display_name": "tensorflow",
   "language": "python",
   "name": "tensorflow"
  },
  "language_info": {
   "codemirror_mode": {
    "name": "ipython",
    "version": 3
   },
   "file_extension": ".py",
   "mimetype": "text/x-python",
   "name": "python",
   "nbconvert_exporter": "python",
   "pygments_lexer": "ipython3",
   "version": "3.6.3"
  }
 },
 "nbformat": 4,
 "nbformat_minor": 2
}
