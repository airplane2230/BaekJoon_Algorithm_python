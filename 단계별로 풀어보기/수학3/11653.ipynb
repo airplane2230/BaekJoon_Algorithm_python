{
 "cells": [
  {
   "cell_type": "code",
   "execution_count": 28,
   "metadata": {},
   "outputs": [
    {
     "name": "stdout",
     "output_type": "stream",
     "text": [
      "6\n",
      "2\n",
      "3\n"
     ]
    }
   ],
   "source": [
    "import math\n",
    "\n",
    "num = int(input())\n",
    "\n",
    "# 분해가 전부 될때까지 loop 돌립니다.\n",
    "while num != 1:\n",
    "    for i in range(2, num + 1):\n",
    "        # 나눠지면 출력하고,\n",
    "        # 다음을 위해 해당 수로 num을 나눠줍니다.\n",
    "        if(num % i == 0):\n",
    "            print(i)\n",
    "            num = num // i\n",
    "            break"
   ]
  }
 ],
 "metadata": {
  "kernelspec": {
   "display_name": "Python 3",
   "language": "python",
   "name": "python3"
  },
  "language_info": {
   "codemirror_mode": {
    "name": "ipython",
    "version": 3
   },
   "file_extension": ".py",
   "mimetype": "text/x-python",
   "name": "python",
   "nbconvert_exporter": "python",
   "pygments_lexer": "ipython3",
   "version": "3.7.3"
  }
 },
 "nbformat": 4,
 "nbformat_minor": 2
}
