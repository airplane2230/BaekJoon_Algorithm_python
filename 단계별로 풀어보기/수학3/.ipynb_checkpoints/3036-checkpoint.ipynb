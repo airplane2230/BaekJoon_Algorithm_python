{
 "cells": [
  {
   "cell_type": "code",
   "execution_count": 1,
   "metadata": {},
   "outputs": [
    {
     "name": "stdout",
     "output_type": "stream",
     "text": [
      "4\n",
      "12 3 8 4\n"
     ]
    }
   ],
   "source": [
    "def get_gca(a, b):\n",
    "    if(b > a):\n",
    "        num_1 = b\n",
    "        num_2 = a\n",
    "    else:\n",
    "        num_1 = a\n",
    "        num_2 = b\n",
    "    \n",
    "    if(num_1 % num_2 == 0):\n",
    "        return num_2\n",
    "    \n",
    "    while(num_1 % num_2):\n",
    "        gca = num_1 % num_2\n",
    "        num_1 = num_2\n",
    "        num_2 = gca\n",
    "        \n",
    "    return gca\n",
    "\n",
    "N = int(input())\n",
    "ring_radius = list(map(int, input().split()))\n",
    "\n",
    "for i in ring_radius[1:]:\n",
    "    gca = get_gca(ring_radius[0], i)\n",
    "    print(f'{int(ring_radius[0]/gca)}/{int(i/gca)}')"
   ]
  }
 ],
 "metadata": {
  "kernelspec": {
   "display_name": "Python 3",
   "language": "python",
   "name": "python3"
  },
  "language_info": {
   "codemirror_mode": {
    "name": "ipython",
    "version": 3
   },
   "file_extension": ".py",
   "mimetype": "text/x-python",
   "name": "python",
   "nbconvert_exporter": "python",
   "pygments_lexer": "ipython3",
   "version": "3.7.3"
  }
 },
 "nbformat": 4,
 "nbformat_minor": 2
}
