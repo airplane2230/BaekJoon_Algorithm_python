{
 "cells": [
  {
   "cell_type": "code",
   "execution_count": null,
   "metadata": {},
   "outputs": [],
   "source": [
    "n = int(input())\n",
    "for _ in range(n):\n",
    "    _n = int(input())\n",
    "    clothes_type = {}\n",
    "    \n",
    "    for _ in range(_n):\n",
    "        name, type = input().split()\n",
    "        if(type in clothes_type):\n",
    "            clothes_type[type] += 1\n",
    "        else:\n",
    "            clothes_type[type] = 1\n",
    "    \n",
    "    case = 1\n",
    "    for key in clothes_type.keys():\n",
    "        case = case * (clothes_type[key] + 1)\n",
    "    \n",
    "    print(case - 1)"
   ]
  }
 ],
 "metadata": {
  "kernelspec": {
   "display_name": "Python 3",
   "language": "python",
   "name": "python3"
  },
  "language_info": {
   "codemirror_mode": {
    "name": "ipython",
    "version": 3
   },
   "file_extension": ".py",
   "mimetype": "text/x-python",
   "name": "python",
   "nbconvert_exporter": "python",
   "pygments_lexer": "ipython3",
   "version": "3.7.3"
  }
 },
 "nbformat": 4,
 "nbformat_minor": 2
}
