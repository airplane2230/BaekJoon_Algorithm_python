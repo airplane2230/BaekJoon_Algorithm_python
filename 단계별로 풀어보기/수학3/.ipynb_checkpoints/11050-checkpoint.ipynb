{
 "cells": [
  {
   "cell_type": "code",
   "execution_count": 27,
   "metadata": {},
   "outputs": [
    {
     "name": "stdout",
     "output_type": "stream",
     "text": [
      "5 3\n",
      "10\n"
     ]
    }
   ],
   "source": [
    "N, K = list(map(int, input().split()))\n",
    "\n",
    "up = 1\n",
    "for i in range(N, N-K, -1):\n",
    "    up *= i\n",
    "\n",
    "down = 1\n",
    "for i in range(1, K+1):\n",
    "    down *= i\n",
    "\n",
    "print(up // down)"
   ]
  },
  {
   "cell_type": "code",
   "execution_count": 32,
   "metadata": {},
   "outputs": [
    {
     "name": "stdout",
     "output_type": "stream",
     "text": [
      "5 2\n",
      "10\n"
     ]
    }
   ],
   "source": [
    "from math import factorial\n",
    "\n",
    "N, K = list(map(int, input().split()))\n",
    "\n",
    "print(factorial(N)//(factorial(K) * factorial(N-K)))"
   ]
  }
 ],
 "metadata": {
  "kernelspec": {
   "display_name": "Python 3",
   "language": "python",
   "name": "python3"
  },
  "language_info": {
   "codemirror_mode": {
    "name": "ipython",
    "version": 3
   },
   "file_extension": ".py",
   "mimetype": "text/x-python",
   "name": "python",
   "nbconvert_exporter": "python",
   "pygments_lexer": "ipython3",
   "version": "3.7.3"
  }
 },
 "nbformat": 4,
 "nbformat_minor": 2
}
