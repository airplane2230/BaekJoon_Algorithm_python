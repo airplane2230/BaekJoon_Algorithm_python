{
 "cells": [
  {
   "cell_type": "code",
   "execution_count": null,
   "metadata": {},
   "outputs": [],
   "source": [
    "def get_gcd(a, b):\n",
    "    if(b > a):\n",
    "        num_1 = b\n",
    "        num_2 = a\n",
    "    else:\n",
    "        num_1 = a\n",
    "        num_2 = b\n",
    "        \n",
    "    if(num_1 % num_2 == 0):\n",
    "        return num_2\n",
    "        \n",
    "    while(num_1 % num_2):\n",
    "        gcd = num_1 % num_2\n",
    "        num_1 = num_2\n",
    "        num_2 = gcd\n",
    "        \n",
    "    return gcd\n",
    "\n",
    "N = int(input())\n",
    "num_list = [int(input()) for _ in range(N)]\n",
    "num_list = sorted(num_list, reverse = True)\n",
    "\n",
    "diff_list = [a - b for a, b in zip(num_list, num_list[1:] + [0])][:-1]\n",
    "\n",
    "init_gcd = diff_list[0]\n",
    "for i in range(1, len(diff_list)):\n",
    "    init_gcd = get_gcd(init_gcd, diff_list[i])\n",
    "\n",
    "results = []\n",
    "\n",
    "for i in range(2, int(init_gcd ** (1/2)) + 1):\n",
    "    if(init_gcd % i == 0):\n",
    "        results.append(i)\n",
    "        if(init_gcd // i != i):\n",
    "            results.append(init_gcd // i)\n",
    "results.append(init_gcd)\n",
    "results = sorted(set(results))\n",
    "\n",
    "print(''.join([str(i) + ' ' for i in results])[:-1])"
   ]
  }
 ],
 "metadata": {
  "kernelspec": {
   "display_name": "Python 3",
   "language": "python",
   "name": "python3"
  },
  "language_info": {
   "codemirror_mode": {
    "name": "ipython",
    "version": 3
   },
   "file_extension": ".py",
   "mimetype": "text/x-python",
   "name": "python",
   "nbconvert_exporter": "python",
   "pygments_lexer": "ipython3",
   "version": "3.7.3"
  }
 },
 "nbformat": 4,
 "nbformat_minor": 2
}
