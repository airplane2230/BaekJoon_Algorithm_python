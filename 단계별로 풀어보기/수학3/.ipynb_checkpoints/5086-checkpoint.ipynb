{
 "cells": [
  {
   "cell_type": "code",
   "execution_count": 22,
   "metadata": {},
   "outputs": [
    {
     "name": "stdout",
     "output_type": "stream",
     "text": [
      "17 5\n",
      "neither\n",
      "0 0\n"
     ]
    }
   ],
   "source": [
    "while(True):\n",
    "    a, b = list(map(int, input().split()))\n",
    "    \n",
    "    # 0, 0\n",
    "    if(a + b == 0):\n",
    "        break\n",
    "    \n",
    "    # case 1\n",
    "    if(a < b):\n",
    "        if(b % a == 0):\n",
    "            print('factor')\n",
    "        else:\n",
    "            print('neither')\n",
    "    elif(a > b):\n",
    "        if(a % b == 0):\n",
    "            print('multiple')\n",
    "        else:\n",
    "            print('neither')"
   ]
  }
 ],
 "metadata": {
  "kernelspec": {
   "display_name": "Python 3",
   "language": "python",
   "name": "python3"
  },
  "language_info": {
   "codemirror_mode": {
    "name": "ipython",
    "version": 3
   },
   "file_extension": ".py",
   "mimetype": "text/x-python",
   "name": "python",
   "nbconvert_exporter": "python",
   "pygments_lexer": "ipython3",
   "version": "3.7.1"
  }
 },
 "nbformat": 4,
 "nbformat_minor": 2
}
