{
 "cells": [
  {
   "cell_type": "code",
   "execution_count": 1,
   "metadata": {},
   "outputs": [
    {
     "name": "stdout",
     "output_type": "stream",
     "text": [
      "25 12\n"
     ]
    }
   ],
   "source": [
    "def div_number(k, n):\n",
    "    count = 0\n",
    "    while(k != 0):\n",
    "        k = k // n\n",
    "        count += k\n",
    "    return count\n",
    "\n",
    "n, m = list(map(int, input().split()))\n",
    "\n",
    "div_five = div_number(n, 5) - div_number(m, 5) - div_number(n-m, 5)\n",
    "div_two = div_number(n, 2) - div_number(m, 2) - div_number(n-m, 2)\n",
    "\n",
    "print(min(div_five, div_two))"
   ]
  }
 ],
 "metadata": {
  "kernelspec": {
   "display_name": "Python 3",
   "language": "python",
   "name": "python3"
  },
  "language_info": {
   "codemirror_mode": {
    "name": "ipython",
    "version": 3
   },
   "file_extension": ".py",
   "mimetype": "text/x-python",
   "name": "python",
   "nbconvert_exporter": "python",
   "pygments_lexer": "ipython3",
   "version": "3.7.3"
  }
 },
 "nbformat": 4,
 "nbformat_minor": 2
}
