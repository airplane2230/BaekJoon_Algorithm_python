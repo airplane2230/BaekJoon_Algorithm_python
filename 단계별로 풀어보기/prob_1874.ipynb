{
 "cells": [
  {
   "cell_type": "code",
   "execution_count": 81,
   "metadata": {},
   "outputs": [
    {
     "name": "stdout",
     "output_type": "stream",
     "text": [
      "8\n",
      "4\n",
      "3\n",
      "6\n",
      "8\n",
      "7\n",
      "5\n",
      "2\n",
      "1\n",
      "+\n",
      "+\n",
      "+\n",
      "+\n",
      "-\n",
      "-\n",
      "+\n",
      "+\n",
      "-\n",
      "+\n",
      "+\n",
      "-\n",
      "-\n",
      "-\n",
      "-\n",
      "-\n"
     ]
    }
   ],
   "source": [
    "class Stack:\n",
    "    def __init__(self):\n",
    "        self.len = 0\n",
    "        self.list = []\n",
    "        \n",
    "    def push(self, x):\n",
    "        self.list.append(x)\n",
    "        self.len += 1\n",
    "        \n",
    "    def pop(self):\n",
    "        if(self.size() == 0):\n",
    "            return -1\n",
    "        self.len -= 1\n",
    "        return self.list.pop()\n",
    "    \n",
    "    def size(self):\n",
    "        return self.len\n",
    "        \n",
    "    def top(self):\n",
    "        return self.list[-1] if self.size() else -1\n",
    "    \n",
    "    def empty(self):\n",
    "        return 1 if len(self.list) == 0 else 0\n",
    "        \n",
    "Case = int(input())\n",
    "num_list = [int(input()) for _ in range(Case)]\n",
    "output_list = []\n",
    "\n",
    "num_pointer = 0\n",
    "stack = Stack()\n",
    "\n",
    "for i in range(Case):\n",
    "    stack.push(i + 1)\n",
    "    output_list.append('+')\n",
    "    \n",
    "    while(num_pointer < Case and stack.top() == num_list[num_pointer]):\n",
    "        stack.pop()\n",
    "        output_list.append('-')\n",
    "        num_pointer += 1\n",
    "        \n",
    "if not stack.empty():\n",
    "    print(\"NO\")\n",
    "else:\n",
    "    for i in output_list:\n",
    "        print(i)"
   ]
  },
  {
   "cell_type": "code",
   "execution_count": null,
   "metadata": {},
   "outputs": [],
   "source": []
  }
 ],
 "metadata": {
  "kernelspec": {
   "display_name": "Python 3",
   "language": "python",
   "name": "python3"
  },
  "language_info": {
   "codemirror_mode": {
    "name": "ipython",
    "version": 3
   },
   "file_extension": ".py",
   "mimetype": "text/x-python",
   "name": "python",
   "nbconvert_exporter": "python",
   "pygments_lexer": "ipython3",
   "version": "3.7.1"
  }
 },
 "nbformat": 4,
 "nbformat_minor": 2
}
