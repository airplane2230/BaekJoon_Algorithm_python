{
 "cells": [
  {
   "cell_type": "code",
   "execution_count": 178,
   "metadata": {},
   "outputs": [
    {
     "name": "stdout",
     "output_type": "stream",
     "text": [
      "7 3\n",
      "['1', '2', '3', '4', '5', '6', '7']\n",
      "['1', '2', '3', '4', '5', '6', '7']\n",
      "['1', '2', '4', '5', '5', '6', '7']\n",
      "['1', '2', '4', '5', '7', '1', '7']\n",
      "['5', '2', '4', '5', '7', '1', '4']\n",
      "['5', '1', '4', '5', '7', '1', '4']\n",
      "['5', '1', '4', '1', '4', '1', '4']\n",
      "<3, 6, 2, 7, 5, 1, 4>"
     ]
    }
   ],
   "source": [
    "import sys\n",
    " \n",
    "class Queue(): \n",
    "    def __init__(self, size):\n",
    "        self.maxSize = size\n",
    "        self.size = 0\n",
    "        self.arr = ['']*size\n",
    "        self.front = -1\n",
    "        self.rear = -1\n",
    " \n",
    "    def enqueue(self, data):\n",
    "        if not self.isFull():\n",
    "            self.rear = (self.rear+1) % self.maxSize\n",
    "            self.arr[self.rear] = data\n",
    "            self.size += 1\n",
    " \n",
    "    def dequeue(self):\n",
    "        if not self.isEmpty():\n",
    "            self.front = (self.front + 1) % self.maxSize\n",
    "            self.size -= 1\n",
    "            return self.arr[self.front]\n",
    " \n",
    "    def isEmpty(self):\n",
    "        return self.size == 0\n",
    " \n",
    "    def isFull(self):\n",
    "        return self.size == self.maxSize\n",
    " \n",
    "    def __bool__(self):\n",
    "        return self.isEmpty()\n",
    "    \n",
    "# N, K = map(int, sys.stdin.readline().strip().split())\n",
    "N, K = map(int, input().split())\n",
    "people = Queue(N)\n",
    " \n",
    "for i in range(1, N+1):\n",
    "    people.enqueue(str(i))\n",
    "\n",
    "result = '<'\n",
    " \n",
    "while not people.isEmpty():\n",
    "    for i in range(K-1):\n",
    "            people.enqueue(people.dequeue())\n",
    "    result += str(people.dequeue())\n",
    "    if not people.isEmpty():\n",
    "        result += ', '\n",
    "    else:\n",
    "        result += '>'\n",
    "sys.stdout.write(result)"
   ]
  },
  {
   "cell_type": "code",
   "execution_count": 176,
   "metadata": {},
   "outputs": [
    {
     "name": "stdout",
     "output_type": "stream",
     "text": [
      "10 2\n",
      "<2, 4, 6, 8, 10, 3, 7, 1, 9, 5>\n"
     ]
    }
   ],
   "source": [
    "N, K = map(int, input().split())\n",
    "\n",
    "people = [x for x in range(1, N + 1)]\n",
    "out_order = list()\n",
    "\n",
    "def out_person(people, out_order, count):\n",
    "    if(len(people) < K):\n",
    "        out_order.extend(people)\n",
    "        return out_order\n",
    "    else:\n",
    "        if(count == K):\n",
    "            out_order.append(people[0])\n",
    "            people = people[1:]\n",
    "            return out_person(people, out_order, 1)\n",
    "        else:\n",
    "            people.append(people[0])\n",
    "            people = people[1:]\n",
    "            return out_person(people, out_order, count + 1)\n",
    "\n",
    "result = out_person(people, out_order, 1)\n",
    "\n",
    "output = \"<\"\n",
    "for i in result[:-1]:\n",
    "    output += str(i) + ', '\n",
    "output += str(result[-1]) + \">\"\n",
    "print(output)"
   ]
  },
  {
   "cell_type": "code",
   "execution_count": null,
   "metadata": {},
   "outputs": [],
   "source": []
  }
 ],
 "metadata": {
  "kernelspec": {
   "display_name": "Python 3",
   "language": "python",
   "name": "python3"
  },
  "language_info": {
   "codemirror_mode": {
    "name": "ipython",
    "version": 3
   },
   "file_extension": ".py",
   "mimetype": "text/x-python",
   "name": "python",
   "nbconvert_exporter": "python",
   "pygments_lexer": "ipython3",
   "version": "3.7.1"
  }
 },
 "nbformat": 4,
 "nbformat_minor": 2
}
