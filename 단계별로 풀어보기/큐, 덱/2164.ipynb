{
 "cells": [
  {
   "cell_type": "code",
   "execution_count": 12,
   "metadata": {},
   "outputs": [
    {
     "name": "stdout",
     "output_type": "stream",
     "text": [
      "4\n"
     ]
    }
   ],
   "source": [
    "from collections import deque\n",
    "\n",
    "N = int(input())\n",
    "deque = deque([i for i in range(1, N + 1)])\n",
    "\n",
    "while(not (len(deque) == 1)):\n",
    "    # 버리고,\n",
    "    deque.popleft()\n",
    "    # 맨 앞의 숫자를 뒤로 옮기자.\n",
    "    move_num = deque.popleft()\n",
    "    deque.append(move_num)\n",
    "    \n",
    "print(deque[0])"
   ]
  }
 ],
 "metadata": {
  "kernelspec": {
   "display_name": "Python 3",
   "language": "python",
   "name": "python3"
  },
  "language_info": {
   "codemirror_mode": {
    "name": "ipython",
    "version": 3
   },
   "file_extension": ".py",
   "mimetype": "text/x-python",
   "name": "python",
   "nbconvert_exporter": "python",
   "pygments_lexer": "ipython3",
   "version": "3.7.1"
  }
 },
 "nbformat": 4,
 "nbformat_minor": 2
}
