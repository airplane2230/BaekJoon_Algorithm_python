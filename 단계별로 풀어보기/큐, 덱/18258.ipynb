{
 "cells": [
  {
   "cell_type": "code",
   "execution_count": 4,
   "metadata": {
    "scrolled": true
   },
   "outputs": [
    {
     "name": "stdout",
     "output_type": "stream",
     "text": [
      "15\n",
      "push 1\n",
      "push 2\n",
      "front\n",
      "1\n",
      "back\n",
      "2\n",
      "size\n",
      "2\n",
      "empty\n",
      "0\n",
      "pop\n",
      "1\n",
      "pop\n",
      "2\n",
      "po\n",
      "pop\n",
      "-1\n",
      "size\n",
      "0\n",
      "empty\n",
      "1\n",
      "push 3\n",
      "front\n",
      "3\n",
      "pop\n",
      "3\n"
     ]
    }
   ],
   "source": [
    "import sys\n",
    "from collections import deque\n",
    "\n",
    "def push(queue, x):\n",
    "    queue.append(x)\n",
    "    \n",
    "def pop(deque):\n",
    "    return deque.popleft() if deque else -1\n",
    "\n",
    "def size(queue):\n",
    "    return len(queue)\n",
    "\n",
    "def empty(queue):\n",
    "    return 1 if not queue else 0\n",
    "\n",
    "def front(queue):\n",
    "    return queue[0] if queue else -1\n",
    "\n",
    "def back(queue):\n",
    "    return queue[-1] if queue else -1\n",
    "\n",
    "deque = deque()\n",
    "\n",
    "N = int(sys.stdin.readline().rstrip())\n",
    "\n",
    "for _ in range(N):\n",
    "    order = sys.stdin.readline().rstrip().split()\n",
    "    \n",
    "    command = order[0]\n",
    "    \n",
    "    if(command == \"push\"):\n",
    "        push(deque, order[1])\n",
    "    elif(command == \"pop\"):\n",
    "        sys.stdout.write(str(pop(deque)) + \"\\n\")\n",
    "    elif(command == \"size\"):\n",
    "        sys.stdout.write(str(size(deque)) + \"\\n\")\n",
    "    elif(command == \"empty\"):\n",
    "        sys.stdout.write(str(empty(deque)) + \"\\n\")\n",
    "    elif(command == \"front\"):\n",
    "        sys.stdout.write(str(front(deque)) + \"\\n\")\n",
    "    elif(command == \"back\"):\n",
    "        sys.stdout.write(str(back(deque)) + \"\\n\")"
   ]
  }
 ],
 "metadata": {
  "kernelspec": {
   "display_name": "Python 3",
   "language": "python",
   "name": "python3"
  },
  "language_info": {
   "codemirror_mode": {
    "name": "ipython",
    "version": 3
   },
   "file_extension": ".py",
   "mimetype": "text/x-python",
   "name": "python",
   "nbconvert_exporter": "python",
   "pygments_lexer": "ipython3",
   "version": "3.7.1"
  }
 },
 "nbformat": 4,
 "nbformat_minor": 2
}
