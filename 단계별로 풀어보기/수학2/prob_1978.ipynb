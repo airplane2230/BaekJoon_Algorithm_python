{
 "cells": [
  {
   "cell_type": "code",
   "execution_count": 1,
   "metadata": {},
   "outputs": [
    {
     "name": "stdout",
     "output_type": "stream",
     "text": [
      "4\n",
      "1 3 5 7\n"
     ]
    }
   ],
   "source": [
    "Case = int(input())\n",
    "num_list = list(map(int, input().split(' ')))\n",
    "\n",
    "res_counting = 0\n",
    "\n",
    "for i in num_list:\n",
    "    cnt = 0\n",
    "    if(i == 1):\n",
    "        continue\n",
    "    for j in range(2, i + 1):\n",
    "        if(i % j == 0):\n",
    "            cnt += 1\n",
    "    if(cnt == 1):\n",
    "        res_counting += 1\n",
    "print(res_counting)"
   ]
  }
 ],
 "metadata": {
  "kernelspec": {
   "display_name": "Python 3",
   "language": "python",
   "name": "python3"
  },
  "language_info": {
   "codemirror_mode": {
    "name": "ipython",
    "version": 3
   },
   "file_extension": ".py",
   "mimetype": "text/x-python",
   "name": "python",
   "nbconvert_exporter": "python",
   "pygments_lexer": "ipython3",
   "version": "3.7.1"
  }
 },
 "nbformat": 4,
 "nbformat_minor": 2
}
