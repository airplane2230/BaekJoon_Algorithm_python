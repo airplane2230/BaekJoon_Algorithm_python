{
 "cells": [
  {
   "cell_type": "code",
   "execution_count": 91,
   "metadata": {},
   "outputs": [
    {
     "name": "stdout",
     "output_type": "stream",
     "text": [
      "3\n",
      "8\n",
      "10\n",
      "16\n",
      "3 5\n",
      "5 5\n",
      "5 11\n"
     ]
    }
   ],
   "source": [
    "def is_prime(num):\n",
    "    if(num <= 1):\n",
    "        return False\n",
    "    \n",
    "    i = 2\n",
    "    while i * i <=num:\n",
    "        if(num % i == 0):\n",
    "            return False\n",
    "        i += 1\n",
    "    return True\n",
    "\n",
    "Case = int(input())\n",
    "num_list = [int(input()) for x in range(Case)]\n",
    "prime_list = []\n",
    "for i in range(2, 10001):\n",
    "    if(is_prime(i)):\n",
    "        prime_list.append(i)\n",
    "\n",
    "for num in num_list:\n",
    "    half = num // 2\n",
    "    d_half = half\n",
    "    u_half = half\n",
    "    while(d_half > 0):\n",
    "        if(d_half in prime_list and u_half in prime_list):\n",
    "            if(num == d_half + u_half):\n",
    "                print(d_half, u_half)\n",
    "                break\n",
    "        d_half -= 1\n",
    "        u_half += 1"
   ]
  },
  {
   "cell_type": "code",
   "execution_count": null,
   "metadata": {},
   "outputs": [],
   "source": [
    "def is_prime(num):\n",
    "    if(num <= 1):\n",
    "        return False\n",
    "    \n",
    "    i = 2\n",
    "    while i * i <=num:\n",
    "        if(num % i == 0):\n",
    "            return False\n",
    "        i += 1\n",
    "    return True\n",
    "import sys\n",
    "Case = int(sys.stdin.readline())\n",
    "\n",
    "prime_list = []\n",
    "for i in range(2, 10000):\n",
    "    if(is_prime(i)):\n",
    "        prime_list.append(i)\n",
    "\n",
    "diff = None\n",
    "prime_a, prime_b = 0, 0\n",
    "break_flag = False\n",
    "for _ in range(Case):\n",
    "    num = int(sys.stdin.readline())\n",
    "    for i in prime_list:\n",
    "        if(i > num // 2):\n",
    "            break\n",
    "        for j in prime_list:\n",
    "            if(i + j == num or j > num):\n",
    "                i_minus_j = abs(i - j)\n",
    "                if(diff == None):\n",
    "                    diff = i_minus_j\n",
    "                    prime_a, prime_b = i, j\n",
    "                elif(diff > i_minus_j):\n",
    "                    diff = i_minus_j\n",
    "                    prime_a, prime_b = i, j\n",
    "                break\n",
    "    print(prime_a, prime_b)"
   ]
  },
  {
   "cell_type": "code",
   "execution_count": null,
   "metadata": {},
   "outputs": [],
   "source": []
  }
 ],
 "metadata": {
  "kernelspec": {
   "display_name": "Python 3",
   "language": "python",
   "name": "python3"
  },
  "language_info": {
   "codemirror_mode": {
    "name": "ipython",
    "version": 3
   },
   "file_extension": ".py",
   "mimetype": "text/x-python",
   "name": "python",
   "nbconvert_exporter": "python",
   "pygments_lexer": "ipython3",
   "version": "3.7.1"
  }
 },
 "nbformat": 4,
 "nbformat_minor": 2
}
