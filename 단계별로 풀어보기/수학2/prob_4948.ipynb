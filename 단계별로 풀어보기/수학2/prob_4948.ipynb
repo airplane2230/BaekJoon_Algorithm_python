{
 "cells": [
  {
   "cell_type": "code",
   "execution_count": 40,
   "metadata": {},
   "outputs": [
    {
     "name": "stdout",
     "output_type": "stream",
     "text": [
      "10\n",
      "4\n",
      "13\n",
      "3\n",
      "100\n",
      "21\n",
      "1000\n",
      "135\n",
      "10000\n",
      "1033\n",
      "100000\n",
      "8392\n",
      "0\n"
     ]
    }
   ],
   "source": [
    "def is_prime(num):\n",
    "    if(num <= 1):\n",
    "        return False\n",
    "    i = 2\n",
    "    while i * i <= num:\n",
    "        if(num % i == 0):\n",
    "            return False\n",
    "        i += 1\n",
    "    return True\n",
    "\n",
    "num_list = [x for x in range(1, 123456 * 2 + 1)]\n",
    "for i in num_list:\n",
    "    if(is_prime(i)):\n",
    "        num_list[i - 1] = 1\n",
    "\n",
    "while(True):\n",
    "    num = int(input())\n",
    "    if(num == 1):\n",
    "        print(num)\n",
    "        continue\n",
    "    if(num == 0):\n",
    "        break\n",
    "    cnt = 0    \n",
    "    for i in range(num + 1, 2 * num + 1):\n",
    "        if(num_list[i - 1] == 1):\n",
    "            cnt += 1\n",
    "    print(cnt)"
   ]
  }
 ],
 "metadata": {
  "kernelspec": {
   "display_name": "Python 3",
   "language": "python",
   "name": "python3"
  },
  "language_info": {
   "codemirror_mode": {
    "name": "ipython",
    "version": 3
   },
   "file_extension": ".py",
   "mimetype": "text/x-python",
   "name": "python",
   "nbconvert_exporter": "python",
   "pygments_lexer": "ipython3",
   "version": "3.7.1"
  }
 },
 "nbformat": 4,
 "nbformat_minor": 2
}
