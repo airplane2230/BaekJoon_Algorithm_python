{
 "cells": [
  {
   "cell_type": "code",
   "execution_count": 28,
   "metadata": {},
   "outputs": [
    {
     "name": "stdout",
     "output_type": "stream",
     "text": [
      "3\n",
      "0 0 13 40 0 37\n",
      "2\n",
      "0 0 3 0 7 4\n",
      "1\n",
      "1 1 1 1 1 5\n",
      "0\n"
     ]
    }
   ],
   "source": [
    "Case = int(input())\n",
    "for _ in range(Case):\n",
    "    x_1, y_1, r_1, x_2, y_2, r_2 = list(map(int, input().split()))\n",
    "    d = ((x_1 - x_2) ** 2) + ((y_1 - y_2) ** 2)\n",
    "    # d에 제곱근을 씌우지 않았기 때문에 단위를 맞추기 위해 \n",
    "    # 비교에 주로 사용될 sum, diff를 선언하여 제곱시켜줍니다.\n",
    "    r_sum = (r_1 + r_2) ** 2\n",
    "    r_diff = (r_1 - r_2) ** 2\n",
    "\n",
    "    # 좌표가 같은 경우\n",
    "    if(d == 0):\n",
    "        # 원이 겹칠때\n",
    "        if(r_1 == r_2):\n",
    "            print(-1)\n",
    "        # 한 원이 다른 원을 포함하고 있는 경우\n",
    "        else:\n",
    "            print(0)\n",
    "    # 좌표가 달라 원이 서로 떨어져 있는 경우\n",
    "    else:\n",
    "        # 한점만 겹치는 경우\n",
    "        if((d == r_sum) or (d == r_diff)):\n",
    "            print(1)\n",
    "        # 겹치는 점이 2개인 경우\n",
    "        elif((d < r_sum) and (d > r_diff)):\n",
    "            print(2)\n",
    "        # 아예 떨어져 있는 경우\n",
    "        else:\n",
    "            print(0)"
   ]
  },
  {
   "cell_type": "code",
   "execution_count": null,
   "metadata": {},
   "outputs": [],
   "source": []
  }
 ],
 "metadata": {
  "kernelspec": {
   "display_name": "Python 3",
   "language": "python",
   "name": "python3"
  },
  "language_info": {
   "codemirror_mode": {
    "name": "ipython",
    "version": 3
   },
   "file_extension": ".py",
   "mimetype": "text/x-python",
   "name": "python",
   "nbconvert_exporter": "python",
   "pygments_lexer": "ipython3",
   "version": "3.7.1"
  }
 },
 "nbformat": 4,
 "nbformat_minor": 2
}
