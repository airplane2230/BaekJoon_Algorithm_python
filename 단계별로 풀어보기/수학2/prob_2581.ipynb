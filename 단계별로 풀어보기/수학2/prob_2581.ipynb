{
 "cells": [
  {
   "cell_type": "code",
   "execution_count": 19,
   "metadata": {},
   "outputs": [
    {
     "name": "stdout",
     "output_type": "stream",
     "text": [
      "60\n",
      "100\n",
      "(620, 61)\n"
     ]
    }
   ],
   "source": [
    "M = int(input())\n",
    "N = int(input())\n",
    "def is_prime(num):\n",
    "    if(num <= 1):\n",
    "        return False\n",
    "    \n",
    "    i = 2\n",
    "    while i * i <= num:\n",
    "        if num % i == 0:\n",
    "            return False\n",
    "        \n",
    "        i += 1\n",
    "    return True\n",
    "\n",
    "sum = 0\n",
    "minv = 0\n",
    "\n",
    "for i in range(M, N + 1):\n",
    "    if(is_prime(i)):\n",
    "        sum += i\n",
    "        if(minv == 0 or minv > i):\n",
    "            minv = i\n",
    "        \n",
    "if(sum == 0):\n",
    "    print(-1)\n",
    "else:\n",
    "    print(sum)\n",
    "    print(minv)"
   ]
  },
  {
   "cell_type": "code",
   "execution_count": null,
   "metadata": {},
   "outputs": [],
   "source": []
  }
 ],
 "metadata": {
  "kernelspec": {
   "display_name": "Python 3",
   "language": "python",
   "name": "python3"
  },
  "language_info": {
   "codemirror_mode": {
    "name": "ipython",
    "version": 3
   },
   "file_extension": ".py",
   "mimetype": "text/x-python",
   "name": "python",
   "nbconvert_exporter": "python",
   "pygments_lexer": "ipython3",
   "version": "3.7.1"
  }
 },
 "nbformat": 4,
 "nbformat_minor": 2
}
