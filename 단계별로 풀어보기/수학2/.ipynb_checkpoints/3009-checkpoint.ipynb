{
 "cells": [
  {
   "cell_type": "code",
   "execution_count": 21,
   "metadata": {},
   "outputs": [
    {
     "name": "stdout",
     "output_type": "stream",
     "text": [
      "30 20\n",
      "10 10\n",
      "10 20\n"
     ]
    }
   ],
   "source": [
    "x_points = []\n",
    "y_points = []\n",
    "for _ in range(3):\n",
    "    x, y = list(map(int, input().split()))\n",
    "    x_points.append(x)\n",
    "    y_points.append(y)\n",
    "    \n",
    "point_x = x_points[2] if x_points[0] == x_points [1] else (x_points[1] if x_points[0] == x_points[2] else x_points[0])\n",
    "point_y = y_points[2] if y_points[0] == y_points [1] else (y_points[1] if y_points[0] == y_points[2] else y_points[0])\n",
    "print('{} {}'.format(point_x, point_y))"
   ]
  }
 ],
 "metadata": {
  "kernelspec": {
   "display_name": "Python 3",
   "language": "python",
   "name": "python3"
  },
  "language_info": {
   "codemirror_mode": {
    "name": "ipython",
    "version": 3
   },
   "file_extension": ".py",
   "mimetype": "text/x-python",
   "name": "python",
   "nbconvert_exporter": "python",
   "pygments_lexer": "ipython3",
   "version": "3.7.1"
  }
 },
 "nbformat": 4,
 "nbformat_minor": 2
}
