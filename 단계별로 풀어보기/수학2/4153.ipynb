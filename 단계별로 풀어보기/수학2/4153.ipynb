{
 "cells": [
  {
   "cell_type": "code",
   "execution_count": 15,
   "metadata": {},
   "outputs": [
    {
     "name": "stdout",
     "output_type": "stream",
     "text": [
      "0 0 0\n"
     ]
    }
   ],
   "source": [
    "while(True):\n",
    "    num_list = list(map(int, input().split()))\n",
    "    if(sum(num_list) == 0):\n",
    "        break\n",
    "    \n",
    "    hypo = max(num_list); num_list.remove(hypo)\n",
    "    num = sum(list(map(lambda x : x ** 2, num_list)))\n",
    "    if((hypo ** 2) == num):\n",
    "        print('right')\n",
    "    else:\n",
    "        print('wrong')"
   ]
  }
 ],
 "metadata": {
  "kernelspec": {
   "display_name": "Python 3",
   "language": "python",
   "name": "python3"
  },
  "language_info": {
   "codemirror_mode": {
    "name": "ipython",
    "version": 3
   },
   "file_extension": ".py",
   "mimetype": "text/x-python",
   "name": "python",
   "nbconvert_exporter": "python",
   "pygments_lexer": "ipython3",
   "version": "3.7.1"
  }
 },
 "nbformat": 4,
 "nbformat_minor": 2
}
