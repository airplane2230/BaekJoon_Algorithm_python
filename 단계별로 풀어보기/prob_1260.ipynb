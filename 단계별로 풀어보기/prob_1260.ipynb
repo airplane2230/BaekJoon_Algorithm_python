{
 "cells": [
  {
   "cell_type": "code",
   "execution_count": 23,
   "metadata": {},
   "outputs": [
    {
     "name": "stdout",
     "output_type": "stream",
     "text": [
      "4 5 1\n"
     ]
    }
   ],
   "source": [
    "N, M, V = map(int, input().split())\n",
    "\n",
    "matrix = [[0] * (N + 1) for _ in range(N+1)]\n",
    "for _ in range(M):\n",
    "    link = list(map(int, input().split()))\n",
    "    matrix[link[0]][link[1]] = 1\n",
    "    matrix[link[1]][link[0]] = 1\n",
    "    \n",
    "def dfs(current_node, row, foot_prints):\n",
    "    foot_prints += [current_node]\n",
    "    for search_node in range(len(row[current_node])):\n",
    "        if row[current_node][search_node] and search_node not in foot_prints:\n",
    "            foot_prints = dfs(search_node, row, foot_prints)\n",
    "            \n",
    "    return foot_prints\n",
    "\n",
    "def bfs(start):\n",
    "    queue = [start]\n",
    "    foot_prints = [start]\n",
    "    while queue:\n",
    "        current_node = queue.pop(0)\n",
    "        for search_node in range(len(matrix[current_node])):\n",
    "            if matrix[current_node][search_node] and search_node not in foot_prints:\n",
    "                foot_prints += [search_node]\n",
    "                queue += [search_node]\n",
    "                \n",
    "    return foot_prints\n",
    "\n",
    "print(*dfs(V, matrix, []))\n",
    "print(*bfs(V))"
   ]
  },
  {
   "cell_type": "code",
   "execution_count": 17,
   "metadata": {},
   "outputs": [
    {
     "name": "stdout",
     "output_type": "stream",
     "text": [
      "list [1, 1, 1, 1, 1]\n",
      "tuple (1, 1, 1, 1, 1)\n"
     ]
    }
   ],
   "source": [
    "# 리스트 확장\n",
    "test = [1] * 5\n",
    "print('list {}'.format(test))\n",
    "\n",
    "# 튜플 확장\n",
    "test = (1, ) * 5\n",
    "print('tuple {}'.format(test))"
   ]
  },
  {
   "cell_type": "code",
   "execution_count": 24,
   "metadata": {},
   "outputs": [
    {
     "name": "stdout",
     "output_type": "stream",
     "text": [
      "[1, 2, 3, 4] 5\n",
      "1 [2, 3, 4] 5\n"
     ]
    }
   ],
   "source": [
    "test = [1, 2, 3, 4, 5]\n",
    "\n",
    "*a, b = test\n",
    "print(a, b) # [1, 2, 3, 4], 5\n",
    "\n",
    "a, *b, c = test\n",
    "print(a, b, c) # 1, [2, 3, 4], 5"
   ]
  },
  {
   "cell_type": "code",
   "execution_count": 21,
   "metadata": {},
   "outputs": [
    {
     "name": "stdout",
     "output_type": "stream",
     "text": [
      "1 2 3 4\n",
      "1 2 3 4\n"
     ]
    }
   ],
   "source": [
    "# list unpacking\n",
    "test = [1, 2, 3, 4]\n",
    "print(*test) # 1 2 3 4\n",
    "\n",
    "# tuple unpacking\n",
    "test = (5, 6, 7, 8)\n",
    "print(*test) # 5 6 7 8"
   ]
  },
  {
   "cell_type": "code",
   "execution_count": 19,
   "metadata": {},
   "outputs": [
    {
     "name": "stdout",
     "output_type": "stream",
     "text": [
      "('a', 'b')\n",
      "{'a': 100, 'b': 200}\n"
     ]
    }
   ],
   "source": [
    "def args_function(*args):\n",
    "    print(args)\n",
    "\n",
    "def kwargs_function(**kwargs):\n",
    "    print(kwargs)\n",
    "    \n",
    "args_function('a', 'b') # ('a', 'b')\n",
    "kwargs_function(a = 100, b = 200) # {'a':100, 'b':200}"
   ]
  }
 ],
 "metadata": {
  "kernelspec": {
   "display_name": "Python 3",
   "language": "python",
   "name": "python3"
  },
  "language_info": {
   "codemirror_mode": {
    "name": "ipython",
    "version": 3
   },
   "file_extension": ".py",
   "mimetype": "text/x-python",
   "name": "python",
   "nbconvert_exporter": "python",
   "pygments_lexer": "ipython3",
   "version": "3.7.1"
  }
 },
 "nbformat": 4,
 "nbformat_minor": 2
}
