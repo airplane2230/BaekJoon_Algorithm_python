{
 "cells": [
  {
   "cell_type": "code",
   "execution_count": 14,
   "metadata": {},
   "outputs": [
    {
     "name": "stdout",
     "output_type": "stream",
     "text": [
      "3\n",
      "7\n",
      "1 3\n",
      "1 2\n",
      "3 2\n",
      "1 3\n",
      "2 1\n",
      "2 3\n",
      "1 3\n"
     ]
    }
   ],
   "source": [
    "K = int(input())\n",
    "print_list = []\n",
    "\n",
    "def hanoi(num, a, b, c, print_list):\n",
    "    if(num == 1):\n",
    "        print_list.append([a, c])\n",
    "        return None\n",
    "    \n",
    "    hanoi(num - 1, a, c, b, print_list)\n",
    "    print_list.append([a, c])\n",
    "    hanoi(num - 1, b, a, c, print_list)\n",
    "hanoi(K, 1, 2, 3, print_list)\n",
    "\n",
    "print(len(print_list))\n",
    "for a, b in print_list:\n",
    "    print('{} {}'.format(a, b))"
   ]
  },
  {
   "cell_type": "code",
   "execution_count": null,
   "metadata": {},
   "outputs": [],
   "source": []
  }
 ],
 "metadata": {
  "kernelspec": {
   "display_name": "Python 3",
   "language": "python",
   "name": "python3"
  },
  "language_info": {
   "codemirror_mode": {
    "name": "ipython",
    "version": 3
   },
   "file_extension": ".py",
   "mimetype": "text/x-python",
   "name": "python",
   "nbconvert_exporter": "python",
   "pygments_lexer": "ipython3",
   "version": "3.7.1"
  }
 },
 "nbformat": 4,
 "nbformat_minor": 2
}
