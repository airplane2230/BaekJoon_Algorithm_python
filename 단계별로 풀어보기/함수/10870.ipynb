{
 "cells": [
  {
   "cell_type": "code",
   "execution_count": 2,
   "metadata": {},
   "outputs": [
    {
     "name": "stdout",
     "output_type": "stream",
     "text": [
      "10\n",
      "55\n"
     ]
    }
   ],
   "source": [
    "num = int(input())\n",
    "\n",
    "def fibonach(a, b, count):\n",
    "    if(num == 0):\n",
    "        print(a)\n",
    "    elif(num == 1):\n",
    "        print(b)\n",
    "    else:  \n",
    "        c = a + b\n",
    "\n",
    "        if(count == num):\n",
    "            return print(c)\n",
    "\n",
    "        return fibonach(b, c, count + 1)\n",
    "fibonach(0, 1, 2)"
   ]
  },
  {
   "cell_type": "code",
   "execution_count": null,
   "metadata": {},
   "outputs": [],
   "source": []
  }
 ],
 "metadata": {
  "kernelspec": {
   "display_name": "Python 3",
   "language": "python",
   "name": "python3"
  },
  "language_info": {
   "codemirror_mode": {
    "name": "ipython",
    "version": 3
   },
   "file_extension": ".py",
   "mimetype": "text/x-python",
   "name": "python",
   "nbconvert_exporter": "python",
   "pygments_lexer": "ipython3",
   "version": "3.7.1"
  }
 },
 "nbformat": 4,
 "nbformat_minor": 2
}
