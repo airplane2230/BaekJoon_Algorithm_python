{
 "cells": [
  {
   "cell_type": "code",
   "execution_count": 33,
   "metadata": {},
   "outputs": [
    {
     "name": "stdout",
     "output_type": "stream",
     "text": [
      "10\n",
      "1 1\n",
      "2 2\n",
      "6 3\n",
      "24 4\n",
      "120 5\n",
      "720 6\n",
      "5040 7\n",
      "40320 8\n",
      "362880 9\n",
      "3628800 10\n",
      "3628800\n"
     ]
    }
   ],
   "source": [
    "num = int(input())\n",
    "res = 1\n",
    "\n",
    "def factorial(res, count):\n",
    "    if(num == 0):\n",
    "        return print(1)\n",
    "    else:\n",
    "        res *= count\n",
    "\n",
    "        if(count == num):\n",
    "            return print(res)\n",
    "        \n",
    "        return factorial(res, count + 1)\n",
    "factorial(res, 1)"
   ]
  },
  {
   "cell_type": "code",
   "execution_count": null,
   "metadata": {},
   "outputs": [],
   "source": []
  }
 ],
 "metadata": {
  "kernelspec": {
   "display_name": "Python 3",
   "language": "python",
   "name": "python3"
  },
  "language_info": {
   "codemirror_mode": {
    "name": "ipython",
    "version": 3
   },
   "file_extension": ".py",
   "mimetype": "text/x-python",
   "name": "python",
   "nbconvert_exporter": "python",
   "pygments_lexer": "ipython3",
   "version": "3.7.1"
  }
 },
 "nbformat": 4,
 "nbformat_minor": 2
}
