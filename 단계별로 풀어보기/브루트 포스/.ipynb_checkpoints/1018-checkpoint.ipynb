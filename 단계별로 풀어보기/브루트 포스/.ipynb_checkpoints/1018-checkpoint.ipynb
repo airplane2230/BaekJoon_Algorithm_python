{
 "cells": [
  {
   "cell_type": "code",
   "execution_count": 61,
   "metadata": {},
   "outputs": [
    {
     "name": "stdout",
     "output_type": "stream",
     "text": [
      "8 8\n"
     ]
    }
   ],
   "source": [
    "N, M = map(int, input().split())\n",
    "map_list = [list(input()) for _ in range(N)]\n",
    "\n",
    "min_num = None\n",
    "\n",
    "for i in range(N - 7):\n",
    "    for j in range(M - 7):\n",
    "        num1, num2 = 0, 0\n",
    "        # W\n",
    "        for k in range(i, i + 8):\n",
    "            for l in range(j, j + 8):\n",
    "                if((k + l - i - j) % 2 == 0):\n",
    "                    if(map_list[k][l] == 'B'):\n",
    "                        num1 += 1\n",
    "                else:\n",
    "                    if(map_list[k][l] == 'W'):\n",
    "                        num1 += 1\n",
    "                        \n",
    "        #B         \n",
    "        for k in range(i, i + 8):\n",
    "            for l in range(j, j + 8):\n",
    "                if((k + l - i - j) % 2 == 0):\n",
    "                    if(map_list[k][l] == 'W'):\n",
    "                        num2 += 1\n",
    "                else:\n",
    "                    if(map_list[k][l] == 'B'):\n",
    "                        num2 += 1\n",
    "                        \n",
    "        change_box = num1 if num1 < num2 else num2\n",
    "        if(min_num is None):\n",
    "            min_num = change_box\n",
    "        else:\n",
    "            min_num = change_box if min_num > change_box else min_num\n",
    "            \n",
    "print(min_num)"
   ]
  },
  {
   "cell_type": "code",
   "execution_count": null,
   "metadata": {},
   "outputs": [],
   "source": []
  }
 ],
 "metadata": {
  "kernelspec": {
   "display_name": "Python 3",
   "language": "python",
   "name": "python3"
  },
  "language_info": {
   "codemirror_mode": {
    "name": "ipython",
    "version": 3
   },
   "file_extension": ".py",
   "mimetype": "text/x-python",
   "name": "python",
   "nbconvert_exporter": "python",
   "pygments_lexer": "ipython3",
   "version": "3.7.1"
  }
 },
 "nbformat": 4,
 "nbformat_minor": 2
}
