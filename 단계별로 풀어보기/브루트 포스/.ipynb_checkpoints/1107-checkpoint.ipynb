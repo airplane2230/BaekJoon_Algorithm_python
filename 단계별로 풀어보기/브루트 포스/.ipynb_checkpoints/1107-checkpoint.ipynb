{
 "cells": [
  {
   "cell_type": "code",
   "execution_count": 57,
   "metadata": {
    "scrolled": true
   },
   "outputs": [
    {
     "name": "stdout",
     "output_type": "stream",
     "text": [
      "10\n",
      "0\n",
      "2\n"
     ]
    }
   ],
   "source": [
    "enable_btn_set = {str(x) for x in range(11)}\n",
    "\n",
    "N = int(input())\n",
    "break_button_num = int(input())\n",
    "if(break_button_num == 0):\n",
    "    pass\n",
    "else:    \n",
    "    break_button = set(input().split())\n",
    "    enable_btn_set -= break_button\n",
    "    \n",
    "result = abs(N - 100)\n",
    "for i in range(1000001):\n",
    "    is_enable = True\n",
    "    for div_num in str(i):\n",
    "        if(div_num not in enable_btn_set):\n",
    "            is_enable = False\n",
    "    if(is_enable):\n",
    "        result = min(result, abs(N - i) + len(str(i)))\n",
    "        \n",
    "print(result)"
   ]
  }
 ],
 "metadata": {
  "kernelspec": {
   "display_name": "tensorflow",
   "language": "python",
   "name": "tensorflow"
  },
  "language_info": {
   "codemirror_mode": {
    "name": "ipython",
    "version": 3
   },
   "file_extension": ".py",
   "mimetype": "text/x-python",
   "name": "python",
   "nbconvert_exporter": "python",
   "pygments_lexer": "ipython3",
   "version": "3.6.3"
  }
 },
 "nbformat": 4,
 "nbformat_minor": 2
}
