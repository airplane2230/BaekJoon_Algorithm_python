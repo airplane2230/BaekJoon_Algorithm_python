{
 "cells": [
  {
   "cell_type": "code",
   "execution_count": 124,
   "metadata": {},
   "outputs": [
    {
     "name": "stdout",
     "output_type": "stream",
     "text": [
      "5 21\n",
      "5 6 7 8 9\n",
      "21\n"
     ]
    }
   ],
   "source": [
    "from itertools import combinations\n",
    "\n",
    "N, M = map(int, input().split())\n",
    "num_list = list(map(int, input().split()))\n",
    "res_list = []\n",
    "for comb in combinations(num_list, 3):\n",
    "    comb_sum = sum(comb)\n",
    "    res_list.append(comb_sum)\n",
    "    \n",
    "res_list = list(filter(lambda t: t <= 0,list(set(map(lambda x : x - M, res_list)))))\n",
    "res_list = sorted(res_list, key = int, reverse = True)\n",
    "print(M + res_list[0])"
   ]
  }
 ],
 "metadata": {
  "kernelspec": {
   "display_name": "Python 3",
   "language": "python",
   "name": "python3"
  },
  "language_info": {
   "codemirror_mode": {
    "name": "ipython",
    "version": 3
   },
   "file_extension": ".py",
   "mimetype": "text/x-python",
   "name": "python",
   "nbconvert_exporter": "python",
   "pygments_lexer": "ipython3",
   "version": "3.7.1"
  }
 },
 "nbformat": 4,
 "nbformat_minor": 2
}
