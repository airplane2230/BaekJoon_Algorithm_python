{
 "cells": [
  {
   "cell_type": "code",
   "execution_count": 58,
   "metadata": {},
   "outputs": [
    {
     "name": "stdout",
     "output_type": "stream",
     "text": [
      "5\n",
      "55 185\n",
      "58 183\n",
      "88 186\n",
      "60 175\n",
      "46 155\n",
      "2 2 1 2 5\n"
     ]
    }
   ],
   "source": [
    "Case = int(input())\n",
    "person_info = [list(map(int, input().split())) for _ in range(Case)]\n",
    "\n",
    "rank_list = [1] * Case\n",
    "for i in range(len(person_info)):\n",
    "    for j in range(len(person_info)):\n",
    "        # 나 자신과의 비교를 제외. 없어도 정답임\n",
    "        if(person_info[i][0] != person_info[j][0] and person_info[i][1] != person_info[j][1]):\n",
    "            if((person_info[i][0] > person_info[j][0]) and (person_info[i][1] > person_info[j][1])):\n",
    "                rank_list[j] += 1\n",
    "print(*rank_list)"
   ]
  }
 ],
 "metadata": {
  "kernelspec": {
   "display_name": "Python 3",
   "language": "python",
   "name": "python3"
  },
  "language_info": {
   "codemirror_mode": {
    "name": "ipython",
    "version": 3
   },
   "file_extension": ".py",
   "mimetype": "text/x-python",
   "name": "python",
   "nbconvert_exporter": "python",
   "pygments_lexer": "ipython3",
   "version": "3.7.1"
  }
 },
 "nbformat": 4,
 "nbformat_minor": 2
}
