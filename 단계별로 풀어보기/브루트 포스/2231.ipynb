{
 "cells": [
  {
   "cell_type": "code",
   "execution_count": 141,
   "metadata": {},
   "outputs": [
    {
     "name": "stdout",
     "output_type": "stream",
     "text": [
      "216\n",
      "198\n"
     ]
    }
   ],
   "source": [
    "# 브루트포스 문제는 단순 무식하게 접근한다.\n",
    "N = int(input())\n",
    "print_num = 0\n",
    "for i in range(1, N+1):\n",
    "    div_num = list(map(int, str(i)))\n",
    "    sum_num = i + sum(div_num)\n",
    "    if(sum_num == N):\n",
    "        print_num = i\n",
    "        break\n",
    "print(print_num)"
   ]
  },
  {
   "cell_type": "code",
   "execution_count": null,
   "metadata": {},
   "outputs": [],
   "source": []
  }
 ],
 "metadata": {
  "kernelspec": {
   "display_name": "Python 3",
   "language": "python",
   "name": "python3"
  },
  "language_info": {
   "codemirror_mode": {
    "name": "ipython",
    "version": 3
   },
   "file_extension": ".py",
   "mimetype": "text/x-python",
   "name": "python",
   "nbconvert_exporter": "python",
   "pygments_lexer": "ipython3",
   "version": "3.7.1"
  }
 },
 "nbformat": 4,
 "nbformat_minor": 2
}
